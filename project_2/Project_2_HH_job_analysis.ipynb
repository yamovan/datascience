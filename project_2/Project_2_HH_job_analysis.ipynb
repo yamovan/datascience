{
  "cells": [
    {
      "cell_type": "markdown",
      "id": "42289889-bd57-434e-9637-d3e354756316",
      "metadata": {
        "id": "42289889-bd57-434e-9637-d3e354756316"
      },
      "source": [
        "<center> <img src = https://raw.githubusercontent.com/AndreyRysistov/DatasetsForPandas/main/hh%20label.jpg alt=\"drawing\" style=\"width:400px;\">"
      ]
    },
    {
      "cell_type": "markdown",
      "id": "829cb75b-f14e-4ba8-9195-7ba929a7d656",
      "metadata": {
        "id": "829cb75b-f14e-4ba8-9195-7ba929a7d656",
        "tags": []
      },
      "source": [
        "# <center> Проект: Анализ вакансий из HeadHunter\n",
        "   "
      ]
    },
    {
      "cell_type": "code",
      "execution_count": 3,
      "id": "dccfde33-2452-43fb-a8a5-5c6ebc02a71d",
      "metadata": {
        "id": "dccfde33-2452-43fb-a8a5-5c6ebc02a71d"
      },
      "outputs": [],
      "source": [
        "import pandas as pd\n",
        "import psycopg2\n",
        "import plotly.express as px"
      ]
    },
    {
      "cell_type": "markdown",
      "id": "0dc6476b-7a00-44f1-ac93-6e3baed33a29",
      "metadata": {
        "id": "0dc6476b-7a00-44f1-ac93-6e3baed33a29"
      },
      "source": [
        "# Юнит 3. Предварительный анализ данных"
      ]
    },
    {
      "cell_type": "markdown",
      "id": "889782b6-8d1c-410e-8920-e57f27917c64",
      "metadata": {
        "id": "889782b6-8d1c-410e-8920-e57f27917c64"
      },
      "source": [
        "1) Напишите запрос, который посчитает количество вакансий в нашей базе (вакансии находятся в таблице vacancies). "
      ]
    },
    {
      "cell_type": "code",
      "execution_count": 5,
      "id": "bc39e68e-ed02-4ee2-9235-7258a2f867a8",
      "metadata": {
        "id": "bc39e68e-ed02-4ee2-9235-7258a2f867a8"
      },
      "outputs": [
        {
          "name": "stderr",
          "output_type": "stream",
          "text": [
            "h:\\DataScience\\programs\\lib\\site-packages\\pandas\\io\\sql.py:762: UserWarning: pandas only support SQLAlchemy connectable(engine/connection) ordatabase string URI or sqlite3 DBAPI2 connectionother DBAPI2 objects are not tested, please consider using SQLAlchemy\n",
            "  warnings.warn(\n"
          ]
        },
        {
          "data": {
            "text/html": [
              "<div>\n",
              "<style scoped>\n",
              "    .dataframe tbody tr th:only-of-type {\n",
              "        vertical-align: middle;\n",
              "    }\n",
              "\n",
              "    .dataframe tbody tr th {\n",
              "        vertical-align: top;\n",
              "    }\n",
              "\n",
              "    .dataframe thead th {\n",
              "        text-align: right;\n",
              "    }\n",
              "</style>\n",
              "<table border=\"1\" class=\"dataframe\">\n",
              "  <thead>\n",
              "    <tr style=\"text-align: right;\">\n",
              "      <th></th>\n",
              "      <th>Количество вакансий</th>\n",
              "    </tr>\n",
              "  </thead>\n",
              "  <tbody>\n",
              "    <tr>\n",
              "      <th>0</th>\n",
              "      <td>49197</td>\n",
              "    </tr>\n",
              "  </tbody>\n",
              "</table>\n",
              "</div>"
            ],
            "text/plain": [
              "   Количество вакансий\n",
              "0                49197"
            ]
          },
          "execution_count": 5,
          "metadata": {},
          "output_type": "execute_result"
        }
      ],
      "source": [
        "# текст запроса\n",
        "query_3_1 = f'''\n",
        "            SELECT COUNT(*) \"Количество вакансий\"\n",
        "            FROM public.vacancies\n",
        "            '''\n",
        "\n",
        "# результат запроса\n",
        "total_vacancies = pd.read_sql_query(query_3_1, connection)\n",
        "total_vacancies\n"
      ]
    },
    {
      "cell_type": "markdown",
      "id": "b583485d-1f9e-494e-ada4-80ffff7c53d6",
      "metadata": {
        "id": "b583485d-1f9e-494e-ada4-80ffff7c53d6"
      },
      "source": [
        "2) Напишите запрос, который посчитает количество работодателей (таблица employers). "
      ]
    },
    {
      "cell_type": "code",
      "execution_count": 6,
      "id": "5408c52c-3407-4a63-b25b-1aafa2322d28",
      "metadata": {
        "id": "5408c52c-3407-4a63-b25b-1aafa2322d28"
      },
      "outputs": [
        {
          "name": "stderr",
          "output_type": "stream",
          "text": [
            "h:\\DataScience\\programs\\lib\\site-packages\\pandas\\io\\sql.py:762: UserWarning: pandas only support SQLAlchemy connectable(engine/connection) ordatabase string URI or sqlite3 DBAPI2 connectionother DBAPI2 objects are not tested, please consider using SQLAlchemy\n",
            "  warnings.warn(\n"
          ]
        },
        {
          "data": {
            "text/html": [
              "<div>\n",
              "<style scoped>\n",
              "    .dataframe tbody tr th:only-of-type {\n",
              "        vertical-align: middle;\n",
              "    }\n",
              "\n",
              "    .dataframe tbody tr th {\n",
              "        vertical-align: top;\n",
              "    }\n",
              "\n",
              "    .dataframe thead th {\n",
              "        text-align: right;\n",
              "    }\n",
              "</style>\n",
              "<table border=\"1\" class=\"dataframe\">\n",
              "  <thead>\n",
              "    <tr style=\"text-align: right;\">\n",
              "      <th></th>\n",
              "      <th>Количество работодателей</th>\n",
              "    </tr>\n",
              "  </thead>\n",
              "  <tbody>\n",
              "    <tr>\n",
              "      <th>0</th>\n",
              "      <td>23501</td>\n",
              "    </tr>\n",
              "  </tbody>\n",
              "</table>\n",
              "</div>"
            ],
            "text/plain": [
              "   Количество работодателей\n",
              "0                     23501"
            ]
          },
          "execution_count": 6,
          "metadata": {},
          "output_type": "execute_result"
        }
      ],
      "source": [
        "# текст запроса\n",
        "query_3_2 = f'''\n",
        "            SELECT COUNT(*) \"Количество работодателей\"\n",
        "            FROM public.employers\n",
        "            '''\n",
        "\n",
        "# результат запроса\n",
        "total_employers = pd.read_sql_query(query_3_2, connection)\n",
        "total_employers"
      ]
    },
    {
      "cell_type": "markdown",
      "id": "a2bfff1f-c975-4bf6-84be-2185d79dcb76",
      "metadata": {
        "id": "a2bfff1f-c975-4bf6-84be-2185d79dcb76"
      },
      "source": [
        "3) Посчитайте с помощью запроса количество регионов (таблица areas)."
      ]
    },
    {
      "cell_type": "code",
      "execution_count": 7,
      "id": "1m8QJwBYhey6",
      "metadata": {
        "id": "1m8QJwBYhey6"
      },
      "outputs": [
        {
          "name": "stderr",
          "output_type": "stream",
          "text": [
            "h:\\DataScience\\programs\\lib\\site-packages\\pandas\\io\\sql.py:762: UserWarning: pandas only support SQLAlchemy connectable(engine/connection) ordatabase string URI or sqlite3 DBAPI2 connectionother DBAPI2 objects are not tested, please consider using SQLAlchemy\n",
            "  warnings.warn(\n"
          ]
        },
        {
          "data": {
            "text/html": [
              "<div>\n",
              "<style scoped>\n",
              "    .dataframe tbody tr th:only-of-type {\n",
              "        vertical-align: middle;\n",
              "    }\n",
              "\n",
              "    .dataframe tbody tr th {\n",
              "        vertical-align: top;\n",
              "    }\n",
              "\n",
              "    .dataframe thead th {\n",
              "        text-align: right;\n",
              "    }\n",
              "</style>\n",
              "<table border=\"1\" class=\"dataframe\">\n",
              "  <thead>\n",
              "    <tr style=\"text-align: right;\">\n",
              "      <th></th>\n",
              "      <th>Количество регионов</th>\n",
              "    </tr>\n",
              "  </thead>\n",
              "  <tbody>\n",
              "    <tr>\n",
              "      <th>0</th>\n",
              "      <td>1362</td>\n",
              "    </tr>\n",
              "  </tbody>\n",
              "</table>\n",
              "</div>"
            ],
            "text/plain": [
              "   Количество регионов\n",
              "0                 1362"
            ]
          },
          "execution_count": 7,
          "metadata": {},
          "output_type": "execute_result"
        }
      ],
      "source": [
        "# текст запроса\n",
        "query_3_3 = f'''\n",
        "            SELECT COUNT(*) \"Количество регионов\"\n",
        "            FROM public.areas\n",
        "            '''\n",
        "            \n",
        "# результат запроса\n",
        "total_areas = pd.read_sql_query(query_3_3, connection)\n",
        "total_areas"
      ]
    },
    {
      "cell_type": "markdown",
      "id": "41bb59f3-53cc-4a67-a5bc-bedf573955e4",
      "metadata": {
        "id": "41bb59f3-53cc-4a67-a5bc-bedf573955e4"
      },
      "source": [
        "4) Посчитате с помощью запроса количество сфер деятельности в базе (таблица industries)."
      ]
    },
    {
      "cell_type": "code",
      "execution_count": 8,
      "id": "d286cf4c-707b-4cd2-9190-7ab3587d04a1",
      "metadata": {
        "id": "d286cf4c-707b-4cd2-9190-7ab3587d04a1"
      },
      "outputs": [
        {
          "name": "stderr",
          "output_type": "stream",
          "text": [
            "h:\\DataScience\\programs\\lib\\site-packages\\pandas\\io\\sql.py:762: UserWarning: pandas only support SQLAlchemy connectable(engine/connection) ordatabase string URI or sqlite3 DBAPI2 connectionother DBAPI2 objects are not tested, please consider using SQLAlchemy\n",
            "  warnings.warn(\n"
          ]
        },
        {
          "data": {
            "text/html": [
              "<div>\n",
              "<style scoped>\n",
              "    .dataframe tbody tr th:only-of-type {\n",
              "        vertical-align: middle;\n",
              "    }\n",
              "\n",
              "    .dataframe tbody tr th {\n",
              "        vertical-align: top;\n",
              "    }\n",
              "\n",
              "    .dataframe thead th {\n",
              "        text-align: right;\n",
              "    }\n",
              "</style>\n",
              "<table border=\"1\" class=\"dataframe\">\n",
              "  <thead>\n",
              "    <tr style=\"text-align: right;\">\n",
              "      <th></th>\n",
              "      <th>Количество сфер деятельности</th>\n",
              "    </tr>\n",
              "  </thead>\n",
              "  <tbody>\n",
              "    <tr>\n",
              "      <th>0</th>\n",
              "      <td>294</td>\n",
              "    </tr>\n",
              "  </tbody>\n",
              "</table>\n",
              "</div>"
            ],
            "text/plain": [
              "   Количество сфер деятельности\n",
              "0                           294"
            ]
          },
          "execution_count": 8,
          "metadata": {},
          "output_type": "execute_result"
        }
      ],
      "source": [
        "# текст запроса\n",
        "query_3_4 = f'''\n",
        "            SELECT COUNT(industries) \"Количество сфер деятельности\"\n",
        "            FROM public.industries\n",
        "            '''\n",
        "\n",
        "# результат запроса\n",
        "total_industries = pd.read_sql_query(query_3_4, connection)\n",
        "total_industries"
      ]
    },
    {
      "cell_type": "markdown",
      "id": "b35f72e4",
      "metadata": {},
      "source": [
        "**Выводы по предварительному анализу данных:**\n",
        "- в базе содержится более 49 тысяч вакансий;\n",
        "- общее количество работодателей в таблице 23,5 тысячи, которые представлены в 294 сферах деятельности;\n",
        "- количество регионов более 1300.\n"
      ]
    },
    {
      "cell_type": "markdown",
      "id": "8d62a9f3-f64e-4fe7-bdac-c4dffa16155e",
      "metadata": {
        "id": "8d62a9f3-f64e-4fe7-bdac-c4dffa16155e"
      },
      "source": [
        "# Юнит 4. Детальный анализ вакансий"
      ]
    },
    {
      "cell_type": "markdown",
      "id": "93053d3d-b284-481a-9cf7-012d7014c0e0",
      "metadata": {
        "id": "93053d3d-b284-481a-9cf7-012d7014c0e0"
      },
      "source": [
        "1) Напишите запрос, который позволит узнать, сколько (cnt) вакансий в каждом регионе (area).\n",
        "Отсортируйте по количеству вакансий в порядке убывания."
      ]
    },
    {
      "cell_type": "code",
      "execution_count": 9,
      "id": "3f069da6-fdc9-4ae7-b514-fafe2675efd3",
      "metadata": {
        "id": "3f069da6-fdc9-4ae7-b514-fafe2675efd3"
      },
      "outputs": [],
      "source": [
        "# текст запроса\n",
        "query_4_1 = f'''\n",
        "            SELECT\n",
        "                COUNT(v.id) cnt, \n",
        "                a.name areas\n",
        "            FROM public.vacancies v\n",
        "            JOIN public.areas a on v.area_id = a.id\n",
        "            GROUP BY areas\n",
        "            ORDER BY count(v.id) desc\n",
        "            '''"
      ]
    },
    {
      "cell_type": "code",
      "execution_count": 10,
      "id": "P7QL86hrjhRJ",
      "metadata": {
        "id": "P7QL86hrjhRJ"
      },
      "outputs": [
        {
          "name": "stderr",
          "output_type": "stream",
          "text": [
            "h:\\DataScience\\programs\\lib\\site-packages\\pandas\\io\\sql.py:762: UserWarning: pandas only support SQLAlchemy connectable(engine/connection) ordatabase string URI or sqlite3 DBAPI2 connectionother DBAPI2 objects are not tested, please consider using SQLAlchemy\n",
            "  warnings.warn(\n"
          ]
        },
        {
          "data": {
            "text/html": [
              "<div>\n",
              "<style scoped>\n",
              "    .dataframe tbody tr th:only-of-type {\n",
              "        vertical-align: middle;\n",
              "    }\n",
              "\n",
              "    .dataframe tbody tr th {\n",
              "        vertical-align: top;\n",
              "    }\n",
              "\n",
              "    .dataframe thead th {\n",
              "        text-align: right;\n",
              "    }\n",
              "</style>\n",
              "<table border=\"1\" class=\"dataframe\">\n",
              "  <thead>\n",
              "    <tr style=\"text-align: right;\">\n",
              "      <th></th>\n",
              "      <th>cnt</th>\n",
              "      <th>areas</th>\n",
              "    </tr>\n",
              "  </thead>\n",
              "  <tbody>\n",
              "    <tr>\n",
              "      <th>0</th>\n",
              "      <td>5333</td>\n",
              "      <td>Москва</td>\n",
              "    </tr>\n",
              "    <tr>\n",
              "      <th>1</th>\n",
              "      <td>2851</td>\n",
              "      <td>Санкт-Петербург</td>\n",
              "    </tr>\n",
              "    <tr>\n",
              "      <th>2</th>\n",
              "      <td>2112</td>\n",
              "      <td>Минск</td>\n",
              "    </tr>\n",
              "    <tr>\n",
              "      <th>3</th>\n",
              "      <td>2006</td>\n",
              "      <td>Новосибирск</td>\n",
              "    </tr>\n",
              "    <tr>\n",
              "      <th>4</th>\n",
              "      <td>1892</td>\n",
              "      <td>Алматы</td>\n",
              "    </tr>\n",
              "    <tr>\n",
              "      <th>...</th>\n",
              "      <td>...</td>\n",
              "      <td>...</td>\n",
              "    </tr>\n",
              "    <tr>\n",
              "      <th>764</th>\n",
              "      <td>1</td>\n",
              "      <td>Тарко-Сале</td>\n",
              "    </tr>\n",
              "    <tr>\n",
              "      <th>765</th>\n",
              "      <td>1</td>\n",
              "      <td>Новоаннинский</td>\n",
              "    </tr>\n",
              "    <tr>\n",
              "      <th>766</th>\n",
              "      <td>1</td>\n",
              "      <td>Бирск</td>\n",
              "    </tr>\n",
              "    <tr>\n",
              "      <th>767</th>\n",
              "      <td>1</td>\n",
              "      <td>Сасово</td>\n",
              "    </tr>\n",
              "    <tr>\n",
              "      <th>768</th>\n",
              "      <td>1</td>\n",
              "      <td>Анна</td>\n",
              "    </tr>\n",
              "  </tbody>\n",
              "</table>\n",
              "<p>769 rows × 2 columns</p>\n",
              "</div>"
            ],
            "text/plain": [
              "      cnt            areas\n",
              "0    5333           Москва\n",
              "1    2851  Санкт-Петербург\n",
              "2    2112            Минск\n",
              "3    2006      Новосибирск\n",
              "4    1892           Алматы\n",
              "..    ...              ...\n",
              "764     1       Тарко-Сале\n",
              "765     1    Новоаннинский\n",
              "766     1            Бирск\n",
              "767     1           Сасово\n",
              "768     1             Анна\n",
              "\n",
              "[769 rows x 2 columns]"
            ]
          },
          "metadata": {},
          "output_type": "display_data"
        },
        {
          "data": {
            "text/html": [
              "<div>\n",
              "<style scoped>\n",
              "    .dataframe tbody tr th:only-of-type {\n",
              "        vertical-align: middle;\n",
              "    }\n",
              "\n",
              "    .dataframe tbody tr th {\n",
              "        vertical-align: top;\n",
              "    }\n",
              "\n",
              "    .dataframe thead th {\n",
              "        text-align: right;\n",
              "    }\n",
              "</style>\n",
              "<table border=\"1\" class=\"dataframe\">\n",
              "  <thead>\n",
              "    <tr style=\"text-align: right;\">\n",
              "      <th></th>\n",
              "      <th>cnt</th>\n",
              "      <th>areas</th>\n",
              "    </tr>\n",
              "  </thead>\n",
              "  <tbody>\n",
              "    <tr>\n",
              "      <th>0</th>\n",
              "      <td>5333</td>\n",
              "      <td>Москва</td>\n",
              "    </tr>\n",
              "    <tr>\n",
              "      <th>1</th>\n",
              "      <td>2851</td>\n",
              "      <td>Санкт-Петербург</td>\n",
              "    </tr>\n",
              "    <tr>\n",
              "      <th>2</th>\n",
              "      <td>2112</td>\n",
              "      <td>Минск</td>\n",
              "    </tr>\n",
              "    <tr>\n",
              "      <th>3</th>\n",
              "      <td>2006</td>\n",
              "      <td>Новосибирск</td>\n",
              "    </tr>\n",
              "    <tr>\n",
              "      <th>4</th>\n",
              "      <td>1892</td>\n",
              "      <td>Алматы</td>\n",
              "    </tr>\n",
              "  </tbody>\n",
              "</table>\n",
              "</div>"
            ],
            "text/plain": [
              "    cnt            areas\n",
              "0  5333           Москва\n",
              "1  2851  Санкт-Петербург\n",
              "2  2112            Минск\n",
              "3  2006      Новосибирск\n",
              "4  1892           Алматы"
            ]
          },
          "execution_count": 10,
          "metadata": {},
          "output_type": "execute_result"
        }
      ],
      "source": [
        "# результат запроса\n",
        "area_vacancies = pd.read_sql_query(query_4_1, connection)\n",
        "display(area_vacancies)\n",
        "# Пятерка лидеров по количеству вакансий:\n",
        "area_vacancies.head()"
      ]
    },
    {
      "cell_type": "markdown",
      "id": "4266f0b6-1646-492a-88b4-2f6a46502135",
      "metadata": {
        "id": "4266f0b6-1646-492a-88b4-2f6a46502135"
      },
      "source": [
        "2) Напишите запрос, чтобы определить у какого количества вакансий заполнено хотя бы одно из двух полей с зарплатой."
      ]
    },
    {
      "cell_type": "code",
      "execution_count": 11,
      "id": "0c44b350-72eb-4d65-8b54-a1fc449ba9fd",
      "metadata": {
        "id": "0c44b350-72eb-4d65-8b54-a1fc449ba9fd"
      },
      "outputs": [],
      "source": [
        "# текст запроса\n",
        "query_4_2 = f'''\n",
        "            SELECT COUNT(id) \"Количество вакансий с зарплатой\"\n",
        "            FROM public.vacancies\n",
        "            WHERE salary_from IS NOT NULL \n",
        "                OR salary_to IS NOT NULL \n",
        "            '''"
      ]
    },
    {
      "cell_type": "code",
      "execution_count": 12,
      "id": "rhvwaMDkoWTi",
      "metadata": {
        "id": "rhvwaMDkoWTi"
      },
      "outputs": [
        {
          "name": "stderr",
          "output_type": "stream",
          "text": [
            "h:\\DataScience\\programs\\lib\\site-packages\\pandas\\io\\sql.py:762: UserWarning: pandas only support SQLAlchemy connectable(engine/connection) ordatabase string URI or sqlite3 DBAPI2 connectionother DBAPI2 objects are not tested, please consider using SQLAlchemy\n",
            "  warnings.warn(\n"
          ]
        },
        {
          "data": {
            "text/html": [
              "<div>\n",
              "<style scoped>\n",
              "    .dataframe tbody tr th:only-of-type {\n",
              "        vertical-align: middle;\n",
              "    }\n",
              "\n",
              "    .dataframe tbody tr th {\n",
              "        vertical-align: top;\n",
              "    }\n",
              "\n",
              "    .dataframe thead th {\n",
              "        text-align: right;\n",
              "    }\n",
              "</style>\n",
              "<table border=\"1\" class=\"dataframe\">\n",
              "  <thead>\n",
              "    <tr style=\"text-align: right;\">\n",
              "      <th></th>\n",
              "      <th>Количество вакансий с зарплатой</th>\n",
              "    </tr>\n",
              "  </thead>\n",
              "  <tbody>\n",
              "    <tr>\n",
              "      <th>0</th>\n",
              "      <td>24073</td>\n",
              "    </tr>\n",
              "  </tbody>\n",
              "</table>\n",
              "</div>"
            ],
            "text/plain": [
              "   Количество вакансий с зарплатой\n",
              "0                            24073"
            ]
          },
          "execution_count": 12,
          "metadata": {},
          "output_type": "execute_result"
        }
      ],
      "source": [
        "# результат запроса\n",
        "not_null_salary = pd.read_sql_query(query_4_2, connection)\n",
        "not_null_salary"
      ]
    },
    {
      "cell_type": "markdown",
      "id": "635c4d5d-f323-4c66-b428-50a088120aa0",
      "metadata": {
        "id": "635c4d5d-f323-4c66-b428-50a088120aa0"
      },
      "source": [
        "3) Найдите средние значения для нижней и верхней границы зарплатной вилки. Округлите значения до целого."
      ]
    },
    {
      "cell_type": "code",
      "execution_count": 13,
      "id": "603cdbe4-0ec3-4106-8eaf-c73fcdd29165",
      "metadata": {
        "id": "603cdbe4-0ec3-4106-8eaf-c73fcdd29165"
      },
      "outputs": [],
      "source": [
        "# текст запроса\n",
        "query_4_3 = f'''\n",
        "            SELECT\n",
        "                ROUND(AVG(salary_from)) avg_salary_from,\n",
        "                ROUND(AVG(salary_to)) avg_salary_to\n",
        "            FROM public.vacancies\n",
        "            '''"
      ]
    },
    {
      "cell_type": "code",
      "execution_count": 14,
      "id": "pswpAb66ovZZ",
      "metadata": {
        "id": "pswpAb66ovZZ"
      },
      "outputs": [
        {
          "name": "stderr",
          "output_type": "stream",
          "text": [
            "h:\\DataScience\\programs\\lib\\site-packages\\pandas\\io\\sql.py:762: UserWarning: pandas only support SQLAlchemy connectable(engine/connection) ordatabase string URI or sqlite3 DBAPI2 connectionother DBAPI2 objects are not tested, please consider using SQLAlchemy\n",
            "  warnings.warn(\n"
          ]
        },
        {
          "data": {
            "text/html": [
              "<div>\n",
              "<style scoped>\n",
              "    .dataframe tbody tr th:only-of-type {\n",
              "        vertical-align: middle;\n",
              "    }\n",
              "\n",
              "    .dataframe tbody tr th {\n",
              "        vertical-align: top;\n",
              "    }\n",
              "\n",
              "    .dataframe thead th {\n",
              "        text-align: right;\n",
              "    }\n",
              "</style>\n",
              "<table border=\"1\" class=\"dataframe\">\n",
              "  <thead>\n",
              "    <tr style=\"text-align: right;\">\n",
              "      <th></th>\n",
              "      <th>avg_salary_from</th>\n",
              "      <th>avg_salary_to</th>\n",
              "    </tr>\n",
              "  </thead>\n",
              "  <tbody>\n",
              "    <tr>\n",
              "      <th>0</th>\n",
              "      <td>71065.0</td>\n",
              "      <td>110537.0</td>\n",
              "    </tr>\n",
              "  </tbody>\n",
              "</table>\n",
              "</div>"
            ],
            "text/plain": [
              "   avg_salary_from  avg_salary_to\n",
              "0          71065.0       110537.0"
            ]
          },
          "execution_count": 14,
          "metadata": {},
          "output_type": "execute_result"
        }
      ],
      "source": [
        "# результат запроса\n",
        "salary_mean = pd.read_sql_query(query_4_3, connection)\n",
        "salary_mean"
      ]
    },
    {
      "cell_type": "markdown",
      "id": "f3fdaec9-5fd3-4260-9cf5-1d7406b628a5",
      "metadata": {
        "id": "f3fdaec9-5fd3-4260-9cf5-1d7406b628a5"
      },
      "source": [
        "4) Напишите запрос, который выведет количество вакансий для каждого сочетания типа рабочего графика (schedule) и типа трудоустройства (employment), используемого в вакансиях. Результат отсортируйте по убыванию количества.\n"
      ]
    },
    {
      "cell_type": "code",
      "execution_count": 15,
      "id": "1ea710ec-871b-431e-9462-c7d0fd87011b",
      "metadata": {
        "id": "1ea710ec-871b-431e-9462-c7d0fd87011b"
      },
      "outputs": [],
      "source": [
        "# текст запроса\n",
        "query_4_4 = f'''\n",
        "            SELECT\n",
        "                schedule,\n",
        "                employment,\n",
        "                COUNT(id) cnt_vacancies\n",
        "            FROM public.vacancies\n",
        "            GROUP BY schedule, employment\n",
        "            ORDER BY count(id) desc\n",
        "            '''"
      ]
    },
    {
      "cell_type": "code",
      "execution_count": 16,
      "id": "lGUVqavdo4JQ",
      "metadata": {
        "id": "lGUVqavdo4JQ"
      },
      "outputs": [
        {
          "name": "stderr",
          "output_type": "stream",
          "text": [
            "h:\\DataScience\\programs\\lib\\site-packages\\pandas\\io\\sql.py:762: UserWarning: pandas only support SQLAlchemy connectable(engine/connection) ordatabase string URI or sqlite3 DBAPI2 connectionother DBAPI2 objects are not tested, please consider using SQLAlchemy\n",
            "  warnings.warn(\n"
          ]
        },
        {
          "data": {
            "text/html": [
              "<div>\n",
              "<style scoped>\n",
              "    .dataframe tbody tr th:only-of-type {\n",
              "        vertical-align: middle;\n",
              "    }\n",
              "\n",
              "    .dataframe tbody tr th {\n",
              "        vertical-align: top;\n",
              "    }\n",
              "\n",
              "    .dataframe thead th {\n",
              "        text-align: right;\n",
              "    }\n",
              "</style>\n",
              "<table border=\"1\" class=\"dataframe\">\n",
              "  <thead>\n",
              "    <tr style=\"text-align: right;\">\n",
              "      <th></th>\n",
              "      <th>schedule</th>\n",
              "      <th>employment</th>\n",
              "      <th>cnt_vacancies</th>\n",
              "    </tr>\n",
              "  </thead>\n",
              "  <tbody>\n",
              "    <tr>\n",
              "      <th>0</th>\n",
              "      <td>Полный день</td>\n",
              "      <td>Полная занятость</td>\n",
              "      <td>35367</td>\n",
              "    </tr>\n",
              "    <tr>\n",
              "      <th>1</th>\n",
              "      <td>Удаленная работа</td>\n",
              "      <td>Полная занятость</td>\n",
              "      <td>7802</td>\n",
              "    </tr>\n",
              "    <tr>\n",
              "      <th>2</th>\n",
              "      <td>Гибкий график</td>\n",
              "      <td>Полная занятость</td>\n",
              "      <td>1593</td>\n",
              "    </tr>\n",
              "    <tr>\n",
              "      <th>3</th>\n",
              "      <td>Удаленная работа</td>\n",
              "      <td>Частичная занятость</td>\n",
              "      <td>1312</td>\n",
              "    </tr>\n",
              "    <tr>\n",
              "      <th>4</th>\n",
              "      <td>Сменный график</td>\n",
              "      <td>Полная занятость</td>\n",
              "      <td>940</td>\n",
              "    </tr>\n",
              "    <tr>\n",
              "      <th>5</th>\n",
              "      <td>Полный день</td>\n",
              "      <td>Стажировка</td>\n",
              "      <td>569</td>\n",
              "    </tr>\n",
              "    <tr>\n",
              "      <th>6</th>\n",
              "      <td>Вахтовый метод</td>\n",
              "      <td>Полная занятость</td>\n",
              "      <td>367</td>\n",
              "    </tr>\n",
              "    <tr>\n",
              "      <th>7</th>\n",
              "      <td>Полный день</td>\n",
              "      <td>Частичная занятость</td>\n",
              "      <td>347</td>\n",
              "    </tr>\n",
              "    <tr>\n",
              "      <th>8</th>\n",
              "      <td>Гибкий график</td>\n",
              "      <td>Частичная занятость</td>\n",
              "      <td>312</td>\n",
              "    </tr>\n",
              "    <tr>\n",
              "      <th>9</th>\n",
              "      <td>Полный день</td>\n",
              "      <td>Проектная работа</td>\n",
              "      <td>141</td>\n",
              "    </tr>\n",
              "    <tr>\n",
              "      <th>10</th>\n",
              "      <td>Удаленная работа</td>\n",
              "      <td>Проектная работа</td>\n",
              "      <td>133</td>\n",
              "    </tr>\n",
              "    <tr>\n",
              "      <th>11</th>\n",
              "      <td>Гибкий график</td>\n",
              "      <td>Стажировка</td>\n",
              "      <td>116</td>\n",
              "    </tr>\n",
              "    <tr>\n",
              "      <th>12</th>\n",
              "      <td>Сменный график</td>\n",
              "      <td>Частичная занятость</td>\n",
              "      <td>101</td>\n",
              "    </tr>\n",
              "    <tr>\n",
              "      <th>13</th>\n",
              "      <td>Удаленная работа</td>\n",
              "      <td>Стажировка</td>\n",
              "      <td>64</td>\n",
              "    </tr>\n",
              "    <tr>\n",
              "      <th>14</th>\n",
              "      <td>Гибкий график</td>\n",
              "      <td>Проектная работа</td>\n",
              "      <td>18</td>\n",
              "    </tr>\n",
              "    <tr>\n",
              "      <th>15</th>\n",
              "      <td>Сменный график</td>\n",
              "      <td>Стажировка</td>\n",
              "      <td>12</td>\n",
              "    </tr>\n",
              "    <tr>\n",
              "      <th>16</th>\n",
              "      <td>Вахтовый метод</td>\n",
              "      <td>Проектная работа</td>\n",
              "      <td>2</td>\n",
              "    </tr>\n",
              "    <tr>\n",
              "      <th>17</th>\n",
              "      <td>Сменный график</td>\n",
              "      <td>Проектная работа</td>\n",
              "      <td>1</td>\n",
              "    </tr>\n",
              "  </tbody>\n",
              "</table>\n",
              "</div>"
            ],
            "text/plain": [
              "            schedule           employment  cnt_vacancies\n",
              "0        Полный день     Полная занятость          35367\n",
              "1   Удаленная работа     Полная занятость           7802\n",
              "2      Гибкий график     Полная занятость           1593\n",
              "3   Удаленная работа  Частичная занятость           1312\n",
              "4     Сменный график     Полная занятость            940\n",
              "5        Полный день           Стажировка            569\n",
              "6     Вахтовый метод     Полная занятость            367\n",
              "7        Полный день  Частичная занятость            347\n",
              "8      Гибкий график  Частичная занятость            312\n",
              "9        Полный день     Проектная работа            141\n",
              "10  Удаленная работа     Проектная работа            133\n",
              "11     Гибкий график           Стажировка            116\n",
              "12    Сменный график  Частичная занятость            101\n",
              "13  Удаленная работа           Стажировка             64\n",
              "14     Гибкий график     Проектная работа             18\n",
              "15    Сменный график           Стажировка             12\n",
              "16    Вахтовый метод     Проектная работа              2\n",
              "17    Сменный график     Проектная работа              1"
            ]
          },
          "execution_count": 16,
          "metadata": {},
          "output_type": "execute_result"
        }
      ],
      "source": [
        "# результат запроса\n",
        "schedule = pd.read_sql_query(query_4_4, connection)\n",
        "schedule"
      ]
    },
    {
      "cell_type": "markdown",
      "id": "0136ffee-0ead-4a6b-b608-61d1c753a438",
      "metadata": {
        "id": "0136ffee-0ead-4a6b-b608-61d1c753a438"
      },
      "source": [
        "5) Напишите запрос, выводящий значения поля Требуемый опыт работы (experience) в порядке возрастания количества вакансий, в которых указан данный вариант опыта. "
      ]
    },
    {
      "cell_type": "code",
      "execution_count": 17,
      "id": "5b3a8e79-f7ab-4008-b767-12aea3a205ea",
      "metadata": {
        "id": "5b3a8e79-f7ab-4008-b767-12aea3a205ea"
      },
      "outputs": [],
      "source": [
        "# текст запроса\n",
        "query_4_5 = f'''\n",
        "            SELECT \n",
        "                experience, \n",
        "                COUNT(id) cnt_vacancies\n",
        "            FROM public.vacancies\n",
        "            GROUP BY experience\n",
        "            ORDER BY count(id) asc\n",
        "            '''"
      ]
    },
    {
      "cell_type": "code",
      "execution_count": 18,
      "id": "3Is64Y-hpDpq",
      "metadata": {
        "id": "3Is64Y-hpDpq"
      },
      "outputs": [
        {
          "name": "stderr",
          "output_type": "stream",
          "text": [
            "h:\\DataScience\\programs\\lib\\site-packages\\pandas\\io\\sql.py:762: UserWarning: pandas only support SQLAlchemy connectable(engine/connection) ordatabase string URI or sqlite3 DBAPI2 connectionother DBAPI2 objects are not tested, please consider using SQLAlchemy\n",
            "  warnings.warn(\n"
          ]
        },
        {
          "data": {
            "text/html": [
              "<div>\n",
              "<style scoped>\n",
              "    .dataframe tbody tr th:only-of-type {\n",
              "        vertical-align: middle;\n",
              "    }\n",
              "\n",
              "    .dataframe tbody tr th {\n",
              "        vertical-align: top;\n",
              "    }\n",
              "\n",
              "    .dataframe thead th {\n",
              "        text-align: right;\n",
              "    }\n",
              "</style>\n",
              "<table border=\"1\" class=\"dataframe\">\n",
              "  <thead>\n",
              "    <tr style=\"text-align: right;\">\n",
              "      <th></th>\n",
              "      <th>experience</th>\n",
              "      <th>cnt_vacancies</th>\n",
              "    </tr>\n",
              "  </thead>\n",
              "  <tbody>\n",
              "    <tr>\n",
              "      <th>0</th>\n",
              "      <td>Более 6 лет</td>\n",
              "      <td>1337</td>\n",
              "    </tr>\n",
              "    <tr>\n",
              "      <th>1</th>\n",
              "      <td>Нет опыта</td>\n",
              "      <td>7197</td>\n",
              "    </tr>\n",
              "    <tr>\n",
              "      <th>2</th>\n",
              "      <td>От 3 до 6 лет</td>\n",
              "      <td>14511</td>\n",
              "    </tr>\n",
              "    <tr>\n",
              "      <th>3</th>\n",
              "      <td>От 1 года до 3 лет</td>\n",
              "      <td>26152</td>\n",
              "    </tr>\n",
              "  </tbody>\n",
              "</table>\n",
              "</div>"
            ],
            "text/plain": [
              "           experience  cnt_vacancies\n",
              "0         Более 6 лет           1337\n",
              "1           Нет опыта           7197\n",
              "2       От 3 до 6 лет          14511\n",
              "3  От 1 года до 3 лет          26152"
            ]
          },
          "execution_count": 18,
          "metadata": {},
          "output_type": "execute_result"
        }
      ],
      "source": [
        "# результат запроса\n",
        "experience = pd.read_sql_query(query_4_5, connection)\n",
        "experience"
      ]
    },
    {
      "cell_type": "markdown",
      "id": "oq2b7n1QpIka",
      "metadata": {
        "id": "oq2b7n1QpIka"
      },
      "source": [
        "***"
      ]
    },
    {
      "cell_type": "markdown",
      "id": "520d1dbf",
      "metadata": {},
      "source": [
        "**Выводы по детальному анализу вакансий:**\n",
        "- Лидеры по количеству вакансий - крупнейшие города России, Беларуси, Казахстана.\n",
        "- Примерно у половины представленных вакансий не указан размер заработной платы. Возможно, он будет определен по результатам собеседования, что свидетельствует о гибком подходе работодателя к каждому работнику, с учитом его профессиональных качеств и опыта работы.\n",
        "- У подавляющего большинства представленных вакансий тип рабочего графика работы и вид трудоустройства - полный день/полная занятость, на втором месте с большим отрывом - удаленная работа/полная занятость.\n",
        "- У 52% вакансий указан требуемый опыт работы от 1 года до 3 лет. Компании заинтересованы иметь в своем штате работников, имеющих минимальный опыт работы. Сотрудник с опытом от 1 до 3 лет очень привлекателен для работодателя. Такой работник самостоятелен, он уже знаком с работой, сможет качественно выполнять свои функции. Работодателю не придется тратить дополнительные средства на его обучение и подготовку, и, одновременно с этим, затраты на заработную плату таких работников будут минимальны.\n",
        "\n"
      ]
    },
    {
      "cell_type": "code",
      "execution_count": 19,
      "id": "6d23d0dd",
      "metadata": {},
      "outputs": [
        {
          "data": {
            "application/vnd.plotly.v1+json": {
              "config": {
                "plotlyServerURL": "https://plot.ly"
              },
              "data": [
                {
                  "domain": {
                    "x": [
                      0,
                      1
                    ],
                    "y": [
                      0,
                      1
                    ]
                  },
                  "hovertemplate": "experience=%{label}<br>cnt_vacancies=%{value}<extra></extra>",
                  "labels": [
                    "Более 6 лет",
                    "Нет опыта",
                    "От 3 до 6 лет",
                    "От 1 года до 3 лет"
                  ],
                  "legendgroup": "",
                  "name": "",
                  "showlegend": true,
                  "type": "pie",
                  "values": [
                    1337,
                    7197,
                    14511,
                    26152
                  ]
                }
              ],
              "layout": {
                "legend": {
                  "tracegroupgap": 0
                },
                "template": {
                  "data": {
                    "bar": [
                      {
                        "error_x": {
                          "color": "#2a3f5f"
                        },
                        "error_y": {
                          "color": "#2a3f5f"
                        },
                        "marker": {
                          "line": {
                            "color": "#E5ECF6",
                            "width": 0.5
                          },
                          "pattern": {
                            "fillmode": "overlay",
                            "size": 10,
                            "solidity": 0.2
                          }
                        },
                        "type": "bar"
                      }
                    ],
                    "barpolar": [
                      {
                        "marker": {
                          "line": {
                            "color": "#E5ECF6",
                            "width": 0.5
                          },
                          "pattern": {
                            "fillmode": "overlay",
                            "size": 10,
                            "solidity": 0.2
                          }
                        },
                        "type": "barpolar"
                      }
                    ],
                    "carpet": [
                      {
                        "aaxis": {
                          "endlinecolor": "#2a3f5f",
                          "gridcolor": "white",
                          "linecolor": "white",
                          "minorgridcolor": "white",
                          "startlinecolor": "#2a3f5f"
                        },
                        "baxis": {
                          "endlinecolor": "#2a3f5f",
                          "gridcolor": "white",
                          "linecolor": "white",
                          "minorgridcolor": "white",
                          "startlinecolor": "#2a3f5f"
                        },
                        "type": "carpet"
                      }
                    ],
                    "choropleth": [
                      {
                        "colorbar": {
                          "outlinewidth": 0,
                          "ticks": ""
                        },
                        "type": "choropleth"
                      }
                    ],
                    "contour": [
                      {
                        "colorbar": {
                          "outlinewidth": 0,
                          "ticks": ""
                        },
                        "colorscale": [
                          [
                            0,
                            "#0d0887"
                          ],
                          [
                            0.1111111111111111,
                            "#46039f"
                          ],
                          [
                            0.2222222222222222,
                            "#7201a8"
                          ],
                          [
                            0.3333333333333333,
                            "#9c179e"
                          ],
                          [
                            0.4444444444444444,
                            "#bd3786"
                          ],
                          [
                            0.5555555555555556,
                            "#d8576b"
                          ],
                          [
                            0.6666666666666666,
                            "#ed7953"
                          ],
                          [
                            0.7777777777777778,
                            "#fb9f3a"
                          ],
                          [
                            0.8888888888888888,
                            "#fdca26"
                          ],
                          [
                            1,
                            "#f0f921"
                          ]
                        ],
                        "type": "contour"
                      }
                    ],
                    "contourcarpet": [
                      {
                        "colorbar": {
                          "outlinewidth": 0,
                          "ticks": ""
                        },
                        "type": "contourcarpet"
                      }
                    ],
                    "heatmap": [
                      {
                        "colorbar": {
                          "outlinewidth": 0,
                          "ticks": ""
                        },
                        "colorscale": [
                          [
                            0,
                            "#0d0887"
                          ],
                          [
                            0.1111111111111111,
                            "#46039f"
                          ],
                          [
                            0.2222222222222222,
                            "#7201a8"
                          ],
                          [
                            0.3333333333333333,
                            "#9c179e"
                          ],
                          [
                            0.4444444444444444,
                            "#bd3786"
                          ],
                          [
                            0.5555555555555556,
                            "#d8576b"
                          ],
                          [
                            0.6666666666666666,
                            "#ed7953"
                          ],
                          [
                            0.7777777777777778,
                            "#fb9f3a"
                          ],
                          [
                            0.8888888888888888,
                            "#fdca26"
                          ],
                          [
                            1,
                            "#f0f921"
                          ]
                        ],
                        "type": "heatmap"
                      }
                    ],
                    "heatmapgl": [
                      {
                        "colorbar": {
                          "outlinewidth": 0,
                          "ticks": ""
                        },
                        "colorscale": [
                          [
                            0,
                            "#0d0887"
                          ],
                          [
                            0.1111111111111111,
                            "#46039f"
                          ],
                          [
                            0.2222222222222222,
                            "#7201a8"
                          ],
                          [
                            0.3333333333333333,
                            "#9c179e"
                          ],
                          [
                            0.4444444444444444,
                            "#bd3786"
                          ],
                          [
                            0.5555555555555556,
                            "#d8576b"
                          ],
                          [
                            0.6666666666666666,
                            "#ed7953"
                          ],
                          [
                            0.7777777777777778,
                            "#fb9f3a"
                          ],
                          [
                            0.8888888888888888,
                            "#fdca26"
                          ],
                          [
                            1,
                            "#f0f921"
                          ]
                        ],
                        "type": "heatmapgl"
                      }
                    ],
                    "histogram": [
                      {
                        "marker": {
                          "pattern": {
                            "fillmode": "overlay",
                            "size": 10,
                            "solidity": 0.2
                          }
                        },
                        "type": "histogram"
                      }
                    ],
                    "histogram2d": [
                      {
                        "colorbar": {
                          "outlinewidth": 0,
                          "ticks": ""
                        },
                        "colorscale": [
                          [
                            0,
                            "#0d0887"
                          ],
                          [
                            0.1111111111111111,
                            "#46039f"
                          ],
                          [
                            0.2222222222222222,
                            "#7201a8"
                          ],
                          [
                            0.3333333333333333,
                            "#9c179e"
                          ],
                          [
                            0.4444444444444444,
                            "#bd3786"
                          ],
                          [
                            0.5555555555555556,
                            "#d8576b"
                          ],
                          [
                            0.6666666666666666,
                            "#ed7953"
                          ],
                          [
                            0.7777777777777778,
                            "#fb9f3a"
                          ],
                          [
                            0.8888888888888888,
                            "#fdca26"
                          ],
                          [
                            1,
                            "#f0f921"
                          ]
                        ],
                        "type": "histogram2d"
                      }
                    ],
                    "histogram2dcontour": [
                      {
                        "colorbar": {
                          "outlinewidth": 0,
                          "ticks": ""
                        },
                        "colorscale": [
                          [
                            0,
                            "#0d0887"
                          ],
                          [
                            0.1111111111111111,
                            "#46039f"
                          ],
                          [
                            0.2222222222222222,
                            "#7201a8"
                          ],
                          [
                            0.3333333333333333,
                            "#9c179e"
                          ],
                          [
                            0.4444444444444444,
                            "#bd3786"
                          ],
                          [
                            0.5555555555555556,
                            "#d8576b"
                          ],
                          [
                            0.6666666666666666,
                            "#ed7953"
                          ],
                          [
                            0.7777777777777778,
                            "#fb9f3a"
                          ],
                          [
                            0.8888888888888888,
                            "#fdca26"
                          ],
                          [
                            1,
                            "#f0f921"
                          ]
                        ],
                        "type": "histogram2dcontour"
                      }
                    ],
                    "mesh3d": [
                      {
                        "colorbar": {
                          "outlinewidth": 0,
                          "ticks": ""
                        },
                        "type": "mesh3d"
                      }
                    ],
                    "parcoords": [
                      {
                        "line": {
                          "colorbar": {
                            "outlinewidth": 0,
                            "ticks": ""
                          }
                        },
                        "type": "parcoords"
                      }
                    ],
                    "pie": [
                      {
                        "automargin": true,
                        "type": "pie"
                      }
                    ],
                    "scatter": [
                      {
                        "fillpattern": {
                          "fillmode": "overlay",
                          "size": 10,
                          "solidity": 0.2
                        },
                        "type": "scatter"
                      }
                    ],
                    "scatter3d": [
                      {
                        "line": {
                          "colorbar": {
                            "outlinewidth": 0,
                            "ticks": ""
                          }
                        },
                        "marker": {
                          "colorbar": {
                            "outlinewidth": 0,
                            "ticks": ""
                          }
                        },
                        "type": "scatter3d"
                      }
                    ],
                    "scattercarpet": [
                      {
                        "marker": {
                          "colorbar": {
                            "outlinewidth": 0,
                            "ticks": ""
                          }
                        },
                        "type": "scattercarpet"
                      }
                    ],
                    "scattergeo": [
                      {
                        "marker": {
                          "colorbar": {
                            "outlinewidth": 0,
                            "ticks": ""
                          }
                        },
                        "type": "scattergeo"
                      }
                    ],
                    "scattergl": [
                      {
                        "marker": {
                          "colorbar": {
                            "outlinewidth": 0,
                            "ticks": ""
                          }
                        },
                        "type": "scattergl"
                      }
                    ],
                    "scattermapbox": [
                      {
                        "marker": {
                          "colorbar": {
                            "outlinewidth": 0,
                            "ticks": ""
                          }
                        },
                        "type": "scattermapbox"
                      }
                    ],
                    "scatterpolar": [
                      {
                        "marker": {
                          "colorbar": {
                            "outlinewidth": 0,
                            "ticks": ""
                          }
                        },
                        "type": "scatterpolar"
                      }
                    ],
                    "scatterpolargl": [
                      {
                        "marker": {
                          "colorbar": {
                            "outlinewidth": 0,
                            "ticks": ""
                          }
                        },
                        "type": "scatterpolargl"
                      }
                    ],
                    "scatterternary": [
                      {
                        "marker": {
                          "colorbar": {
                            "outlinewidth": 0,
                            "ticks": ""
                          }
                        },
                        "type": "scatterternary"
                      }
                    ],
                    "surface": [
                      {
                        "colorbar": {
                          "outlinewidth": 0,
                          "ticks": ""
                        },
                        "colorscale": [
                          [
                            0,
                            "#0d0887"
                          ],
                          [
                            0.1111111111111111,
                            "#46039f"
                          ],
                          [
                            0.2222222222222222,
                            "#7201a8"
                          ],
                          [
                            0.3333333333333333,
                            "#9c179e"
                          ],
                          [
                            0.4444444444444444,
                            "#bd3786"
                          ],
                          [
                            0.5555555555555556,
                            "#d8576b"
                          ],
                          [
                            0.6666666666666666,
                            "#ed7953"
                          ],
                          [
                            0.7777777777777778,
                            "#fb9f3a"
                          ],
                          [
                            0.8888888888888888,
                            "#fdca26"
                          ],
                          [
                            1,
                            "#f0f921"
                          ]
                        ],
                        "type": "surface"
                      }
                    ],
                    "table": [
                      {
                        "cells": {
                          "fill": {
                            "color": "#EBF0F8"
                          },
                          "line": {
                            "color": "white"
                          }
                        },
                        "header": {
                          "fill": {
                            "color": "#C8D4E3"
                          },
                          "line": {
                            "color": "white"
                          }
                        },
                        "type": "table"
                      }
                    ]
                  },
                  "layout": {
                    "annotationdefaults": {
                      "arrowcolor": "#2a3f5f",
                      "arrowhead": 0,
                      "arrowwidth": 1
                    },
                    "autotypenumbers": "strict",
                    "coloraxis": {
                      "colorbar": {
                        "outlinewidth": 0,
                        "ticks": ""
                      }
                    },
                    "colorscale": {
                      "diverging": [
                        [
                          0,
                          "#8e0152"
                        ],
                        [
                          0.1,
                          "#c51b7d"
                        ],
                        [
                          0.2,
                          "#de77ae"
                        ],
                        [
                          0.3,
                          "#f1b6da"
                        ],
                        [
                          0.4,
                          "#fde0ef"
                        ],
                        [
                          0.5,
                          "#f7f7f7"
                        ],
                        [
                          0.6,
                          "#e6f5d0"
                        ],
                        [
                          0.7,
                          "#b8e186"
                        ],
                        [
                          0.8,
                          "#7fbc41"
                        ],
                        [
                          0.9,
                          "#4d9221"
                        ],
                        [
                          1,
                          "#276419"
                        ]
                      ],
                      "sequential": [
                        [
                          0,
                          "#0d0887"
                        ],
                        [
                          0.1111111111111111,
                          "#46039f"
                        ],
                        [
                          0.2222222222222222,
                          "#7201a8"
                        ],
                        [
                          0.3333333333333333,
                          "#9c179e"
                        ],
                        [
                          0.4444444444444444,
                          "#bd3786"
                        ],
                        [
                          0.5555555555555556,
                          "#d8576b"
                        ],
                        [
                          0.6666666666666666,
                          "#ed7953"
                        ],
                        [
                          0.7777777777777778,
                          "#fb9f3a"
                        ],
                        [
                          0.8888888888888888,
                          "#fdca26"
                        ],
                        [
                          1,
                          "#f0f921"
                        ]
                      ],
                      "sequentialminus": [
                        [
                          0,
                          "#0d0887"
                        ],
                        [
                          0.1111111111111111,
                          "#46039f"
                        ],
                        [
                          0.2222222222222222,
                          "#7201a8"
                        ],
                        [
                          0.3333333333333333,
                          "#9c179e"
                        ],
                        [
                          0.4444444444444444,
                          "#bd3786"
                        ],
                        [
                          0.5555555555555556,
                          "#d8576b"
                        ],
                        [
                          0.6666666666666666,
                          "#ed7953"
                        ],
                        [
                          0.7777777777777778,
                          "#fb9f3a"
                        ],
                        [
                          0.8888888888888888,
                          "#fdca26"
                        ],
                        [
                          1,
                          "#f0f921"
                        ]
                      ]
                    },
                    "colorway": [
                      "#636efa",
                      "#EF553B",
                      "#00cc96",
                      "#ab63fa",
                      "#FFA15A",
                      "#19d3f3",
                      "#FF6692",
                      "#B6E880",
                      "#FF97FF",
                      "#FECB52"
                    ],
                    "font": {
                      "color": "#2a3f5f"
                    },
                    "geo": {
                      "bgcolor": "white",
                      "lakecolor": "white",
                      "landcolor": "#E5ECF6",
                      "showlakes": true,
                      "showland": true,
                      "subunitcolor": "white"
                    },
                    "hoverlabel": {
                      "align": "left"
                    },
                    "hovermode": "closest",
                    "mapbox": {
                      "style": "light"
                    },
                    "paper_bgcolor": "white",
                    "plot_bgcolor": "#E5ECF6",
                    "polar": {
                      "angularaxis": {
                        "gridcolor": "white",
                        "linecolor": "white",
                        "ticks": ""
                      },
                      "bgcolor": "#E5ECF6",
                      "radialaxis": {
                        "gridcolor": "white",
                        "linecolor": "white",
                        "ticks": ""
                      }
                    },
                    "scene": {
                      "xaxis": {
                        "backgroundcolor": "#E5ECF6",
                        "gridcolor": "white",
                        "gridwidth": 2,
                        "linecolor": "white",
                        "showbackground": true,
                        "ticks": "",
                        "zerolinecolor": "white"
                      },
                      "yaxis": {
                        "backgroundcolor": "#E5ECF6",
                        "gridcolor": "white",
                        "gridwidth": 2,
                        "linecolor": "white",
                        "showbackground": true,
                        "ticks": "",
                        "zerolinecolor": "white"
                      },
                      "zaxis": {
                        "backgroundcolor": "#E5ECF6",
                        "gridcolor": "white",
                        "gridwidth": 2,
                        "linecolor": "white",
                        "showbackground": true,
                        "ticks": "",
                        "zerolinecolor": "white"
                      }
                    },
                    "shapedefaults": {
                      "line": {
                        "color": "#2a3f5f"
                      }
                    },
                    "ternary": {
                      "aaxis": {
                        "gridcolor": "white",
                        "linecolor": "white",
                        "ticks": ""
                      },
                      "baxis": {
                        "gridcolor": "white",
                        "linecolor": "white",
                        "ticks": ""
                      },
                      "bgcolor": "#E5ECF6",
                      "caxis": {
                        "gridcolor": "white",
                        "linecolor": "white",
                        "ticks": ""
                      }
                    },
                    "title": {
                      "x": 0.05
                    },
                    "xaxis": {
                      "automargin": true,
                      "gridcolor": "white",
                      "linecolor": "white",
                      "ticks": "",
                      "title": {
                        "standoff": 15
                      },
                      "zerolinecolor": "white",
                      "zerolinewidth": 2
                    },
                    "yaxis": {
                      "automargin": true,
                      "gridcolor": "white",
                      "linecolor": "white",
                      "ticks": "",
                      "title": {
                        "standoff": 15
                      },
                      "zerolinecolor": "white",
                      "zerolinewidth": 2
                    }
                  }
                },
                "title": {
                  "font": {
                    "size": 20
                  },
                  "text": "Требуемый опыт работы",
                  "x": 0.5
                }
              }
            }
          },
          "metadata": {},
          "output_type": "display_data"
        }
      ],
      "source": [
        "# круговая диаграмма по признаку \"experience\"\n",
        "fig = px.pie(\n",
        "    experience,\n",
        "    values=experience['cnt_vacancies'],\n",
        "    title='Требуемый опыт работы',\n",
        "    names=experience['experience']\n",
        "    )\n",
        "\n",
        "fig.update_layout(title_x=0.5, title_font_size=20)\n",
        "\n",
        "fig.show()"
      ]
    },
    {
      "cell_type": "markdown",
      "id": "7ea20ab6-04a7-40a0-adec-443a0e5a42c3",
      "metadata": {
        "id": "7ea20ab6-04a7-40a0-adec-443a0e5a42c3"
      },
      "source": [
        "# Юнит 5. Анализ работодателей"
      ]
    },
    {
      "cell_type": "markdown",
      "id": "968aed80-74ef-4ffb-b5bf-c65b84e9caea",
      "metadata": {
        "id": "968aed80-74ef-4ffb-b5bf-c65b84e9caea"
      },
      "source": [
        "1) Напишите запрос, который позволит узнать, какие работодатели находятся на первом и пятом месте по количеству вакансий."
      ]
    },
    {
      "cell_type": "code",
      "execution_count": 20,
      "id": "f2d62796-d400-4ec1-a675-88112739a50e",
      "metadata": {
        "id": "f2d62796-d400-4ec1-a675-88112739a50e"
      },
      "outputs": [],
      "source": [
        "# текст запроса\n",
        "query_5_1 = f'''\n",
        "            SELECT\n",
        "                e.name employer_name,\n",
        "                COUNT(v.id) cnt_vacancies\n",
        "            FROM public.vacancies v\n",
        "            JOIN public.employers e ON e.id = v.employer_id\n",
        "            GROUP BY e.name\n",
        "            ORDER BY COUNT(v.id) DESC\n",
        "            LIMIT 5\n",
        "            '''"
      ]
    },
    {
      "cell_type": "code",
      "execution_count": 21,
      "id": "64tOMkAxqkQk",
      "metadata": {
        "id": "64tOMkAxqkQk"
      },
      "outputs": [
        {
          "name": "stderr",
          "output_type": "stream",
          "text": [
            "h:\\DataScience\\programs\\lib\\site-packages\\pandas\\io\\sql.py:762: UserWarning:\n",
            "\n",
            "pandas only support SQLAlchemy connectable(engine/connection) ordatabase string URI or sqlite3 DBAPI2 connectionother DBAPI2 objects are not tested, please consider using SQLAlchemy\n",
            "\n"
          ]
        },
        {
          "data": {
            "text/html": [
              "<div>\n",
              "<style scoped>\n",
              "    .dataframe tbody tr th:only-of-type {\n",
              "        vertical-align: middle;\n",
              "    }\n",
              "\n",
              "    .dataframe tbody tr th {\n",
              "        vertical-align: top;\n",
              "    }\n",
              "\n",
              "    .dataframe thead th {\n",
              "        text-align: right;\n",
              "    }\n",
              "</style>\n",
              "<table border=\"1\" class=\"dataframe\">\n",
              "  <thead>\n",
              "    <tr style=\"text-align: right;\">\n",
              "      <th></th>\n",
              "      <th>employer_name</th>\n",
              "      <th>cnt_vacancies</th>\n",
              "    </tr>\n",
              "  </thead>\n",
              "  <tbody>\n",
              "    <tr>\n",
              "      <th>0</th>\n",
              "      <td>Яндекс</td>\n",
              "      <td>1933</td>\n",
              "    </tr>\n",
              "    <tr>\n",
              "      <th>1</th>\n",
              "      <td>Ростелеком</td>\n",
              "      <td>491</td>\n",
              "    </tr>\n",
              "    <tr>\n",
              "      <th>2</th>\n",
              "      <td>Тинькофф</td>\n",
              "      <td>444</td>\n",
              "    </tr>\n",
              "    <tr>\n",
              "      <th>3</th>\n",
              "      <td>СБЕР</td>\n",
              "      <td>428</td>\n",
              "    </tr>\n",
              "    <tr>\n",
              "      <th>4</th>\n",
              "      <td>Газпром нефть</td>\n",
              "      <td>331</td>\n",
              "    </tr>\n",
              "  </tbody>\n",
              "</table>\n",
              "</div>"
            ],
            "text/plain": [
              "   employer_name  cnt_vacancies\n",
              "0         Яндекс           1933\n",
              "1     Ростелеком            491\n",
              "2       Тинькофф            444\n",
              "3           СБЕР            428\n",
              "4  Газпром нефть            331"
            ]
          },
          "execution_count": 21,
          "metadata": {},
          "output_type": "execute_result"
        }
      ],
      "source": [
        "# результат запроса\n",
        "employers = pd.read_sql_query(query_5_1, connection)\n",
        "employers"
      ]
    },
    {
      "cell_type": "markdown",
      "id": "68377cfc-b378-43dc-ab7d-1195abf2c515",
      "metadata": {
        "id": "68377cfc-b378-43dc-ab7d-1195abf2c515"
      },
      "source": [
        "2) Напишите запрос, который для каждого региона выведет количество работодателей и вакансий в нём.\n",
        "Среди регионов, в которых нет вакансий, найдите тот, в котором наибольшее количество работодателей.\n"
      ]
    },
    {
      "cell_type": "code",
      "execution_count": 22,
      "id": "dd7df27a-e3e8-412e-a21a-5d389b71e891",
      "metadata": {
        "id": "dd7df27a-e3e8-412e-a21a-5d389b71e891"
      },
      "outputs": [],
      "source": [
        "# текст запроса\n",
        "query_5_2 = f'''\n",
        "            SELECT a.name area_name,\n",
        "            COUNT(e.name) cnt_employers,\n",
        "            COUNT(v.id) cnt_vacancies\n",
        "            FROM public.employers e\n",
        "            LEFT JOIN public.vacancies v ON e.area = v.area_id\n",
        "            JOIN public.areas a ON a.id  = e.area\n",
        "            GROUP BY a.name\n",
        "            ORDER BY cnt_vacancies ASC, cnt_employers DESC\n",
        "            '''\n"
      ]
    },
    {
      "cell_type": "code",
      "execution_count": 23,
      "id": "x1ikWbydrbf6",
      "metadata": {
        "id": "x1ikWbydrbf6"
      },
      "outputs": [
        {
          "name": "stderr",
          "output_type": "stream",
          "text": [
            "h:\\DataScience\\programs\\lib\\site-packages\\pandas\\io\\sql.py:762: UserWarning:\n",
            "\n",
            "pandas only support SQLAlchemy connectable(engine/connection) ordatabase string URI or sqlite3 DBAPI2 connectionother DBAPI2 objects are not tested, please consider using SQLAlchemy\n",
            "\n"
          ]
        },
        {
          "data": {
            "text/html": [
              "<div>\n",
              "<style scoped>\n",
              "    .dataframe tbody tr th:only-of-type {\n",
              "        vertical-align: middle;\n",
              "    }\n",
              "\n",
              "    .dataframe tbody tr th {\n",
              "        vertical-align: top;\n",
              "    }\n",
              "\n",
              "    .dataframe thead th {\n",
              "        text-align: right;\n",
              "    }\n",
              "</style>\n",
              "<table border=\"1\" class=\"dataframe\">\n",
              "  <thead>\n",
              "    <tr style=\"text-align: right;\">\n",
              "      <th></th>\n",
              "      <th>area_name</th>\n",
              "      <th>cnt_employers</th>\n",
              "      <th>cnt_vacancies</th>\n",
              "    </tr>\n",
              "  </thead>\n",
              "  <tbody>\n",
              "    <tr>\n",
              "      <th>0</th>\n",
              "      <td>Россия</td>\n",
              "      <td>410</td>\n",
              "      <td>0</td>\n",
              "    </tr>\n",
              "    <tr>\n",
              "      <th>1</th>\n",
              "      <td>Казахстан</td>\n",
              "      <td>207</td>\n",
              "      <td>0</td>\n",
              "    </tr>\n",
              "    <tr>\n",
              "      <th>2</th>\n",
              "      <td>Московская область</td>\n",
              "      <td>75</td>\n",
              "      <td>0</td>\n",
              "    </tr>\n",
              "    <tr>\n",
              "      <th>3</th>\n",
              "      <td>Краснодарский край</td>\n",
              "      <td>19</td>\n",
              "      <td>0</td>\n",
              "    </tr>\n",
              "    <tr>\n",
              "      <th>4</th>\n",
              "      <td>Ростовская область</td>\n",
              "      <td>18</td>\n",
              "      <td>0</td>\n",
              "    </tr>\n",
              "    <tr>\n",
              "      <th>...</th>\n",
              "      <td>...</td>\n",
              "      <td>...</td>\n",
              "      <td>...</td>\n",
              "    </tr>\n",
              "    <tr>\n",
              "      <th>649</th>\n",
              "      <td>Новосибирск</td>\n",
              "      <td>1149438</td>\n",
              "      <td>1149438</td>\n",
              "    </tr>\n",
              "    <tr>\n",
              "      <th>650</th>\n",
              "      <td>Алматы</td>\n",
              "      <td>1364132</td>\n",
              "      <td>1364132</td>\n",
              "    </tr>\n",
              "    <tr>\n",
              "      <th>651</th>\n",
              "      <td>Минск</td>\n",
              "      <td>2354880</td>\n",
              "      <td>2354880</td>\n",
              "    </tr>\n",
              "    <tr>\n",
              "      <th>652</th>\n",
              "      <td>Санкт-Петербург</td>\n",
              "      <td>6320667</td>\n",
              "      <td>6320667</td>\n",
              "    </tr>\n",
              "    <tr>\n",
              "      <th>653</th>\n",
              "      <td>Москва</td>\n",
              "      <td>31272712</td>\n",
              "      <td>31272712</td>\n",
              "    </tr>\n",
              "  </tbody>\n",
              "</table>\n",
              "<p>654 rows × 3 columns</p>\n",
              "</div>"
            ],
            "text/plain": [
              "              area_name  cnt_employers  cnt_vacancies\n",
              "0                Россия            410              0\n",
              "1             Казахстан            207              0\n",
              "2    Московская область             75              0\n",
              "3    Краснодарский край             19              0\n",
              "4    Ростовская область             18              0\n",
              "..                  ...            ...            ...\n",
              "649         Новосибирск        1149438        1149438\n",
              "650              Алматы        1364132        1364132\n",
              "651               Минск        2354880        2354880\n",
              "652     Санкт-Петербург        6320667        6320667\n",
              "653              Москва       31272712       31272712\n",
              "\n",
              "[654 rows x 3 columns]"
            ]
          },
          "execution_count": 23,
          "metadata": {},
          "output_type": "execute_result"
        }
      ],
      "source": [
        "# результат запроса\n",
        "employers_vacancies = pd.read_sql_query(query_5_2, connection)\n",
        "employers_vacancies\n"
      ]
    },
    {
      "cell_type": "markdown",
      "id": "f2fe0acb-ab1a-4e15-9326-2560e22d73c1",
      "metadata": {
        "id": "f2fe0acb-ab1a-4e15-9326-2560e22d73c1"
      },
      "source": [
        "3) Для каждого работодателя посчитайте количество регионов, в которых он публикует свои вакансии. Отсортируйте результат по убыванию количества.\n"
      ]
    },
    {
      "cell_type": "code",
      "execution_count": 24,
      "id": "6271f8ad-bd2e-4196-ae4a-5b39c4c1010e",
      "metadata": {
        "id": "6271f8ad-bd2e-4196-ae4a-5b39c4c1010e"
      },
      "outputs": [],
      "source": [
        "# текст запроса\n",
        "query_5_3 = f'''\n",
        "            SELECT\n",
        "                employer_id,\n",
        "                COUNT(DISTINCT area_id) cnt_areas\n",
        "            FROM public.vacancies\n",
        "            GROUP BY employer_id\n",
        "            ORDER BY COUNT(DISTINCT area_id) DESC\n",
        "            '''"
      ]
    },
    {
      "cell_type": "code",
      "execution_count": 25,
      "id": "1EIvX3HasH4F",
      "metadata": {
        "id": "1EIvX3HasH4F"
      },
      "outputs": [
        {
          "name": "stderr",
          "output_type": "stream",
          "text": [
            "h:\\DataScience\\programs\\lib\\site-packages\\pandas\\io\\sql.py:762: UserWarning:\n",
            "\n",
            "pandas only support SQLAlchemy connectable(engine/connection) ordatabase string URI or sqlite3 DBAPI2 connectionother DBAPI2 objects are not tested, please consider using SQLAlchemy\n",
            "\n"
          ]
        },
        {
          "data": {
            "text/html": [
              "<div>\n",
              "<style scoped>\n",
              "    .dataframe tbody tr th:only-of-type {\n",
              "        vertical-align: middle;\n",
              "    }\n",
              "\n",
              "    .dataframe tbody tr th {\n",
              "        vertical-align: top;\n",
              "    }\n",
              "\n",
              "    .dataframe thead th {\n",
              "        text-align: right;\n",
              "    }\n",
              "</style>\n",
              "<table border=\"1\" class=\"dataframe\">\n",
              "  <thead>\n",
              "    <tr style=\"text-align: right;\">\n",
              "      <th></th>\n",
              "      <th>employer_id</th>\n",
              "      <th>cnt_areas</th>\n",
              "    </tr>\n",
              "  </thead>\n",
              "  <tbody>\n",
              "    <tr>\n",
              "      <th>0</th>\n",
              "      <td>1740</td>\n",
              "      <td>181</td>\n",
              "    </tr>\n",
              "    <tr>\n",
              "      <th>1</th>\n",
              "      <td>2748</td>\n",
              "      <td>152</td>\n",
              "    </tr>\n",
              "    <tr>\n",
              "      <th>2</th>\n",
              "      <td>5724811</td>\n",
              "      <td>116</td>\n",
              "    </tr>\n",
              "    <tr>\n",
              "      <th>3</th>\n",
              "      <td>5130287</td>\n",
              "      <td>88</td>\n",
              "    </tr>\n",
              "    <tr>\n",
              "      <th>4</th>\n",
              "      <td>3682876</td>\n",
              "      <td>71</td>\n",
              "    </tr>\n",
              "    <tr>\n",
              "      <th>...</th>\n",
              "      <td>...</td>\n",
              "      <td>...</td>\n",
              "    </tr>\n",
              "    <tr>\n",
              "      <th>14901</th>\n",
              "      <td>810278</td>\n",
              "      <td>1</td>\n",
              "    </tr>\n",
              "    <tr>\n",
              "      <th>14902</th>\n",
              "      <td>810313</td>\n",
              "      <td>1</td>\n",
              "    </tr>\n",
              "    <tr>\n",
              "      <th>14903</th>\n",
              "      <td>810551</td>\n",
              "      <td>1</td>\n",
              "    </tr>\n",
              "    <tr>\n",
              "      <th>14904</th>\n",
              "      <td>810688</td>\n",
              "      <td>1</td>\n",
              "    </tr>\n",
              "    <tr>\n",
              "      <th>14905</th>\n",
              "      <td>811902</td>\n",
              "      <td>1</td>\n",
              "    </tr>\n",
              "  </tbody>\n",
              "</table>\n",
              "<p>14906 rows × 2 columns</p>\n",
              "</div>"
            ],
            "text/plain": [
              "       employer_id  cnt_areas\n",
              "0             1740        181\n",
              "1             2748        152\n",
              "2          5724811        116\n",
              "3          5130287         88\n",
              "4          3682876         71\n",
              "...            ...        ...\n",
              "14901       810278          1\n",
              "14902       810313          1\n",
              "14903       810551          1\n",
              "14904       810688          1\n",
              "14905       811902          1\n",
              "\n",
              "[14906 rows x 2 columns]"
            ]
          },
          "execution_count": 25,
          "metadata": {},
          "output_type": "execute_result"
        }
      ],
      "source": [
        "# результат запроса\n",
        "employer_regions = pd.read_sql_query(query_5_3, connection)\n",
        "employer_regions"
      ]
    },
    {
      "cell_type": "markdown",
      "id": "eab2206d-d95b-468b-8e5f-34381abf0ce7",
      "metadata": {
        "id": "eab2206d-d95b-468b-8e5f-34381abf0ce7"
      },
      "source": [
        "4) Напишите запрос для подсчёта количества работодателей, у которых не указана сфера деятельности. "
      ]
    },
    {
      "cell_type": "code",
      "execution_count": 26,
      "id": "80defb23-bfb1-4a18-8be6-bf36aa7165d5",
      "metadata": {
        "id": "80defb23-bfb1-4a18-8be6-bf36aa7165d5"
      },
      "outputs": [],
      "source": [
        "# текст запроса\n",
        "query_5_4 = f'''\n",
        "            SELECT COUNT(*) cnt_employers\n",
        "            FROM public.employers e\n",
        "            LEFT JOIN public.employers_industries i ON e.id = i.employer_id\n",
        "            WHERE i.industry_id IS NULL \n",
        "            '''\n"
      ]
    },
    {
      "cell_type": "code",
      "execution_count": 27,
      "id": "Dp_yCx6ysQSu",
      "metadata": {
        "id": "Dp_yCx6ysQSu"
      },
      "outputs": [
        {
          "name": "stderr",
          "output_type": "stream",
          "text": [
            "h:\\DataScience\\programs\\lib\\site-packages\\pandas\\io\\sql.py:762: UserWarning:\n",
            "\n",
            "pandas only support SQLAlchemy connectable(engine/connection) ordatabase string URI or sqlite3 DBAPI2 connectionother DBAPI2 objects are not tested, please consider using SQLAlchemy\n",
            "\n"
          ]
        },
        {
          "data": {
            "text/html": [
              "<div>\n",
              "<style scoped>\n",
              "    .dataframe tbody tr th:only-of-type {\n",
              "        vertical-align: middle;\n",
              "    }\n",
              "\n",
              "    .dataframe tbody tr th {\n",
              "        vertical-align: top;\n",
              "    }\n",
              "\n",
              "    .dataframe thead th {\n",
              "        text-align: right;\n",
              "    }\n",
              "</style>\n",
              "<table border=\"1\" class=\"dataframe\">\n",
              "  <thead>\n",
              "    <tr style=\"text-align: right;\">\n",
              "      <th></th>\n",
              "      <th>cnt_employers</th>\n",
              "    </tr>\n",
              "  </thead>\n",
              "  <tbody>\n",
              "    <tr>\n",
              "      <th>0</th>\n",
              "      <td>8419</td>\n",
              "    </tr>\n",
              "  </tbody>\n",
              "</table>\n",
              "</div>"
            ],
            "text/plain": [
              "   cnt_employers\n",
              "0           8419"
            ]
          },
          "execution_count": 27,
          "metadata": {},
          "output_type": "execute_result"
        }
      ],
      "source": [
        "# результат запроса\n",
        "industry_null = pd.read_sql_query(query_5_4, connection)\n",
        "industry_null"
      ]
    },
    {
      "cell_type": "markdown",
      "id": "0112af31-f6b0-4e3b-82ab-71296e752e5e",
      "metadata": {
        "id": "0112af31-f6b0-4e3b-82ab-71296e752e5e"
      },
      "source": [
        "5) Напишите запрос, чтобы узнать название компании, находящейся на третьем месте в алфавитном списке (по названию) компаний, у которых указано четыре сферы деятельности. "
      ]
    },
    {
      "cell_type": "code",
      "execution_count": 28,
      "id": "973b0cfc-a972-470a-8b4a-68744ef220c4",
      "metadata": {
        "id": "973b0cfc-a972-470a-8b4a-68744ef220c4"
      },
      "outputs": [],
      "source": [
        "# текст запроса\n",
        "query_5_5 = f'''\n",
        "            SELECT e.name employer_name\n",
        "            FROM public.employers e\n",
        "            LEFT JOIN public.employers_industries i ON e.id = i.employer_id\n",
        "            GROUP BY e.name\n",
        "            HAVING COUNT(i.industry_id) = 4\n",
        "            ORDER BY e.name\n",
        "            OFFSET 2 LIMIT 1\n",
        "            '''"
      ]
    },
    {
      "cell_type": "code",
      "execution_count": 29,
      "id": "xsPtpp8EsaED",
      "metadata": {
        "id": "xsPtpp8EsaED"
      },
      "outputs": [
        {
          "name": "stderr",
          "output_type": "stream",
          "text": [
            "h:\\DataScience\\programs\\lib\\site-packages\\pandas\\io\\sql.py:762: UserWarning:\n",
            "\n",
            "pandas only support SQLAlchemy connectable(engine/connection) ordatabase string URI or sqlite3 DBAPI2 connectionother DBAPI2 objects are not tested, please consider using SQLAlchemy\n",
            "\n"
          ]
        },
        {
          "data": {
            "text/html": [
              "<div>\n",
              "<style scoped>\n",
              "    .dataframe tbody tr th:only-of-type {\n",
              "        vertical-align: middle;\n",
              "    }\n",
              "\n",
              "    .dataframe tbody tr th {\n",
              "        vertical-align: top;\n",
              "    }\n",
              "\n",
              "    .dataframe thead th {\n",
              "        text-align: right;\n",
              "    }\n",
              "</style>\n",
              "<table border=\"1\" class=\"dataframe\">\n",
              "  <thead>\n",
              "    <tr style=\"text-align: right;\">\n",
              "      <th></th>\n",
              "      <th>employer_name</th>\n",
              "    </tr>\n",
              "  </thead>\n",
              "  <tbody>\n",
              "    <tr>\n",
              "      <th>0</th>\n",
              "      <td>2ГИС</td>\n",
              "    </tr>\n",
              "  </tbody>\n",
              "</table>\n",
              "</div>"
            ],
            "text/plain": [
              "  employer_name\n",
              "0          2ГИС"
            ]
          },
          "execution_count": 29,
          "metadata": {},
          "output_type": "execute_result"
        }
      ],
      "source": [
        "# результат запроса\n",
        "third_place = pd.read_sql_query(query_5_5, connection)\n",
        "third_place"
      ]
    },
    {
      "cell_type": "markdown",
      "id": "3bfcfdaf-755d-4d2b-8ed8-326201dc07ab",
      "metadata": {
        "id": "3bfcfdaf-755d-4d2b-8ed8-326201dc07ab"
      },
      "source": [
        "6) С помощью запроса выясните, у какого количества работодателей в качестве сферы деятельности указана Разработка программного обеспечения.\n"
      ]
    },
    {
      "cell_type": "code",
      "execution_count": 30,
      "id": "ad3f270f-2991-47eb-929b-e8f88a55b0d1",
      "metadata": {
        "id": "ad3f270f-2991-47eb-929b-e8f88a55b0d1"
      },
      "outputs": [],
      "source": [
        "# текст запроса\n",
        "query_5_6 = f'''\n",
        "            SELECT COUNT(*) cnt_employers\n",
        "            FROM public.industries i\n",
        "            LEFT JOIN public.employers_industries ei ON i.id = ei.industry_id\n",
        "            WHERE i.name = 'Разработка программного обеспечения'\n",
        "            '''"
      ]
    },
    {
      "cell_type": "code",
      "execution_count": 31,
      "id": "H72qxWM0shPR",
      "metadata": {
        "id": "H72qxWM0shPR"
      },
      "outputs": [
        {
          "name": "stderr",
          "output_type": "stream",
          "text": [
            "h:\\DataScience\\programs\\lib\\site-packages\\pandas\\io\\sql.py:762: UserWarning:\n",
            "\n",
            "pandas only support SQLAlchemy connectable(engine/connection) ordatabase string URI or sqlite3 DBAPI2 connectionother DBAPI2 objects are not tested, please consider using SQLAlchemy\n",
            "\n"
          ]
        },
        {
          "data": {
            "text/html": [
              "<div>\n",
              "<style scoped>\n",
              "    .dataframe tbody tr th:only-of-type {\n",
              "        vertical-align: middle;\n",
              "    }\n",
              "\n",
              "    .dataframe tbody tr th {\n",
              "        vertical-align: top;\n",
              "    }\n",
              "\n",
              "    .dataframe thead th {\n",
              "        text-align: right;\n",
              "    }\n",
              "</style>\n",
              "<table border=\"1\" class=\"dataframe\">\n",
              "  <thead>\n",
              "    <tr style=\"text-align: right;\">\n",
              "      <th></th>\n",
              "      <th>cnt_employers</th>\n",
              "    </tr>\n",
              "  </thead>\n",
              "  <tbody>\n",
              "    <tr>\n",
              "      <th>0</th>\n",
              "      <td>3553</td>\n",
              "    </tr>\n",
              "  </tbody>\n",
              "</table>\n",
              "</div>"
            ],
            "text/plain": [
              "   cnt_employers\n",
              "0           3553"
            ]
          },
          "execution_count": 31,
          "metadata": {},
          "output_type": "execute_result"
        }
      ],
      "source": [
        "# результат запроса\n",
        "software_industry = pd.read_sql_query(query_5_6, connection)\n",
        "software_industry"
      ]
    },
    {
      "cell_type": "markdown",
      "id": "7b02bb86-0546-40fb-94a4-242f050a5c57",
      "metadata": {
        "id": "7b02bb86-0546-40fb-94a4-242f050a5c57"
      },
      "source": [
        "7) Для компании «Яндекс» выведите список регионов-миллионников, в которых представлены вакансии компании, вместе с количеством вакансий в этих регионах. Также добавьте строку Total с общим количеством вакансий компании. Результат отсортируйте по возрастанию количества.\n",
        "\n",
        "Список городов-милионников надо взять [отсюда](https://ru.wikipedia.org/wiki/%D0%93%D0%BE%D1%80%D0%BE%D0%B4%D0%B0-%D0%BC%D0%B8%D0%BB%D0%BB%D0%B8%D0%BE%D0%BD%D0%B5%D1%80%D1%8B_%D0%A0%D0%BE%D1%81%D1%81%D0%B8%D0%B8). \n",
        "\n",
        "Если возникнут трудности с этим задание посмотрите материалы модуля  PYTHON-17. Как получать данные из веб-источников и API. "
      ]
    },
    {
      "cell_type": "code",
      "execution_count": 33,
      "id": "69b04afe",
      "metadata": {},
      "outputs": [],
      "source": [
        "query_5_7 = f'''\n",
        "            SELECT \n",
        "                a.name city_name,\n",
        "                COUNT(v.id) cnt_yandex_vacancies\n",
        "            FROM public.areas a\n",
        "            JOIN public.vacancies v ON a.id = v.area_id\n",
        "            JOIN public.employers e ON e.id = v.employer_id\n",
        "            WHERE a.name IN (\n",
        "                'Москва',\n",
        "                'Санкт-Петербург',\n",
        "                'Новосибирск',\n",
        "                'Екатеринбург',\n",
        "                'Казань',\n",
        "                'Нижний Новгород',\n",
        "                'Челябинск',\n",
        "                'Красноярск',\n",
        "                'Самара',\n",
        "                'Уфа',\n",
        "                'Ростов-на-Дону',\n",
        "                'Омск',\n",
        "                'Краснодар',\n",
        "                'Воронеж',\n",
        "                'Пермь',\n",
        "                'Волгоград') \n",
        "                AND e.name = 'Яндекс'\n",
        "            GROUP BY a.name\n",
        "            UNION ALL\n",
        "            SELECT\n",
        "                'Total',\n",
        "                COUNT(v.id)\n",
        "            FROM public.areas a\n",
        "            JOIN public.vacancies v ON a.id = v.area_id\n",
        "            JOIN public.employers e ON e.id = v.employer_id\n",
        "            WHERE a.name IN (\n",
        "                'Москва',\n",
        "                'Санкт-Петербург',\n",
        "                'Новосибирск',\n",
        "                'Екатеринбург',\n",
        "                'Казань',\n",
        "                'Нижний Новгород',\n",
        "                'Челябинск',\n",
        "                'Красноярск',\n",
        "                'Самара',\n",
        "                'Уфа',\n",
        "                'Ростов-на-Дону',\n",
        "                'Омск',\n",
        "                'Краснодар',\n",
        "                'Воронеж',\n",
        "                'Пермь',\n",
        "                'Волгоград') \n",
        "                AND e.name = 'Яндекс'\n",
        "                ORDER BY cnt_yandex_vacancies\n",
        "            '''\n",
        "# затруднения при расчете Total через запрос SQL"
      ]
    },
    {
      "cell_type": "code",
      "execution_count": 34,
      "id": "ttPhiO1rsvPq",
      "metadata": {
        "id": "ttPhiO1rsvPq"
      },
      "outputs": [
        {
          "name": "stderr",
          "output_type": "stream",
          "text": [
            "h:\\DataScience\\programs\\lib\\site-packages\\pandas\\io\\sql.py:762: UserWarning:\n",
            "\n",
            "pandas only support SQLAlchemy connectable(engine/connection) ordatabase string URI or sqlite3 DBAPI2 connectionother DBAPI2 objects are not tested, please consider using SQLAlchemy\n",
            "\n"
          ]
        },
        {
          "data": {
            "text/html": [
              "<div>\n",
              "<style scoped>\n",
              "    .dataframe tbody tr th:only-of-type {\n",
              "        vertical-align: middle;\n",
              "    }\n",
              "\n",
              "    .dataframe tbody tr th {\n",
              "        vertical-align: top;\n",
              "    }\n",
              "\n",
              "    .dataframe thead th {\n",
              "        text-align: right;\n",
              "    }\n",
              "</style>\n",
              "<table border=\"1\" class=\"dataframe\">\n",
              "  <thead>\n",
              "    <tr style=\"text-align: right;\">\n",
              "      <th></th>\n",
              "      <th>city_name</th>\n",
              "      <th>cnt_yandex_vacancies</th>\n",
              "    </tr>\n",
              "  </thead>\n",
              "  <tbody>\n",
              "    <tr>\n",
              "      <th>0</th>\n",
              "      <td>Омск</td>\n",
              "      <td>21</td>\n",
              "    </tr>\n",
              "    <tr>\n",
              "      <th>1</th>\n",
              "      <td>Челябинск</td>\n",
              "      <td>22</td>\n",
              "    </tr>\n",
              "    <tr>\n",
              "      <th>2</th>\n",
              "      <td>Красноярск</td>\n",
              "      <td>23</td>\n",
              "    </tr>\n",
              "    <tr>\n",
              "      <th>3</th>\n",
              "      <td>Волгоград</td>\n",
              "      <td>24</td>\n",
              "    </tr>\n",
              "    <tr>\n",
              "      <th>4</th>\n",
              "      <td>Пермь</td>\n",
              "      <td>25</td>\n",
              "    </tr>\n",
              "    <tr>\n",
              "      <th>5</th>\n",
              "      <td>Казань</td>\n",
              "      <td>25</td>\n",
              "    </tr>\n",
              "    <tr>\n",
              "      <th>6</th>\n",
              "      <td>Ростов-на-Дону</td>\n",
              "      <td>25</td>\n",
              "    </tr>\n",
              "    <tr>\n",
              "      <th>7</th>\n",
              "      <td>Уфа</td>\n",
              "      <td>26</td>\n",
              "    </tr>\n",
              "    <tr>\n",
              "      <th>8</th>\n",
              "      <td>Самара</td>\n",
              "      <td>26</td>\n",
              "    </tr>\n",
              "    <tr>\n",
              "      <th>9</th>\n",
              "      <td>Краснодар</td>\n",
              "      <td>30</td>\n",
              "    </tr>\n",
              "    <tr>\n",
              "      <th>10</th>\n",
              "      <td>Воронеж</td>\n",
              "      <td>32</td>\n",
              "    </tr>\n",
              "    <tr>\n",
              "      <th>11</th>\n",
              "      <td>Новосибирск</td>\n",
              "      <td>35</td>\n",
              "    </tr>\n",
              "    <tr>\n",
              "      <th>12</th>\n",
              "      <td>Нижний Новгород</td>\n",
              "      <td>36</td>\n",
              "    </tr>\n",
              "    <tr>\n",
              "      <th>13</th>\n",
              "      <td>Екатеринбург</td>\n",
              "      <td>39</td>\n",
              "    </tr>\n",
              "    <tr>\n",
              "      <th>14</th>\n",
              "      <td>Санкт-Петербург</td>\n",
              "      <td>42</td>\n",
              "    </tr>\n",
              "    <tr>\n",
              "      <th>15</th>\n",
              "      <td>Москва</td>\n",
              "      <td>54</td>\n",
              "    </tr>\n",
              "    <tr>\n",
              "      <th>16</th>\n",
              "      <td>Total</td>\n",
              "      <td>485</td>\n",
              "    </tr>\n",
              "  </tbody>\n",
              "</table>\n",
              "</div>"
            ],
            "text/plain": [
              "          city_name  cnt_yandex_vacancies\n",
              "0              Омск                    21\n",
              "1         Челябинск                    22\n",
              "2        Красноярск                    23\n",
              "3         Волгоград                    24\n",
              "4             Пермь                    25\n",
              "5            Казань                    25\n",
              "6    Ростов-на-Дону                    25\n",
              "7               Уфа                    26\n",
              "8            Самара                    26\n",
              "9         Краснодар                    30\n",
              "10          Воронеж                    32\n",
              "11      Новосибирск                    35\n",
              "12  Нижний Новгород                    36\n",
              "13     Екатеринбург                    39\n",
              "14  Санкт-Петербург                    42\n",
              "15           Москва                    54\n",
              "16            Total                   485"
            ]
          },
          "execution_count": 34,
          "metadata": {},
          "output_type": "execute_result"
        }
      ],
      "source": [
        "# результат запроса\n",
        "yandex = pd.read_sql_query(query_5_7, connection)\n",
        "yandex"
      ]
    },
    {
      "cell_type": "markdown",
      "id": "04966e40-3bc3-4dc8-9ba2-e80580ce3abc",
      "metadata": {
        "id": "04966e40-3bc3-4dc8-9ba2-e80580ce3abc"
      },
      "source": [
        "***"
      ]
    },
    {
      "cell_type": "markdown",
      "id": "e2a73ce7",
      "metadata": {},
      "source": [
        "**Выводы по анализу работодателей:**\n",
        "- Компании-лидеры по количеству вакансий представлены в сферах IT, банковские услуги.\n",
        "- Некоторые компании публикуют свои вакансии сразу в нескольких десятках регионов, что свидетельствует об обширной сети их деятельности. Они могут иметь представительства во многих городах и постоянно развиваться.\n",
        "- Работодатели указывают до 5 сфер деятельности у своих компаний, при этом у 8419 компаний сфера деятельности не указана.\n",
        "- В качестве сферы деятельности у 3553 работодателей указана \"Разработка программного обеспечения\". \n",
        "- У компании \"Яндекс\" суммарно в городах-миллионниках РФ размещены 485 вакансий. Крупнейшая IT-компания, возможно, развивает новое направление деятельности, открывает новые офисы, разрабатывает новый продукт. Возможно это связано со сменой руководства компании и массовым оттоком сотрудников.\n",
        "\n"
      ]
    },
    {
      "cell_type": "markdown",
      "id": "b1ef156a-efcb-49ce-bb23-90763e7f35b2",
      "metadata": {
        "id": "b1ef156a-efcb-49ce-bb23-90763e7f35b2",
        "tags": []
      },
      "source": [
        "# Юнит 6. Предметный анализ"
      ]
    },
    {
      "cell_type": "markdown",
      "id": "b9cd50a0-992d-4988-8463-2b2b1c4629b4",
      "metadata": {
        "id": "b9cd50a0-992d-4988-8463-2b2b1c4629b4"
      },
      "source": [
        "1) Сколько вакансий имеет отношение к данным?\n",
        "\n",
        "Считаем, что вакансия имеет отношение к данным, если в её названии содержатся слова 'data' или 'данн'.\n",
        "\n",
        "*Подсказка: Обратите внимание, что названия вакансий могут быть написаны в любом регистре.* \n"
      ]
    },
    {
      "cell_type": "code",
      "execution_count": 35,
      "id": "54ab0e50-c0f1-47cc-a54b-bc5c8bc363f9",
      "metadata": {
        "id": "54ab0e50-c0f1-47cc-a54b-bc5c8bc363f9"
      },
      "outputs": [],
      "source": [
        "# текст запроса\n",
        "query_6_1 = f'''\n",
        "            SELECT COUNT(*) cnt_data_vacancies\n",
        "            FROM public.vacancies\n",
        "            WHERE name ILIKE '%data%'\n",
        "                OR name ILIKE '%данн%'\n",
        "            '''"
      ]
    },
    {
      "cell_type": "code",
      "execution_count": 36,
      "id": "9F1meAqsuUjd",
      "metadata": {
        "id": "9F1meAqsuUjd"
      },
      "outputs": [
        {
          "name": "stderr",
          "output_type": "stream",
          "text": [
            "h:\\DataScience\\programs\\lib\\site-packages\\pandas\\io\\sql.py:762: UserWarning:\n",
            "\n",
            "pandas only support SQLAlchemy connectable(engine/connection) ordatabase string URI or sqlite3 DBAPI2 connectionother DBAPI2 objects are not tested, please consider using SQLAlchemy\n",
            "\n"
          ]
        },
        {
          "data": {
            "text/html": [
              "<div>\n",
              "<style scoped>\n",
              "    .dataframe tbody tr th:only-of-type {\n",
              "        vertical-align: middle;\n",
              "    }\n",
              "\n",
              "    .dataframe tbody tr th {\n",
              "        vertical-align: top;\n",
              "    }\n",
              "\n",
              "    .dataframe thead th {\n",
              "        text-align: right;\n",
              "    }\n",
              "</style>\n",
              "<table border=\"1\" class=\"dataframe\">\n",
              "  <thead>\n",
              "    <tr style=\"text-align: right;\">\n",
              "      <th></th>\n",
              "      <th>cnt_data_vacancies</th>\n",
              "    </tr>\n",
              "  </thead>\n",
              "  <tbody>\n",
              "    <tr>\n",
              "      <th>0</th>\n",
              "      <td>1771</td>\n",
              "    </tr>\n",
              "  </tbody>\n",
              "</table>\n",
              "</div>"
            ],
            "text/plain": [
              "   cnt_data_vacancies\n",
              "0                1771"
            ]
          },
          "execution_count": 36,
          "metadata": {},
          "output_type": "execute_result"
        }
      ],
      "source": [
        "# результат запроса\n",
        "data = pd.read_sql_query(query_6_1, connection)\n",
        "data"
      ]
    },
    {
      "cell_type": "markdown",
      "id": "4dea20cb-a36b-474a-a0b9-e08e8e3857a5",
      "metadata": {
        "id": "4dea20cb-a36b-474a-a0b9-e08e8e3857a5"
      },
      "source": [
        "2) Сколько есть подходящих вакансий для начинающего дата-сайентиста? \n",
        "Будем считать вакансиями для дата-сайентистов такие, в названии которых есть хотя бы одно из следующих сочетаний:\n",
        "* 'data scientist'\n",
        "* 'data science'\n",
        "* 'исследователь данных'\n",
        "* 'ML' (здесь не нужно брать вакансии по HTML)\n",
        "* 'machine learning'\n",
        "* 'машинн%обучен%'\n",
        "\n",
        "** В следующих заданиях мы продолжим работать с вакансиями по этому условию.*\n",
        "\n",
        "Считаем вакансиями для специалистов уровня Junior следующие:\n",
        "* в названии есть слово 'junior' *или*\n",
        "* требуемый опыт — Нет опыта *или*\n",
        "* тип трудоустройства — Стажировка.\n",
        " "
      ]
    },
    {
      "cell_type": "code",
      "execution_count": 37,
      "id": "9c61b3c0-bb66-46c9-ae1e-81d3f5752b4a",
      "metadata": {
        "id": "9c61b3c0-bb66-46c9-ae1e-81d3f5752b4a"
      },
      "outputs": [],
      "source": [
        "# текст запроса\n",
        "query_6_2 = f'''\n",
        "            SELECT COUNT(*) cnt_ds_vacancies\n",
        "            FROM public.vacancies\n",
        "            WHERE (name ILIKE '%data scientist%'\n",
        "                OR name ILIKE '%data science%'\n",
        "                OR name ILIKE '%исследователь данных%'\n",
        "                OR (name LIKE '%ML%' AND name NOT LIKE'%HTML%')\n",
        "                OR name ILIKE '%machine learning%'\n",
        "                OR name ILIKE '%машинн%обучен%')\n",
        "                AND (name ILIKE '%junior%'\n",
        "                OR experience = 'Нет опыта'\n",
        "                OR employment = 'Стажировка')\n",
        "            '''"
      ]
    },
    {
      "cell_type": "code",
      "execution_count": 38,
      "id": "ZNM-LLYuu1dj",
      "metadata": {
        "id": "ZNM-LLYuu1dj"
      },
      "outputs": [
        {
          "name": "stderr",
          "output_type": "stream",
          "text": [
            "h:\\DataScience\\programs\\lib\\site-packages\\pandas\\io\\sql.py:762: UserWarning:\n",
            "\n",
            "pandas only support SQLAlchemy connectable(engine/connection) ordatabase string URI or sqlite3 DBAPI2 connectionother DBAPI2 objects are not tested, please consider using SQLAlchemy\n",
            "\n"
          ]
        },
        {
          "data": {
            "text/html": [
              "<div>\n",
              "<style scoped>\n",
              "    .dataframe tbody tr th:only-of-type {\n",
              "        vertical-align: middle;\n",
              "    }\n",
              "\n",
              "    .dataframe tbody tr th {\n",
              "        vertical-align: top;\n",
              "    }\n",
              "\n",
              "    .dataframe thead th {\n",
              "        text-align: right;\n",
              "    }\n",
              "</style>\n",
              "<table border=\"1\" class=\"dataframe\">\n",
              "  <thead>\n",
              "    <tr style=\"text-align: right;\">\n",
              "      <th></th>\n",
              "      <th>cnt_ds_vacancies</th>\n",
              "    </tr>\n",
              "  </thead>\n",
              "  <tbody>\n",
              "    <tr>\n",
              "      <th>0</th>\n",
              "      <td>51</td>\n",
              "    </tr>\n",
              "  </tbody>\n",
              "</table>\n",
              "</div>"
            ],
            "text/plain": [
              "   cnt_ds_vacancies\n",
              "0                51"
            ]
          },
          "execution_count": 38,
          "metadata": {},
          "output_type": "execute_result"
        }
      ],
      "source": [
        "# результат запроса\n",
        "ds = pd.read_sql_query(query_6_2, connection)\n",
        "ds"
      ]
    },
    {
      "cell_type": "markdown",
      "id": "eedceb80-c5ca-480e-b27a-278dfb8b4438",
      "metadata": {
        "id": "eedceb80-c5ca-480e-b27a-278dfb8b4438"
      },
      "source": [
        "3) Сколько есть вакансий для DS, в которых в качестве ключевого навыка указан SQL или postgres?\n",
        "\n",
        "** Критерии для отнесения вакансии к DS указаны в предыдущем задании.*"
      ]
    },
    {
      "cell_type": "code",
      "execution_count": 39,
      "id": "69621713-0cc5-4f1b-a1d7-bb144fa6148c",
      "metadata": {
        "id": "69621713-0cc5-4f1b-a1d7-bb144fa6148c"
      },
      "outputs": [],
      "source": [
        "# текст запроса\n",
        "query_6_3 = f'''\n",
        "            SELECT COUNT(*) cnt_ds_sql_vacancies\n",
        "            FROM public.vacancies\n",
        "            WHERE (name ILIKE '%data scientist%'\n",
        "                OR name ILIKE '%data science%'\n",
        "                OR name ILIKE '%исследователь данных%'\n",
        "                OR (name LIKE '%ML%' AND name NOT LIKE'%HTML%')\n",
        "                OR name ILIKE '%machine learning%'\n",
        "                OR name ILIKE '%машинн%обучен%')\n",
        "                AND (key_skills ILIKE '%SQL%'\n",
        "                OR key_skills ILIKE '%postgres%')\n",
        "            '''"
      ]
    },
    {
      "cell_type": "code",
      "execution_count": 40,
      "id": "alA8WEAAvGdf",
      "metadata": {
        "id": "alA8WEAAvGdf"
      },
      "outputs": [
        {
          "name": "stderr",
          "output_type": "stream",
          "text": [
            "h:\\DataScience\\programs\\lib\\site-packages\\pandas\\io\\sql.py:762: UserWarning:\n",
            "\n",
            "pandas only support SQLAlchemy connectable(engine/connection) ordatabase string URI or sqlite3 DBAPI2 connectionother DBAPI2 objects are not tested, please consider using SQLAlchemy\n",
            "\n"
          ]
        },
        {
          "data": {
            "text/html": [
              "<div>\n",
              "<style scoped>\n",
              "    .dataframe tbody tr th:only-of-type {\n",
              "        vertical-align: middle;\n",
              "    }\n",
              "\n",
              "    .dataframe tbody tr th {\n",
              "        vertical-align: top;\n",
              "    }\n",
              "\n",
              "    .dataframe thead th {\n",
              "        text-align: right;\n",
              "    }\n",
              "</style>\n",
              "<table border=\"1\" class=\"dataframe\">\n",
              "  <thead>\n",
              "    <tr style=\"text-align: right;\">\n",
              "      <th></th>\n",
              "      <th>cnt_ds_sql_vacancies</th>\n",
              "    </tr>\n",
              "  </thead>\n",
              "  <tbody>\n",
              "    <tr>\n",
              "      <th>0</th>\n",
              "      <td>201</td>\n",
              "    </tr>\n",
              "  </tbody>\n",
              "</table>\n",
              "</div>"
            ],
            "text/plain": [
              "   cnt_ds_sql_vacancies\n",
              "0                   201"
            ]
          },
          "execution_count": 40,
          "metadata": {},
          "output_type": "execute_result"
        }
      ],
      "source": [
        "# результат запроса\n",
        "ds_sql = pd.read_sql_query(query_6_3, connection)\n",
        "ds_sql"
      ]
    },
    {
      "cell_type": "markdown",
      "id": "1be1e9c6-37cf-4a5f-bfeb-04cab799dc80",
      "metadata": {
        "id": "1be1e9c6-37cf-4a5f-bfeb-04cab799dc80"
      },
      "source": [
        "4) Проверьте, насколько популярен Python в требованиях работодателей к DS.Для этого вычислите количество вакансий, в которых в качестве ключевого навыка указан Python.\n",
        "\n",
        "** Это можно сделать помощью запроса, аналогичного предыдущему.*"
      ]
    },
    {
      "cell_type": "code",
      "execution_count": 41,
      "id": "0036a355-9ccf-4564-8b01-73d8194297e7",
      "metadata": {
        "id": "0036a355-9ccf-4564-8b01-73d8194297e7"
      },
      "outputs": [],
      "source": [
        "# текст запроса\n",
        "query_6_4 = f'''\n",
        "            SELECT COUNT(*) cnt_ds_py_vacancies\n",
        "            FROM public.vacancies\n",
        "            WHERE (name ILIKE '%data scientist%'\n",
        "                OR name ILIKE '%data science%'\n",
        "                OR name ILIKE '%исследователь данных%'\n",
        "                OR (name LIKE '%ML%' AND name NOT LIKE'%HTML%')\n",
        "                OR name ILIKE '%machine learning%'\n",
        "                OR name ILIKE '%машинн%обучен%')\n",
        "                AND key_skills ILIKE '%Python%'\n",
        "            '''"
      ]
    },
    {
      "cell_type": "code",
      "execution_count": 42,
      "id": "1i-5WyucvQ6v",
      "metadata": {
        "id": "1i-5WyucvQ6v"
      },
      "outputs": [
        {
          "name": "stderr",
          "output_type": "stream",
          "text": [
            "h:\\DataScience\\programs\\lib\\site-packages\\pandas\\io\\sql.py:762: UserWarning:\n",
            "\n",
            "pandas only support SQLAlchemy connectable(engine/connection) ordatabase string URI or sqlite3 DBAPI2 connectionother DBAPI2 objects are not tested, please consider using SQLAlchemy\n",
            "\n"
          ]
        },
        {
          "data": {
            "text/html": [
              "<div>\n",
              "<style scoped>\n",
              "    .dataframe tbody tr th:only-of-type {\n",
              "        vertical-align: middle;\n",
              "    }\n",
              "\n",
              "    .dataframe tbody tr th {\n",
              "        vertical-align: top;\n",
              "    }\n",
              "\n",
              "    .dataframe thead th {\n",
              "        text-align: right;\n",
              "    }\n",
              "</style>\n",
              "<table border=\"1\" class=\"dataframe\">\n",
              "  <thead>\n",
              "    <tr style=\"text-align: right;\">\n",
              "      <th></th>\n",
              "      <th>cnt_ds_py_vacancies</th>\n",
              "    </tr>\n",
              "  </thead>\n",
              "  <tbody>\n",
              "    <tr>\n",
              "      <th>0</th>\n",
              "      <td>351</td>\n",
              "    </tr>\n",
              "  </tbody>\n",
              "</table>\n",
              "</div>"
            ],
            "text/plain": [
              "   cnt_ds_py_vacancies\n",
              "0                  351"
            ]
          },
          "execution_count": 42,
          "metadata": {},
          "output_type": "execute_result"
        }
      ],
      "source": [
        "# результат запроса\n",
        "ds_py = pd.read_sql_query(query_6_4, connection)\n",
        "ds_py"
      ]
    },
    {
      "cell_type": "markdown",
      "id": "ec3c8db7-fa21-4a41-a994-1af63742a642",
      "metadata": {
        "id": "ec3c8db7-fa21-4a41-a994-1af63742a642"
      },
      "source": [
        "5) Сколько ключевых навыков в среднем указывают в вакансиях для DS?\n",
        "Ответ округлите до двух знаков после точки-разделителя."
      ]
    },
    {
      "cell_type": "code",
      "execution_count": 43,
      "id": "949132bc-d5b6-4611-8218-0b9a504d74f4",
      "metadata": {
        "id": "949132bc-d5b6-4611-8218-0b9a504d74f4"
      },
      "outputs": [],
      "source": [
        "# текст запроса\n",
        "query_6_5 = f'''\n",
        "            SELECT ROUND(AVG(1+ LENGTH(key_skills) - LENGTH(REPLACE(key_skills, CHR(9), ''))), 2) avg_ds_skills\n",
        "            FROM public.vacancies\n",
        "            WHERE (name ILIKE '%data scientist%'\n",
        "                OR name ILIKE '%data science%'\n",
        "                OR name ILIKE '%исследователь данных%'\n",
        "                OR (name LIKE '%ML%' AND name NOT LIKE'%HTML%')\n",
        "                OR name ILIKE '%machine learning%'\n",
        "                OR name ILIKE '%машинн%обучен%')\n",
        "                AND key_skills IS NOT NULL\n",
        "            '''"
      ]
    },
    {
      "cell_type": "code",
      "execution_count": 44,
      "id": "a3V24Tvmviqk",
      "metadata": {
        "id": "a3V24Tvmviqk"
      },
      "outputs": [
        {
          "name": "stderr",
          "output_type": "stream",
          "text": [
            "h:\\DataScience\\programs\\lib\\site-packages\\pandas\\io\\sql.py:762: UserWarning:\n",
            "\n",
            "pandas only support SQLAlchemy connectable(engine/connection) ordatabase string URI or sqlite3 DBAPI2 connectionother DBAPI2 objects are not tested, please consider using SQLAlchemy\n",
            "\n"
          ]
        },
        {
          "data": {
            "text/html": [
              "<div>\n",
              "<style scoped>\n",
              "    .dataframe tbody tr th:only-of-type {\n",
              "        vertical-align: middle;\n",
              "    }\n",
              "\n",
              "    .dataframe tbody tr th {\n",
              "        vertical-align: top;\n",
              "    }\n",
              "\n",
              "    .dataframe thead th {\n",
              "        text-align: right;\n",
              "    }\n",
              "</style>\n",
              "<table border=\"1\" class=\"dataframe\">\n",
              "  <thead>\n",
              "    <tr style=\"text-align: right;\">\n",
              "      <th></th>\n",
              "      <th>avg_ds_skills</th>\n",
              "    </tr>\n",
              "  </thead>\n",
              "  <tbody>\n",
              "    <tr>\n",
              "      <th>0</th>\n",
              "      <td>6.41</td>\n",
              "    </tr>\n",
              "  </tbody>\n",
              "</table>\n",
              "</div>"
            ],
            "text/plain": [
              "   avg_ds_skills\n",
              "0           6.41"
            ]
          },
          "execution_count": 44,
          "metadata": {},
          "output_type": "execute_result"
        }
      ],
      "source": [
        "# результат запроса\n",
        "key_skills_ds = pd.read_sql_query(query_6_5, connection)\n",
        "key_skills_ds"
      ]
    },
    {
      "cell_type": "markdown",
      "id": "1041c17a-ca8f-4543-a0ca-32778914fb00",
      "metadata": {
        "id": "1041c17a-ca8f-4543-a0ca-32778914fb00"
      },
      "source": [
        "6) Напишите запрос, позволяющий вычислить, какую зарплату для DS в **среднем** указывают для каждого типа требуемого опыта (уникальное значение из поля *experience*). \n",
        "\n",
        "При решении задачи примите во внимание следующее:\n",
        "1) Рассматриваем только вакансии, у которых заполнено хотя бы одно из двух полей с зарплатой.\n",
        "2) Если заполнены оба поля с зарплатой, то считаем зарплату по каждой вакансии как сумму двух полей, делённую на 2. Если заполнено только одно из полей, то его и считаем зарплатой по вакансии.\n",
        "3) Если в расчётах участвует null, в результате он тоже даст null (посмотрите, что возвращает запрос select 1 + null). Чтобы избежать этой ситуацию, мы воспользуемся функцией [coalesce](https://postgrespro.ru/docs/postgresql/9.5/functions-conditional#functions-coalesce-nvl-ifnull), которая заменит null на значение, которое мы передадим. Например, посмотрите, что возвращает запрос `select 1 + coalesce(null, 0)`\n",
        "\n",
        "Выясните, на какую зарплату в среднем может рассчитывать дата-сайентист с опытом работы от 3 до 6 лет. Результат округлите до целого числа. "
      ]
    },
    {
      "cell_type": "code",
      "execution_count": 45,
      "id": "6a743d39-5204-48d3-8271-b9f88e68d40e",
      "metadata": {
        "id": "6a743d39-5204-48d3-8271-b9f88e68d40e"
      },
      "outputs": [],
      "source": [
        "# текст запроса\n",
        "query_6_6 = f'''\n",
        "            SELECT experience,\n",
        "                ROUND(AVG(COALESCE((salary_from + salary_to)/2, salary_to, salary_from))) avg_salary                \n",
        "            FROM public.vacancies\n",
        "            WHERE (name ILIKE '%data scientist%'\n",
        "                OR name ILIKE '%data science%'\n",
        "                OR name ILIKE '%исследователь данных%'\n",
        "                OR (name LIKE '%ML%' AND name NOT LIKE'%HTML%')\n",
        "                OR name ILIKE '%machine learning%'\n",
        "                OR name ILIKE '%машинн%обучен%')\n",
        "                AND (salary_to IS NOT NULL OR salary_from IS NOT NULL)\n",
        "            GROUP BY experience\n",
        "            '''"
      ]
    },
    {
      "cell_type": "code",
      "execution_count": 46,
      "id": "aRIJ0mZEwU1_",
      "metadata": {
        "id": "aRIJ0mZEwU1_"
      },
      "outputs": [
        {
          "name": "stderr",
          "output_type": "stream",
          "text": [
            "h:\\DataScience\\programs\\lib\\site-packages\\pandas\\io\\sql.py:762: UserWarning:\n",
            "\n",
            "pandas only support SQLAlchemy connectable(engine/connection) ordatabase string URI or sqlite3 DBAPI2 connectionother DBAPI2 objects are not tested, please consider using SQLAlchemy\n",
            "\n"
          ]
        },
        {
          "data": {
            "text/html": [
              "<div>\n",
              "<style scoped>\n",
              "    .dataframe tbody tr th:only-of-type {\n",
              "        vertical-align: middle;\n",
              "    }\n",
              "\n",
              "    .dataframe tbody tr th {\n",
              "        vertical-align: top;\n",
              "    }\n",
              "\n",
              "    .dataframe thead th {\n",
              "        text-align: right;\n",
              "    }\n",
              "</style>\n",
              "<table border=\"1\" class=\"dataframe\">\n",
              "  <thead>\n",
              "    <tr style=\"text-align: right;\">\n",
              "      <th></th>\n",
              "      <th>experience</th>\n",
              "      <th>avg_salary</th>\n",
              "    </tr>\n",
              "  </thead>\n",
              "  <tbody>\n",
              "    <tr>\n",
              "      <th>0</th>\n",
              "      <td>Нет опыта</td>\n",
              "      <td>74643.0</td>\n",
              "    </tr>\n",
              "    <tr>\n",
              "      <th>1</th>\n",
              "      <td>От 1 года до 3 лет</td>\n",
              "      <td>139675.0</td>\n",
              "    </tr>\n",
              "    <tr>\n",
              "      <th>2</th>\n",
              "      <td>От 3 до 6 лет</td>\n",
              "      <td>243115.0</td>\n",
              "    </tr>\n",
              "  </tbody>\n",
              "</table>\n",
              "</div>"
            ],
            "text/plain": [
              "           experience  avg_salary\n",
              "0           Нет опыта     74643.0\n",
              "1  От 1 года до 3 лет    139675.0\n",
              "2       От 3 до 6 лет    243115.0"
            ]
          },
          "execution_count": 46,
          "metadata": {},
          "output_type": "execute_result"
        }
      ],
      "source": [
        "# результат запроса\n",
        "ds_salary = pd.read_sql_query(query_6_6, connection)\n",
        "ds_salary"
      ]
    },
    {
      "cell_type": "markdown",
      "id": "6a7892b4-4113-4746-adce-18aa2844f18e",
      "metadata": {
        "id": "6a7892b4-4113-4746-adce-18aa2844f18e"
      },
      "source": [
        "***"
      ]
    },
    {
      "cell_type": "markdown",
      "id": "1f61e045",
      "metadata": {},
      "source": [
        "**Выводы по предметному анализу:**\n",
        "- 1771 вакансия имеет отношение к сфере работы с данными.\n",
        "- Для начинающего Data Scientist в базе можно найти 51 вакансию.\n",
        "- Требования знаний SQL или Postgre для Data Scientist имеются в 201 вакансии. Чаще встречаются требования к навыкам владения Python - в 351 вакансии, т.к. Python удобный, понятный, популярный язык программирования и основа для дата-саентиста.\n",
        "- Среднее количество навыков в одной вакансии для Data Scientist более 6. Недостаточно владеть одним инструментом в DS, для успешной работы необходимы базовые знания в разных направлениях DS.\n",
        "- Средняя зарплата Data Scientist в зависимости от опыта работы находится в диапазоне 75-243 тыс.руб."
      ]
    },
    {
      "cell_type": "markdown",
      "id": "c0ED6fh7wiBT",
      "metadata": {
        "id": "c0ED6fh7wiBT"
      },
      "source": [
        "# Общий вывод по проекту"
      ]
    },
    {
      "cell_type": "markdown",
      "id": "1436161e",
      "metadata": {},
      "source": [
        "### Итог исследования  \n",
        "По результатам исследования базы данных с вакансиями можно сделать следующие выводы:\n",
        "\n",
        "- Большинство вакансий встречается в крупных городах, где находится большое количество различных компаний.\n",
        "- ТОП-5 популярных вакансий: Системный администратор, Программист 1С, Бизнес-аналитик, Специалист технической поддержки, Системный аналитик. Это свидетельствует о востребованности IT специалистов на рынке труда.\n",
        "- Чаще других вакансии размещают работодатели, у которых указаны сферы деятельности: \"Разработка программного обеспечения\" \"Системная интеграция. IT-консалтинг\", \"Интернет-компания\".   \n",
        "- Основная масса всех вакансий это: регион - крупный город, тип рабочего графика и трудоустройства - полная занятость/полный рабочий день, опыт работы - от 1 года до 3 лет.\n",
        "- Примерно в половине случаев работодатель не указывает уровень заработной платы. Вероятнее всего, это будет определяться по результатам собеседования.\n",
        "- Для начинающего специалиста по Data Science есть возможность выбора из 51 вакансии. \n",
        "- Начинающий дата-саентист, желающий найти удаленную работу, должен иметь опыт не менее 1 года. Он может рассчитывать на зарплату от 75 000 рублей.\n",
        "\n",
        "В качестве продолжения исследования было бы интересно выяснить средний уровень зарплаты в разрезе регионов и сфер деятельнсти/компаний.\n"
      ]
    },
    {
      "cell_type": "markdown",
      "id": "658cec90",
      "metadata": {},
      "source": [
        "7) Дополнительно узнаем минимальный и максимальный уровень зарплаты для дата-саентиста с типом рабочего графика Удаленная работа"
      ]
    },
    {
      "cell_type": "code",
      "execution_count": 47,
      "id": "03b58cef",
      "metadata": {},
      "outputs": [],
      "source": [
        "# текст запроса\n",
        "query_7 = f'''\n",
        "            SELECT experience,\n",
        "            ROUND(MIN(COALESCE((salary_from + salary_to)/2, salary_to, salary_from))) min_salary,\n",
        "            ROUND(MAX(COALESCE((salary_from + salary_to)/2, salary_to, salary_from))) max_salary                    \n",
        "            FROM public.vacancies\n",
        "            WHERE (name ILIKE '%data scientist%'\n",
        "                OR name ILIKE '%data science%'\n",
        "                OR name ILIKE '%исследователь данных%'\n",
        "                OR (name LIKE '%ML%' AND name NOT LIKE'%HTML%')\n",
        "                OR name ILIKE '%machine learning%'\n",
        "                OR name ILIKE '%машинн%обучен%')\n",
        "                AND (salary_to IS NOT NULL OR salary_from IS NOT NULL)\n",
        "                AND schedule = 'Удаленная работа'\n",
        "            GROUP BY experience\n",
        "            '''"
      ]
    },
    {
      "cell_type": "code",
      "execution_count": 48,
      "id": "6f6d103b",
      "metadata": {},
      "outputs": [
        {
          "name": "stderr",
          "output_type": "stream",
          "text": [
            "h:\\DataScience\\programs\\lib\\site-packages\\pandas\\io\\sql.py:762: UserWarning:\n",
            "\n",
            "pandas only support SQLAlchemy connectable(engine/connection) ordatabase string URI or sqlite3 DBAPI2 connectionother DBAPI2 objects are not tested, please consider using SQLAlchemy\n",
            "\n"
          ]
        },
        {
          "data": {
            "text/html": [
              "<div>\n",
              "<style scoped>\n",
              "    .dataframe tbody tr th:only-of-type {\n",
              "        vertical-align: middle;\n",
              "    }\n",
              "\n",
              "    .dataframe tbody tr th {\n",
              "        vertical-align: top;\n",
              "    }\n",
              "\n",
              "    .dataframe thead th {\n",
              "        text-align: right;\n",
              "    }\n",
              "</style>\n",
              "<table border=\"1\" class=\"dataframe\">\n",
              "  <thead>\n",
              "    <tr style=\"text-align: right;\">\n",
              "      <th></th>\n",
              "      <th>experience</th>\n",
              "      <th>min_salary</th>\n",
              "      <th>max_salary</th>\n",
              "    </tr>\n",
              "  </thead>\n",
              "  <tbody>\n",
              "    <tr>\n",
              "      <th>0</th>\n",
              "      <td>От 1 года до 3 лет</td>\n",
              "      <td>75000.0</td>\n",
              "      <td>275000.0</td>\n",
              "    </tr>\n",
              "    <tr>\n",
              "      <th>1</th>\n",
              "      <td>От 3 до 6 лет</td>\n",
              "      <td>119000.0</td>\n",
              "      <td>300000.0</td>\n",
              "    </tr>\n",
              "  </tbody>\n",
              "</table>\n",
              "</div>"
            ],
            "text/plain": [
              "           experience  min_salary  max_salary\n",
              "0  От 1 года до 3 лет     75000.0    275000.0\n",
              "1       От 3 до 6 лет    119000.0    300000.0"
            ]
          },
          "execution_count": 48,
          "metadata": {},
          "output_type": "execute_result"
        }
      ],
      "source": [
        "# результат запроса\n",
        "ds_salary_remote = pd.read_sql_query(query_7, connection)\n",
        "ds_salary_remote"
      ]
    },
    {
      "cell_type": "markdown",
      "id": "3ac35af4",
      "metadata": {},
      "source": [
        "8) Дополнительно определим какие сферы деятельности чаще всего работодатели указывают в своих вакансиях"
      ]
    },
    {
      "cell_type": "code",
      "execution_count": 49,
      "id": "cff38b94",
      "metadata": {},
      "outputs": [],
      "source": [
        "query_8 = f'''\n",
        "            SELECT i.name industry_name,\n",
        "                COUNT(v.id) cnt_vacancies\n",
        "            FROM public.industries i\n",
        "            JOIN public.employers_industries ei ON i.id = ei.industry_id\n",
        "            JOIN public.employers e ON e.id = ei.employer_id\n",
        "            JOIN public.vacancies v ON e.id = v.employer_id\n",
        "            GROUP BY i.name\n",
        "            ORDER BY cnt_vacancies DESC\n",
        "            '''"
      ]
    },
    {
      "cell_type": "code",
      "execution_count": 50,
      "id": "c289eee3",
      "metadata": {},
      "outputs": [
        {
          "name": "stderr",
          "output_type": "stream",
          "text": [
            "h:\\DataScience\\programs\\lib\\site-packages\\pandas\\io\\sql.py:762: UserWarning:\n",
            "\n",
            "pandas only support SQLAlchemy connectable(engine/connection) ordatabase string URI or sqlite3 DBAPI2 connectionother DBAPI2 objects are not tested, please consider using SQLAlchemy\n",
            "\n"
          ]
        },
        {
          "data": {
            "text/html": [
              "<div>\n",
              "<style scoped>\n",
              "    .dataframe tbody tr th:only-of-type {\n",
              "        vertical-align: middle;\n",
              "    }\n",
              "\n",
              "    .dataframe tbody tr th {\n",
              "        vertical-align: top;\n",
              "    }\n",
              "\n",
              "    .dataframe thead th {\n",
              "        text-align: right;\n",
              "    }\n",
              "</style>\n",
              "<table border=\"1\" class=\"dataframe\">\n",
              "  <thead>\n",
              "    <tr style=\"text-align: right;\">\n",
              "      <th></th>\n",
              "      <th>industry_name</th>\n",
              "      <th>cnt_vacancies</th>\n",
              "    </tr>\n",
              "  </thead>\n",
              "  <tbody>\n",
              "    <tr>\n",
              "      <th>0</th>\n",
              "      <td>Разработка программного обеспечения</td>\n",
              "      <td>12499</td>\n",
              "    </tr>\n",
              "    <tr>\n",
              "      <th>1</th>\n",
              "      <td>Системная интеграция,  автоматизации технологи...</td>\n",
              "      <td>11034</td>\n",
              "    </tr>\n",
              "    <tr>\n",
              "      <th>2</th>\n",
              "      <td>Интернет-компания (поисковики, платежные систе...</td>\n",
              "      <td>6413</td>\n",
              "    </tr>\n",
              "    <tr>\n",
              "      <th>3</th>\n",
              "      <td>Банк</td>\n",
              "      <td>2742</td>\n",
              "    </tr>\n",
              "    <tr>\n",
              "      <th>4</th>\n",
              "      <td>Мобильная связь</td>\n",
              "      <td>1585</td>\n",
              "    </tr>\n",
              "    <tr>\n",
              "      <th>...</th>\n",
              "      <td>...</td>\n",
              "      <td>...</td>\n",
              "    </tr>\n",
              "    <tr>\n",
              "      <th>288</th>\n",
              "      <td>Спортивная федерация</td>\n",
              "      <td>5</td>\n",
              "    </tr>\n",
              "    <tr>\n",
              "      <th>289</th>\n",
              "      <td>Химчистка</td>\n",
              "      <td>4</td>\n",
              "    </tr>\n",
              "    <tr>\n",
              "      <th>290</th>\n",
              "      <td>Ассоциация в сфере культуры, искусства</td>\n",
              "      <td>2</td>\n",
              "    </tr>\n",
              "    <tr>\n",
              "      <th>291</th>\n",
              "      <td>Автошкола</td>\n",
              "      <td>1</td>\n",
              "    </tr>\n",
              "    <tr>\n",
              "      <th>292</th>\n",
              "      <td>Ритуальные услуги</td>\n",
              "      <td>1</td>\n",
              "    </tr>\n",
              "  </tbody>\n",
              "</table>\n",
              "<p>293 rows × 2 columns</p>\n",
              "</div>"
            ],
            "text/plain": [
              "                                         industry_name  cnt_vacancies\n",
              "0                  Разработка программного обеспечения          12499\n",
              "1    Системная интеграция,  автоматизации технологи...          11034\n",
              "2    Интернет-компания (поисковики, платежные систе...           6413\n",
              "3                                                 Банк           2742\n",
              "4                                      Мобильная связь           1585\n",
              "..                                                 ...            ...\n",
              "288                               Спортивная федерация              5\n",
              "289                                          Химчистка              4\n",
              "290             Ассоциация в сфере культуры, искусства              2\n",
              "291                                          Автошкола              1\n",
              "292                                  Ритуальные услуги              1\n",
              "\n",
              "[293 rows x 2 columns]"
            ]
          },
          "execution_count": 50,
          "metadata": {},
          "output_type": "execute_result"
        }
      ],
      "source": [
        "# результат запроса\n",
        "industries = pd.read_sql_query(query_8, connection)\n",
        "industries"
      ]
    },
    {
      "cell_type": "code",
      "execution_count": 64,
      "id": "1c50de3a",
      "metadata": {},
      "outputs": [
        {
          "data": {
            "application/vnd.plotly.v1+json": {
              "config": {
                "plotlyServerURL": "https://plot.ly"
              },
              "data": [
                {
                  "branchvalues": "total",
                  "domain": {
                    "x": [
                      0,
                      1
                    ],
                    "y": [
                      0,
                      1
                    ]
                  },
                  "hovertemplate": "labels=%{label}<br>cnt_vacancies=%{value}<br>parent=%{parent}<br>id=%{id}<extra></extra>",
                  "ids": [
                    "Авиаперевозки",
                    "Авиационная, вертолетная, аэрокосмическая промышленность",
                    "Автозапчасти, шины (розничная торговля)",
                    "Автокомпоненты, запчасти (производство)",
                    "Автокомпоненты, запчасти, шины (продвижение, оптовая торговля)",
                    "Автомобильные перевозки",
                    "Автошкола",
                    "Агентские услуги в недвижимости",
                    "Агрохимия (продвижение, оптовая торговля)",
                    "Агрохимия (производство)",
                    "Алкогольные напитки (продвижение, оптовая торговля)",
                    "Альтернативная энергетика: гео-, ветро-, солнце-, био- (генерация электроэнергии)",
                    "Аптека, оптика",
                    "Аренда автомобилей",
                    "Архив, библиотека, искусствоведение",
                    "Архитектура, проектирование",
                    "Ассоциация в сфере культуры, искусства",
                    "Атомная энергетика (генерация электроэнергии, АЭС)",
                    "Аудит, управленческий учет, финансово-юридический консалтинг",
                    "Банк",
                    "Безалкогольные напитки (продвижение, оптовая торговля)",
                    "Безалкогольные напитки (производство)",
                    "Безопасность, охранная деятельность",
                    "Бетон, кирпич, стекло и прочие силикаты (продвижение, оптовая торговля)",
                    "Бетон, кирпич, стекло и прочие силикаты (производство)",
                    "Бизнес-образование",
                    "Благотворительная организация",
                    "Благоустройство и уборка территорий и зданий",
                    "Бытовая техника, электроника, климатическое оборудование (монтаж, сервис, ремонт)",
                    "Бытовая техника, электроника, климатическое оборудование (продвижение, оптовая торговля)",
                    "Бытовая техника, электроника, климатическое оборудование (производство)",
                    "Бытовая химия, парфюмерия, косметика  (продвижение, оптовая торговля)",
                    "Бытовая химия, парфюмерия, косметика  (производство)",
                    "ВЭД, таможенное оформление",
                    "Вендинг (торговля через автоматы)",
                    "Вентиляция и кондиционирование (монтаж, сервис, ремонт)",
                    "Ветеринарная аптека",
                    "Ветеринарная деятельность",
                    "Вино (производство)",
                    "Водоснабжение и канализация",
                    "Вуз, ссуз колледж, ПТУ",
                    "ГСМ, топливо (продвижение, оптовая торговля)",
                    "ГСМ, топливо (розничная торговля)",
                    "Гидроэнергетика (генерация электроэнергии, ГЭС)",
                    "Гостиница",
                    "Государственные организации",
                    "Двигатели (монтаж, сервис, ремонт)",
                    "Двигатели (продвижение, оптовая торговля)",
                    "Двигатели (производство)",
                    "Девелопмент",
                    "Деревообработка (производство)",
                    "Детское питание (продвижение, оптовая торговля)",
                    "Детское питание (производство)",
                    "Добыча газа",
                    "Добыча и обогащение минерального сырья (соль, сера, глинозем), разработка карьеров (песок, глина, камень), добыча торфа",
                    "Добыча и обогащение руд черных, цветных, драгоценных, благородных, редких металлов",
                    "Добыча и обогащение угля",
                    "Добыча нефти",
                    "Домашний персонал",
                    "Дорожно-строительная техника, сельскохозяйственная и другая спец.техника, оборудование, лифты, погрузочно-разгрузочное, складское оборудование (монтаж, сервис, ремонт)",
                    "Дорожно-строительная техника, сельскохозяйственная и другая спец.техника, оборудование, лифты, погрузочно-разгрузочное, складское оборудование (продвижение, оптовая торговля)",
                    "Дорожно-строительная техника, сельскохозяйственная и другая спец.техника, оборудование, лифты, погрузочно-разгрузочное, складское оборудование (производство)",
                    "Драгоценные, благородные и редкие металлы (продвижение, оптовая торговля)",
                    "Драгоценные, благородные и редкие металлы (производство)",
                    "Железнодорожное машиностроение, вагоностроение",
                    "Железнодорожные перевозки",
                    "Земледелие, растениеводство, животноводство",
                    "Зоомагазин",
                    "Игорный бизнес",
                    "Издательская деятельность",
                    "Инженерно-изыскательские, гидрогеологические, геологоразведочные работы",
                    "Интернет-компания (поисковики, платежные системы, соц.сети, информационно-познавательные и развлекательные ресурсы, продвижение сайтов и прочее)",
                    "Интернет-магазин",
                    "Интернет-провайдер",
                    "Инфраструктурная компания в энергетике (СО ЕЭС, АТС, ЦФР и т.п.)",
                    "Кадровые агентства",
                    "Канцтовары, расходные материалы (продвижение, оптовая торговля)",
                    "Канцтовары, расходные материалы (производство)",
                    "Кейтеринг (выездное обслуживание)",
                    "Киностудии и студии звукозаписи",
                    "Клинические исследования",
                    "Колл-центры, диспетчерские службы",
                    "Коллекторская деятельность",
                    "Кондитерские изделия (продвижение, оптовая торговля)",
                    "Кондитерские изделия (производство)",
                    "Консалтинг в области энергоэффективности",
                    "Консалтинг, оценка в недвижимости",
                    "Консалтинговые услуги",
                    "Консервированная продукция (продвижение, оптовая торговля)",
                    "Консервированная продукция (производство)",
                    "Контроль качества, экспертиза, испытания и сертификация",
                    "Корма для животных (продвижение, оптовая торговля)",
                    "Корма для животных (производство)",
                    "Курьерская, почтовая доставка",
                    "Лаборатория, исследовательский центр",
                    "Лакокрасочная продукция, сырье (продвижение, оптовая торговля)",
                    "Лакокрасочная продукция, сырье (производство)",
                    "Легковые, грузовые автомобили, мототехника, автобусы, троллейбусы (продвижение, оптовая торговля)",
                    "Легковые, грузовые автомобили, мототехника, автобусы, троллейбусы (производство)",
                    "Лечебно-профилактические учреждения",
                    "Лизинговые компании",
                    "Ликероводочная продукция (производство)",
                    "Лифтовое хозяйство (монтаж, сервис, ремонт)",
                    "Макаронные изделия (продвижение, оптовая торговля)",
                    "Макаронные изделия (производство)",
                    "Маркетинговые, рекламные, BTL, дизайнерские, Event-, PR-агентства, организация выставок",
                    "Масложировая продукция (продвижение, оптовая торговля)",
                    "Масложировая продукция (производство)",
                    "Мебель (продвижение, оптовая торговля)",
                    "Мебель (производство)",
                    "Медицинское, диагностическое оборудование, инструменты (монтаж, сервис, ремонт)",
                    "Медицинское, диагностическое оборудование, инструменты (продвижение, оптовая торговля)",
                    "Медицинское, диагностическое оборудование, инструменты (производство)",
                    "Металлические изделия, металлоконструкции (продвижение, оптовая торговля)",
                    "Металлические изделия, металлоконструкции (производство)",
                    "Мобильная связь",
                    "Молочная продукция (продвижение, оптовая торговля)",
                    "Молочная продукция (производство)",
                    "Морские, речные перевозки",
                    "Музей, галерея, театр",
                    "Мука, крупы (продвижение, оптовая торговля)",
                    "Мука, крупы (производство)",
                    "Мясная продукция (продвижение, оптовая торговля)",
                    "Мясная продукция (производство)",
                    "НПФ",
                    "Научно-исследовательская, научная, академическая деятельность",
                    "Неорганическая химия (продвижение, оптовая торговля)",
                    "Неорганическая химия (производство)",
                    "Несетевая розница, мелкий опт",
                    "Нефтепереработка, нефтехимия (производство)",
                    "Нефтехимия (продвижение, оптовая торговля)",
                    "Обеспечение пожарной безопасности, молниезащиты",
                    "Оборудование для деревообработки, заготовки леса, целлюлозно-бумажной промышленности (монтаж, сервис, ремонт)",
                    "Оборудование для деревообработки, заготовки леса, целлюлозно-бумажной промышленности (продвижение, оптовая торговля)",
                    "Оборудование для деревообработки, заготовки леса, целлюлозно-бумажной промышленности (производство)",
                    "Оборудование для пищевой промышленности, упаковки и хранения (монтаж, сервис, ремонт)",
                    "Оборудование для пищевой промышленности, упаковки и хранения (продвижение, оптовая торговля)",
                    "Оборудование для пищевой промышленности, упаковки и хранения (производство)",
                    "Оборудование для ресторанов, гостиниц, кейтеринга, розничной торговли  (монтаж, сервис, ремонт)",
                    "Оборудование для ресторанов, гостиниц, кейтеринга, розничной торговли  (продвижение, оптовая торговля)",
                    "Оборудование для ресторанов, гостиниц, кейтеринга, розничной торговли (производство)",
                    "Оборудование и станки для добывающей, энергетической, нефтегазовой и химической отрасли  (монтаж, сервис, ремонт)",
                    "Оборудование и станки для добывающей, энергетической, нефтегазовой и химической отрасли  (продвижение, оптовая торговля)",
                    "Оборудование и станки для добывающей, энергетической, нефтегазовой и химической отрасли  (производство)",
                    "Оборудование и станки для металлургии и металлообработки (монтаж, сервис, ремонт)",
                    "Оборудование и станки для металлургии и металлообработки (продвижение, оптовая торговля)",
                    "Оборудование и станки для металлургии и металлообработки (производство)",
                    "Оборудование и станки для отраслей легкой промышленности (монтаж, сервис, ремонт)",
                    "Оборудование и станки для отраслей легкой промышленности (продвижение, оптовая торговля)",
                    "Оборудование и станки для отраслей легкой промышленности (производство)",
                    "Обучение иностранным языкам",
                    "Обучение искусствам (рисование, пение, танцы, фото)",
                    "Общественная, политическая организация",
                    "Одежда, обувь, аксессуары, текстиль  (продвижение, оптовая торговля)",
                    "Одежда, обувь, аксессуары, текстиль (производство)",
                    "Оптоволоконная связь",
                    "Органическая химия (продвижение, оптовая торговля)",
                    "Органическая химия (производство)",
                    "Переводческая деятельность",
                    "Передача, распределение электроэнергии",
                    "Переработка газа",
                    "Пиво (производство)",
                    "Пищевые концентраты (продвижение, оптовая торговля)",
                    "Пищевые концентраты (производство)",
                    "Повышение квалификации, переквалификация",
                    "Полуфабрикаты, в том числе замороженные  (продвижение, оптовая торговля)",
                    "Полуфабрикаты, в том числе замороженные (производство)",
                    "Посуда, свет, товары для дома  (продвижение, оптовая торговля)",
                    "Посуда, свет, товары для дома  (производство)",
                    "Пошив, ремонт одежды и обуви",
                    "Продукция авиационной, аэрокосмической, вертолетной промышленности (монтаж, сервис, ремонт)",
                    "Продукция авиационной, аэрокосмической, вертолетной промышленности (продвижение, оптовая торговля)",
                    "Продукция деревообработки (продвижение, оптовая торговля)",
                    "Продукция железнодорожного машиностроения, вагоностроения (монтаж, сервис, ремонт)",
                    "Продукция железнодорожного машиностроения, вагоностроения (продвижение, оптовая торговля)",
                    "Продукция судостроения (продвижение, оптовая торговля)",
                    "Продукция цветной металлургии (продвижение, оптовая торговля)",
                    "Продукция черной металлургии (продвижение, оптовая торговля)",
                    "Продюсерский центр",
                    "Производство и продажа рекламно-сувенирной продукции",
                    "Производство и ремонт военной техники, оборудования и вооружения",
                    "Производство мультимедиа, контента, редакторская деятельность",
                    "Производство печатной, полиграфической продукции",
                    "Промышленное, бытовое электрооборудование и электротехника (монтаж, сервис, ремонт)",
                    "Промышленное, бытовое электрооборудование и электротехника (продвижение, оптовая торговля)",
                    "Промышленное, бытовое электрооборудование и электротехника (производство)",
                    "Профессиональная, предпринимательская организация",
                    "Разработка программного обеспечения",
                    "Распространение мультимедиа и печатной продукции",
                    "Распространение телепрограмм, кино (кабельное телевидение)",
                    "Резина, пластмасса и прочее (продвижение, оптовая торговля)",
                    "Резина, пластмасса и прочее (производство)",
                    "Ремонт зданий и сооружений",
                    "Ресторан, общественное питание, фаст-фуд",
                    "Ритуальные услуги",
                    "Розничная сеть (DIY и товары для дома)",
                    "Розничная сеть (drogerie, товары повседневного спроса)",
                    "Розничная сеть (книги, игрушки, подарки, часы и прочее)",
                    "Розничная сеть (мебель)",
                    "Розничная сеть (мобильный ритейл)",
                    "Розничная сеть (одежда, обувь, аксессуары)",
                    "Розничная сеть (парфюмерия, косметика)",
                    "Розничная сеть (продуктовая)",
                    "Розничная сеть (спортивные товары)",
                    "Розничная сеть (товары для детей)",
                    "Розничная сеть (электроника, бытовая техника)",
                    "Розничная сеть (ювелирные изделия)",
                    "Розничная торговля автомобилями (дилерский центр)",
                    "Рыба и морепродукты (продвижение, оптовая торговля)",
                    "Рыба и морепродукты (производство)",
                    "Рыболовство, рыбоводство",
                    "Салоны красоты",
                    "Сантехника (продвижение, оптовая торговля)",
                    "Сантехника (производство)",
                    "Сахар (продвижение, оптовая торговля)",
                    "Сахар (производство)",
                    "Сбыт и потребление электроэнергии",
                    "Свежие овощи, фрукты (продвижение, оптовая торговля)",
                    "Сельскохозяйственная продукция (продвижение, оптовая торговля)",
                    "Системная интеграция,  автоматизации технологических и бизнес-процессов предприятия, ИТ-консалтинг",
                    "Складские услуги",
                    "Слаботочные сети (монтаж, сервис, ремонт)",
                    "Снеки (продвижение, оптовая торговля)",
                    "Снеки (производство)",
                    "Спортивная федерация",
                    "Спортивное обучение",
                    "Спортивные и фитнес-клубы",
                    "Спортивные товары и оборудование (продвижение, оптовая торговля)",
                    "Спортивные товары и оборудование (производство)",
                    "Спутниковая связь",
                    "Столярно-строительные изделия (продвижение, оптовая торговля)",
                    "Столярно-строительные изделия (производство)",
                    "Страхование, перестрахование",
                    "Строительство дорожное и инфраструктурное",
                    "Строительство жилищное",
                    "Строительство коммерческих объектов (торговые площади, офисные здания)",
                    "Строительство объектов металлургической отрасли",
                    "Строительство объектов нефтегазовой отрасли",
                    "Строительство объектов телекоммуникационной отрасли",
                    "Строительство промышленное",
                    "Строительство энергетическое",
                    "Стройматериалы, сборные конструкции для ремонта и строительства (продвижение, оптовая торговля)",
                    "Стройматериалы, сборные конструкции для ремонта и строительства (производство, монтаж, сервис, ремонт)",
                    "Судоремонт",
                    "Судостроение",
                    "Табак  (продвижение, оптовая торговля)",
                    "Табак  (производство)",
                    "Такси",
                    "Теле- и радиовещание",
                    "Теплоснабжение (ТЭЦ)",
                    "Теплоэнергетика (генерация электроэнергии и тепла, ТЭС)",
                    "Техническое обслуживание, ремонт автомобилей",
                    "Товары для детей (продвижение, оптовая торговля)",
                    "Товары для детей (производство)",
                    "Транспортировка, хранение газа",
                    "Транспортировка, хранение нефти",
                    "Транспортно-логистические комплексы, порты (воздушный, водный, железнодорожный)",
                    "Тренинговые компании",
                    "Туристические компании",
                    "Управление и эксплуатация недвижимости",
                    "Управляющая компания группы, холдинга, штаб-квартира",
                    "Управляющая, инвестиционная компания (управление активами)",
                    "Услуги по ведению бухгалтерского и налогового учета, расчет заработной платы",
                    "Услуги по организации поездок и бронированию",
                    "Утилизация бытовых отходов",
                    "Учреждение соц.помощи и защиты",
                    "Факторинговые компании",
                    "Фармацевтическая продукция (продвижение, оптовая торговля)",
                    "Фармацевтическая продукция (производство)",
                    "Фиксированная связь",
                    "Финансово-кредитное посредничество (биржа, брокерская деятельность, выпуск и обслуживание карт, оценка рисков, обменные пункты, агентства по кредитованию, инкассация, ломбард, платежные системы)",
                    "Финансовые услуги (кэптивные банки и лизинговые компании)",
                    "Фонд, грантодатель",
                    "Фото- и видеоуслуги",
                    "Химчистка",
                    "Хлебобулочные изделия (продвижение, оптовая торговля)",
                    "Хлебобулочные изделия (производство)",
                    "Цветная металлургия (выплавка, металлопрокат)",
                    "Целлюлозно-бумажная продукция (продвижение, оптовая торговля)",
                    "Целлюлозно-бумажное производство",
                    "Центры развлечения",
                    "Чай, кофе (продвижение, оптовая торговля)",
                    "Чай, кофе (производство)",
                    "Черная металлургия (производство чугуна, стали, проката)",
                    "Школа, детский сад",
                    "Экологическое обслуживание, водоочистка, утилизация отходов",
                    "Электронно-вычислительная, оптическая, контрольно-измерительная техника, радиоэлектроника, автоматика (монтаж, сервис, ремонт)",
                    "Электронно-вычислительная, оптическая, контрольно-измерительная техника, радиоэлектроника, автоматика (продвижение, оптовая торговля)",
                    "Электронно-вычислительная, оптическая, контрольно-измерительная техника, радиоэлектроника, автоматика (производство)",
                    "Энергоснабжение",
                    "Ювелирные изделия, бижутерия  (продвижение, оптовая торговля)",
                    "Ювелирные изделия, бижутерия  (производство)",
                    "Юридическое обслуживание"
                  ],
                  "labels": [
                    "Авиаперевозки",
                    "Авиационная, вертолетная, аэрокосмическая промышленность",
                    "Автозапчасти, шины (розничная торговля)",
                    "Автокомпоненты, запчасти (производство)",
                    "Автокомпоненты, запчасти, шины (продвижение, оптовая торговля)",
                    "Автомобильные перевозки",
                    "Автошкола",
                    "Агентские услуги в недвижимости",
                    "Агрохимия (продвижение, оптовая торговля)",
                    "Агрохимия (производство)",
                    "Алкогольные напитки (продвижение, оптовая торговля)",
                    "Альтернативная энергетика: гео-, ветро-, солнце-, био- (генерация электроэнергии)",
                    "Аптека, оптика",
                    "Аренда автомобилей",
                    "Архив, библиотека, искусствоведение",
                    "Архитектура, проектирование",
                    "Ассоциация в сфере культуры, искусства",
                    "Атомная энергетика (генерация электроэнергии, АЭС)",
                    "Аудит, управленческий учет, финансово-юридический консалтинг",
                    "Банк",
                    "Безалкогольные напитки (продвижение, оптовая торговля)",
                    "Безалкогольные напитки (производство)",
                    "Безопасность, охранная деятельность",
                    "Бетон, кирпич, стекло и прочие силикаты (продвижение, оптовая торговля)",
                    "Бетон, кирпич, стекло и прочие силикаты (производство)",
                    "Бизнес-образование",
                    "Благотворительная организация",
                    "Благоустройство и уборка территорий и зданий",
                    "Бытовая техника, электроника, климатическое оборудование (монтаж, сервис, ремонт)",
                    "Бытовая техника, электроника, климатическое оборудование (продвижение, оптовая торговля)",
                    "Бытовая техника, электроника, климатическое оборудование (производство)",
                    "Бытовая химия, парфюмерия, косметика  (продвижение, оптовая торговля)",
                    "Бытовая химия, парфюмерия, косметика  (производство)",
                    "ВЭД, таможенное оформление",
                    "Вендинг (торговля через автоматы)",
                    "Вентиляция и кондиционирование (монтаж, сервис, ремонт)",
                    "Ветеринарная аптека",
                    "Ветеринарная деятельность",
                    "Вино (производство)",
                    "Водоснабжение и канализация",
                    "Вуз, ссуз колледж, ПТУ",
                    "ГСМ, топливо (продвижение, оптовая торговля)",
                    "ГСМ, топливо (розничная торговля)",
                    "Гидроэнергетика (генерация электроэнергии, ГЭС)",
                    "Гостиница",
                    "Государственные организации",
                    "Двигатели (монтаж, сервис, ремонт)",
                    "Двигатели (продвижение, оптовая торговля)",
                    "Двигатели (производство)",
                    "Девелопмент",
                    "Деревообработка (производство)",
                    "Детское питание (продвижение, оптовая торговля)",
                    "Детское питание (производство)",
                    "Добыча газа",
                    "Добыча и обогащение минерального сырья (соль, сера, глинозем), разработка карьеров (песок, глина, камень), добыча торфа",
                    "Добыча и обогащение руд черных, цветных, драгоценных, благородных, редких металлов",
                    "Добыча и обогащение угля",
                    "Добыча нефти",
                    "Домашний персонал",
                    "Дорожно-строительная техника, сельскохозяйственная и другая спец.техника, оборудование, лифты, погрузочно-разгрузочное, складское оборудование (монтаж, сервис, ремонт)",
                    "Дорожно-строительная техника, сельскохозяйственная и другая спец.техника, оборудование, лифты, погрузочно-разгрузочное, складское оборудование (продвижение, оптовая торговля)",
                    "Дорожно-строительная техника, сельскохозяйственная и другая спец.техника, оборудование, лифты, погрузочно-разгрузочное, складское оборудование (производство)",
                    "Драгоценные, благородные и редкие металлы (продвижение, оптовая торговля)",
                    "Драгоценные, благородные и редкие металлы (производство)",
                    "Железнодорожное машиностроение, вагоностроение",
                    "Железнодорожные перевозки",
                    "Земледелие, растениеводство, животноводство",
                    "Зоомагазин",
                    "Игорный бизнес",
                    "Издательская деятельность",
                    "Инженерно-изыскательские, гидрогеологические, геологоразведочные работы",
                    "Интернет-компания (поисковики, платежные системы, соц.сети, информационно-познавательные и развлекательные ресурсы, продвижение сайтов и прочее)",
                    "Интернет-магазин",
                    "Интернет-провайдер",
                    "Инфраструктурная компания в энергетике (СО ЕЭС, АТС, ЦФР и т.п.)",
                    "Кадровые агентства",
                    "Канцтовары, расходные материалы (продвижение, оптовая торговля)",
                    "Канцтовары, расходные материалы (производство)",
                    "Кейтеринг (выездное обслуживание)",
                    "Киностудии и студии звукозаписи",
                    "Клинические исследования",
                    "Колл-центры, диспетчерские службы",
                    "Коллекторская деятельность",
                    "Кондитерские изделия (продвижение, оптовая торговля)",
                    "Кондитерские изделия (производство)",
                    "Консалтинг в области энергоэффективности",
                    "Консалтинг, оценка в недвижимости",
                    "Консалтинговые услуги",
                    "Консервированная продукция (продвижение, оптовая торговля)",
                    "Консервированная продукция (производство)",
                    "Контроль качества, экспертиза, испытания и сертификация",
                    "Корма для животных (продвижение, оптовая торговля)",
                    "Корма для животных (производство)",
                    "Курьерская, почтовая доставка",
                    "Лаборатория, исследовательский центр",
                    "Лакокрасочная продукция, сырье (продвижение, оптовая торговля)",
                    "Лакокрасочная продукция, сырье (производство)",
                    "Легковые, грузовые автомобили, мототехника, автобусы, троллейбусы (продвижение, оптовая торговля)",
                    "Легковые, грузовые автомобили, мототехника, автобусы, троллейбусы (производство)",
                    "Лечебно-профилактические учреждения",
                    "Лизинговые компании",
                    "Ликероводочная продукция (производство)",
                    "Лифтовое хозяйство (монтаж, сервис, ремонт)",
                    "Макаронные изделия (продвижение, оптовая торговля)",
                    "Макаронные изделия (производство)",
                    "Маркетинговые, рекламные, BTL, дизайнерские, Event-, PR-агентства, организация выставок",
                    "Масложировая продукция (продвижение, оптовая торговля)",
                    "Масложировая продукция (производство)",
                    "Мебель (продвижение, оптовая торговля)",
                    "Мебель (производство)",
                    "Медицинское, диагностическое оборудование, инструменты (монтаж, сервис, ремонт)",
                    "Медицинское, диагностическое оборудование, инструменты (продвижение, оптовая торговля)",
                    "Медицинское, диагностическое оборудование, инструменты (производство)",
                    "Металлические изделия, металлоконструкции (продвижение, оптовая торговля)",
                    "Металлические изделия, металлоконструкции (производство)",
                    "Мобильная связь",
                    "Молочная продукция (продвижение, оптовая торговля)",
                    "Молочная продукция (производство)",
                    "Морские, речные перевозки",
                    "Музей, галерея, театр",
                    "Мука, крупы (продвижение, оптовая торговля)",
                    "Мука, крупы (производство)",
                    "Мясная продукция (продвижение, оптовая торговля)",
                    "Мясная продукция (производство)",
                    "НПФ",
                    "Научно-исследовательская, научная, академическая деятельность",
                    "Неорганическая химия (продвижение, оптовая торговля)",
                    "Неорганическая химия (производство)",
                    "Несетевая розница, мелкий опт",
                    "Нефтепереработка, нефтехимия (производство)",
                    "Нефтехимия (продвижение, оптовая торговля)",
                    "Обеспечение пожарной безопасности, молниезащиты",
                    "Оборудование для деревообработки, заготовки леса, целлюлозно-бумажной промышленности (монтаж, сервис, ремонт)",
                    "Оборудование для деревообработки, заготовки леса, целлюлозно-бумажной промышленности (продвижение, оптовая торговля)",
                    "Оборудование для деревообработки, заготовки леса, целлюлозно-бумажной промышленности (производство)",
                    "Оборудование для пищевой промышленности, упаковки и хранения (монтаж, сервис, ремонт)",
                    "Оборудование для пищевой промышленности, упаковки и хранения (продвижение, оптовая торговля)",
                    "Оборудование для пищевой промышленности, упаковки и хранения (производство)",
                    "Оборудование для ресторанов, гостиниц, кейтеринга, розничной торговли  (монтаж, сервис, ремонт)",
                    "Оборудование для ресторанов, гостиниц, кейтеринга, розничной торговли  (продвижение, оптовая торговля)",
                    "Оборудование для ресторанов, гостиниц, кейтеринга, розничной торговли (производство)",
                    "Оборудование и станки для добывающей, энергетической, нефтегазовой и химической отрасли  (монтаж, сервис, ремонт)",
                    "Оборудование и станки для добывающей, энергетической, нефтегазовой и химической отрасли  (продвижение, оптовая торговля)",
                    "Оборудование и станки для добывающей, энергетической, нефтегазовой и химической отрасли  (производство)",
                    "Оборудование и станки для металлургии и металлообработки (монтаж, сервис, ремонт)",
                    "Оборудование и станки для металлургии и металлообработки (продвижение, оптовая торговля)",
                    "Оборудование и станки для металлургии и металлообработки (производство)",
                    "Оборудование и станки для отраслей легкой промышленности (монтаж, сервис, ремонт)",
                    "Оборудование и станки для отраслей легкой промышленности (продвижение, оптовая торговля)",
                    "Оборудование и станки для отраслей легкой промышленности (производство)",
                    "Обучение иностранным языкам",
                    "Обучение искусствам (рисование, пение, танцы, фото)",
                    "Общественная, политическая организация",
                    "Одежда, обувь, аксессуары, текстиль  (продвижение, оптовая торговля)",
                    "Одежда, обувь, аксессуары, текстиль (производство)",
                    "Оптоволоконная связь",
                    "Органическая химия (продвижение, оптовая торговля)",
                    "Органическая химия (производство)",
                    "Переводческая деятельность",
                    "Передача, распределение электроэнергии",
                    "Переработка газа",
                    "Пиво (производство)",
                    "Пищевые концентраты (продвижение, оптовая торговля)",
                    "Пищевые концентраты (производство)",
                    "Повышение квалификации, переквалификация",
                    "Полуфабрикаты, в том числе замороженные  (продвижение, оптовая торговля)",
                    "Полуфабрикаты, в том числе замороженные (производство)",
                    "Посуда, свет, товары для дома  (продвижение, оптовая торговля)",
                    "Посуда, свет, товары для дома  (производство)",
                    "Пошив, ремонт одежды и обуви",
                    "Продукция авиационной, аэрокосмической, вертолетной промышленности (монтаж, сервис, ремонт)",
                    "Продукция авиационной, аэрокосмической, вертолетной промышленности (продвижение, оптовая торговля)",
                    "Продукция деревообработки (продвижение, оптовая торговля)",
                    "Продукция железнодорожного машиностроения, вагоностроения (монтаж, сервис, ремонт)",
                    "Продукция железнодорожного машиностроения, вагоностроения (продвижение, оптовая торговля)",
                    "Продукция судостроения (продвижение, оптовая торговля)",
                    "Продукция цветной металлургии (продвижение, оптовая торговля)",
                    "Продукция черной металлургии (продвижение, оптовая торговля)",
                    "Продюсерский центр",
                    "Производство и продажа рекламно-сувенирной продукции",
                    "Производство и ремонт военной техники, оборудования и вооружения",
                    "Производство мультимедиа, контента, редакторская деятельность",
                    "Производство печатной, полиграфической продукции",
                    "Промышленное, бытовое электрооборудование и электротехника (монтаж, сервис, ремонт)",
                    "Промышленное, бытовое электрооборудование и электротехника (продвижение, оптовая торговля)",
                    "Промышленное, бытовое электрооборудование и электротехника (производство)",
                    "Профессиональная, предпринимательская организация",
                    "Разработка программного обеспечения",
                    "Распространение мультимедиа и печатной продукции",
                    "Распространение телепрограмм, кино (кабельное телевидение)",
                    "Резина, пластмасса и прочее (продвижение, оптовая торговля)",
                    "Резина, пластмасса и прочее (производство)",
                    "Ремонт зданий и сооружений",
                    "Ресторан, общественное питание, фаст-фуд",
                    "Ритуальные услуги",
                    "Розничная сеть (DIY и товары для дома)",
                    "Розничная сеть (drogerie, товары повседневного спроса)",
                    "Розничная сеть (книги, игрушки, подарки, часы и прочее)",
                    "Розничная сеть (мебель)",
                    "Розничная сеть (мобильный ритейл)",
                    "Розничная сеть (одежда, обувь, аксессуары)",
                    "Розничная сеть (парфюмерия, косметика)",
                    "Розничная сеть (продуктовая)",
                    "Розничная сеть (спортивные товары)",
                    "Розничная сеть (товары для детей)",
                    "Розничная сеть (электроника, бытовая техника)",
                    "Розничная сеть (ювелирные изделия)",
                    "Розничная торговля автомобилями (дилерский центр)",
                    "Рыба и морепродукты (продвижение, оптовая торговля)",
                    "Рыба и морепродукты (производство)",
                    "Рыболовство, рыбоводство",
                    "Салоны красоты",
                    "Сантехника (продвижение, оптовая торговля)",
                    "Сантехника (производство)",
                    "Сахар (продвижение, оптовая торговля)",
                    "Сахар (производство)",
                    "Сбыт и потребление электроэнергии",
                    "Свежие овощи, фрукты (продвижение, оптовая торговля)",
                    "Сельскохозяйственная продукция (продвижение, оптовая торговля)",
                    "Системная интеграция,  автоматизации технологических и бизнес-процессов предприятия, ИТ-консалтинг",
                    "Складские услуги",
                    "Слаботочные сети (монтаж, сервис, ремонт)",
                    "Снеки (продвижение, оптовая торговля)",
                    "Снеки (производство)",
                    "Спортивная федерация",
                    "Спортивное обучение",
                    "Спортивные и фитнес-клубы",
                    "Спортивные товары и оборудование (продвижение, оптовая торговля)",
                    "Спортивные товары и оборудование (производство)",
                    "Спутниковая связь",
                    "Столярно-строительные изделия (продвижение, оптовая торговля)",
                    "Столярно-строительные изделия (производство)",
                    "Страхование, перестрахование",
                    "Строительство дорожное и инфраструктурное",
                    "Строительство жилищное",
                    "Строительство коммерческих объектов (торговые площади, офисные здания)",
                    "Строительство объектов металлургической отрасли",
                    "Строительство объектов нефтегазовой отрасли",
                    "Строительство объектов телекоммуникационной отрасли",
                    "Строительство промышленное",
                    "Строительство энергетическое",
                    "Стройматериалы, сборные конструкции для ремонта и строительства (продвижение, оптовая торговля)",
                    "Стройматериалы, сборные конструкции для ремонта и строительства (производство, монтаж, сервис, ремонт)",
                    "Судоремонт",
                    "Судостроение",
                    "Табак  (продвижение, оптовая торговля)",
                    "Табак  (производство)",
                    "Такси",
                    "Теле- и радиовещание",
                    "Теплоснабжение (ТЭЦ)",
                    "Теплоэнергетика (генерация электроэнергии и тепла, ТЭС)",
                    "Техническое обслуживание, ремонт автомобилей",
                    "Товары для детей (продвижение, оптовая торговля)",
                    "Товары для детей (производство)",
                    "Транспортировка, хранение газа",
                    "Транспортировка, хранение нефти",
                    "Транспортно-логистические комплексы, порты (воздушный, водный, железнодорожный)",
                    "Тренинговые компании",
                    "Туристические компании",
                    "Управление и эксплуатация недвижимости",
                    "Управляющая компания группы, холдинга, штаб-квартира",
                    "Управляющая, инвестиционная компания (управление активами)",
                    "Услуги по ведению бухгалтерского и налогового учета, расчет заработной платы",
                    "Услуги по организации поездок и бронированию",
                    "Утилизация бытовых отходов",
                    "Учреждение соц.помощи и защиты",
                    "Факторинговые компании",
                    "Фармацевтическая продукция (продвижение, оптовая торговля)",
                    "Фармацевтическая продукция (производство)",
                    "Фиксированная связь",
                    "Финансово-кредитное посредничество (биржа, брокерская деятельность, выпуск и обслуживание карт, оценка рисков, обменные пункты, агентства по кредитованию, инкассация, ломбард, платежные системы)",
                    "Финансовые услуги (кэптивные банки и лизинговые компании)",
                    "Фонд, грантодатель",
                    "Фото- и видеоуслуги",
                    "Химчистка",
                    "Хлебобулочные изделия (продвижение, оптовая торговля)",
                    "Хлебобулочные изделия (производство)",
                    "Цветная металлургия (выплавка, металлопрокат)",
                    "Целлюлозно-бумажная продукция (продвижение, оптовая торговля)",
                    "Целлюлозно-бумажное производство",
                    "Центры развлечения",
                    "Чай, кофе (продвижение, оптовая торговля)",
                    "Чай, кофе (производство)",
                    "Черная металлургия (производство чугуна, стали, проката)",
                    "Школа, детский сад",
                    "Экологическое обслуживание, водоочистка, утилизация отходов",
                    "Электронно-вычислительная, оптическая, контрольно-измерительная техника, радиоэлектроника, автоматика (монтаж, сервис, ремонт)",
                    "Электронно-вычислительная, оптическая, контрольно-измерительная техника, радиоэлектроника, автоматика (продвижение, оптовая торговля)",
                    "Электронно-вычислительная, оптическая, контрольно-измерительная техника, радиоэлектроника, автоматика (производство)",
                    "Энергоснабжение",
                    "Ювелирные изделия, бижутерия  (продвижение, оптовая торговля)",
                    "Ювелирные изделия, бижутерия  (производство)",
                    "Юридическое обслуживание"
                  ],
                  "name": "",
                  "parents": [
                    "",
                    "",
                    "",
                    "",
                    "",
                    "",
                    "",
                    "",
                    "",
                    "",
                    "",
                    "",
                    "",
                    "",
                    "",
                    "",
                    "",
                    "",
                    "",
                    "",
                    "",
                    "",
                    "",
                    "",
                    "",
                    "",
                    "",
                    "",
                    "",
                    "",
                    "",
                    "",
                    "",
                    "",
                    "",
                    "",
                    "",
                    "",
                    "",
                    "",
                    "",
                    "",
                    "",
                    "",
                    "",
                    "",
                    "",
                    "",
                    "",
                    "",
                    "",
                    "",
                    "",
                    "",
                    "",
                    "",
                    "",
                    "",
                    "",
                    "",
                    "",
                    "",
                    "",
                    "",
                    "",
                    "",
                    "",
                    "",
                    "",
                    "",
                    "",
                    "",
                    "",
                    "",
                    "",
                    "",
                    "",
                    "",
                    "",
                    "",
                    "",
                    "",
                    "",
                    "",
                    "",
                    "",
                    "",
                    "",
                    "",
                    "",
                    "",
                    "",
                    "",
                    "",
                    "",
                    "",
                    "",
                    "",
                    "",
                    "",
                    "",
                    "",
                    "",
                    "",
                    "",
                    "",
                    "",
                    "",
                    "",
                    "",
                    "",
                    "",
                    "",
                    "",
                    "",
                    "",
                    "",
                    "",
                    "",
                    "",
                    "",
                    "",
                    "",
                    "",
                    "",
                    "",
                    "",
                    "",
                    "",
                    "",
                    "",
                    "",
                    "",
                    "",
                    "",
                    "",
                    "",
                    "",
                    "",
                    "",
                    "",
                    "",
                    "",
                    "",
                    "",
                    "",
                    "",
                    "",
                    "",
                    "",
                    "",
                    "",
                    "",
                    "",
                    "",
                    "",
                    "",
                    "",
                    "",
                    "",
                    "",
                    "",
                    "",
                    "",
                    "",
                    "",
                    "",
                    "",
                    "",
                    "",
                    "",
                    "",
                    "",
                    "",
                    "",
                    "",
                    "",
                    "",
                    "",
                    "",
                    "",
                    "",
                    "",
                    "",
                    "",
                    "",
                    "",
                    "",
                    "",
                    "",
                    "",
                    "",
                    "",
                    "",
                    "",
                    "",
                    "",
                    "",
                    "",
                    "",
                    "",
                    "",
                    "",
                    "",
                    "",
                    "",
                    "",
                    "",
                    "",
                    "",
                    "",
                    "",
                    "",
                    "",
                    "",
                    "",
                    "",
                    "",
                    "",
                    "",
                    "",
                    "",
                    "",
                    "",
                    "",
                    "",
                    "",
                    "",
                    "",
                    "",
                    "",
                    "",
                    "",
                    "",
                    "",
                    "",
                    "",
                    "",
                    "",
                    "",
                    "",
                    "",
                    "",
                    "",
                    "",
                    "",
                    "",
                    "",
                    "",
                    "",
                    "",
                    "",
                    "",
                    "",
                    "",
                    "",
                    "",
                    "",
                    "",
                    "",
                    "",
                    "",
                    "",
                    "",
                    "",
                    "",
                    "",
                    "",
                    "",
                    "",
                    "",
                    "",
                    "",
                    "",
                    "",
                    "",
                    "",
                    "",
                    "",
                    "",
                    "",
                    "",
                    "",
                    "",
                    "",
                    "",
                    "",
                    "",
                    "",
                    "",
                    "",
                    "",
                    ""
                  ],
                  "type": "treemap",
                  "values": [
                    101,
                    250,
                    286,
                    190,
                    314,
                    335,
                    1,
                    148,
                    29,
                    71,
                    201,
                    32,
                    243,
                    14,
                    9,
                    375,
                    2,
                    34,
                    168,
                    2742,
                    261,
                    133,
                    175,
                    62,
                    74,
                    158,
                    12,
                    43,
                    116,
                    267,
                    121,
                    249,
                    146,
                    72,
                    10,
                    27,
                    5,
                    21,
                    28,
                    63,
                    201,
                    434,
                    508,
                    42,
                    193,
                    485,
                    20,
                    29,
                    92,
                    194,
                    141,
                    85,
                    23,
                    113,
                    153,
                    336,
                    311,
                    132,
                    9,
                    72,
                    202,
                    168,
                    172,
                    168,
                    80,
                    108,
                    392,
                    42,
                    32,
                    135,
                    206,
                    6413,
                    788,
                    1095,
                    199,
                    1143,
                    62,
                    26,
                    28,
                    30,
                    143,
                    271,
                    483,
                    188,
                    161,
                    36,
                    72,
                    1137,
                    45,
                    36,
                    93,
                    104,
                    41,
                    362,
                    173,
                    49,
                    44,
                    211,
                    258,
                    400,
                    54,
                    49,
                    7,
                    27,
                    26,
                    1001,
                    189,
                    158,
                    166,
                    142,
                    25,
                    68,
                    53,
                    211,
                    568,
                    1585,
                    124,
                    220,
                    55,
                    33,
                    25,
                    34,
                    289,
                    413,
                    76,
                    219,
                    82,
                    101,
                    288,
                    573,
                    162,
                    15,
                    8,
                    29,
                    9,
                    18,
                    54,
                    184,
                    23,
                    27,
                    29,
                    135,
                    204,
                    307,
                    36,
                    37,
                    141,
                    28,
                    30,
                    47,
                    75,
                    32,
                    23,
                    188,
                    181,
                    1012,
                    72,
                    107,
                    24,
                    255,
                    67,
                    36,
                    29,
                    53,
                    276,
                    100,
                    172,
                    112,
                    68,
                    6,
                    49,
                    34,
                    104,
                    39,
                    39,
                    10,
                    122,
                    361,
                    46,
                    10,
                    212,
                    283,
                    117,
                    123,
                    495,
                    528,
                    19,
                    12499,
                    91,
                    73,
                    29,
                    98,
                    28,
                    303,
                    1,
                    383,
                    317,
                    119,
                    177,
                    170,
                    456,
                    124,
                    1034,
                    100,
                    56,
                    340,
                    93,
                    245,
                    27,
                    19,
                    9,
                    42,
                    91,
                    42,
                    33,
                    21,
                    135,
                    11,
                    309,
                    11034,
                    355,
                    51,
                    42,
                    44,
                    5,
                    15,
                    42,
                    16,
                    11,
                    156,
                    24,
                    18,
                    278,
                    152,
                    295,
                    364,
                    63,
                    190,
                    59,
                    330,
                    112,
                    379,
                    138,
                    7,
                    95,
                    50,
                    19,
                    7,
                    110,
                    94,
                    142,
                    202,
                    39,
                    30,
                    41,
                    67,
                    292,
                    65,
                    282,
                    168,
                    154,
                    449,
                    237,
                    51,
                    27,
                    22,
                    17,
                    381,
                    268,
                    1028,
                    486,
                    37,
                    6,
                    15,
                    4,
                    16,
                    57,
                    181,
                    30,
                    24,
                    80,
                    107,
                    18,
                    320,
                    69,
                    39,
                    297,
                    622,
                    584,
                    37,
                    49,
                    70,
                    129
                  ]
                }
              ],
              "layout": {
                "height": 800,
                "legend": {
                  "tracegroupgap": 0
                },
                "template": {
                  "data": {
                    "bar": [
                      {
                        "error_x": {
                          "color": "#2a3f5f"
                        },
                        "error_y": {
                          "color": "#2a3f5f"
                        },
                        "marker": {
                          "line": {
                            "color": "#E5ECF6",
                            "width": 0.5
                          },
                          "pattern": {
                            "fillmode": "overlay",
                            "size": 10,
                            "solidity": 0.2
                          }
                        },
                        "type": "bar"
                      }
                    ],
                    "barpolar": [
                      {
                        "marker": {
                          "line": {
                            "color": "#E5ECF6",
                            "width": 0.5
                          },
                          "pattern": {
                            "fillmode": "overlay",
                            "size": 10,
                            "solidity": 0.2
                          }
                        },
                        "type": "barpolar"
                      }
                    ],
                    "carpet": [
                      {
                        "aaxis": {
                          "endlinecolor": "#2a3f5f",
                          "gridcolor": "white",
                          "linecolor": "white",
                          "minorgridcolor": "white",
                          "startlinecolor": "#2a3f5f"
                        },
                        "baxis": {
                          "endlinecolor": "#2a3f5f",
                          "gridcolor": "white",
                          "linecolor": "white",
                          "minorgridcolor": "white",
                          "startlinecolor": "#2a3f5f"
                        },
                        "type": "carpet"
                      }
                    ],
                    "choropleth": [
                      {
                        "colorbar": {
                          "outlinewidth": 0,
                          "ticks": ""
                        },
                        "type": "choropleth"
                      }
                    ],
                    "contour": [
                      {
                        "colorbar": {
                          "outlinewidth": 0,
                          "ticks": ""
                        },
                        "colorscale": [
                          [
                            0,
                            "#0d0887"
                          ],
                          [
                            0.1111111111111111,
                            "#46039f"
                          ],
                          [
                            0.2222222222222222,
                            "#7201a8"
                          ],
                          [
                            0.3333333333333333,
                            "#9c179e"
                          ],
                          [
                            0.4444444444444444,
                            "#bd3786"
                          ],
                          [
                            0.5555555555555556,
                            "#d8576b"
                          ],
                          [
                            0.6666666666666666,
                            "#ed7953"
                          ],
                          [
                            0.7777777777777778,
                            "#fb9f3a"
                          ],
                          [
                            0.8888888888888888,
                            "#fdca26"
                          ],
                          [
                            1,
                            "#f0f921"
                          ]
                        ],
                        "type": "contour"
                      }
                    ],
                    "contourcarpet": [
                      {
                        "colorbar": {
                          "outlinewidth": 0,
                          "ticks": ""
                        },
                        "type": "contourcarpet"
                      }
                    ],
                    "heatmap": [
                      {
                        "colorbar": {
                          "outlinewidth": 0,
                          "ticks": ""
                        },
                        "colorscale": [
                          [
                            0,
                            "#0d0887"
                          ],
                          [
                            0.1111111111111111,
                            "#46039f"
                          ],
                          [
                            0.2222222222222222,
                            "#7201a8"
                          ],
                          [
                            0.3333333333333333,
                            "#9c179e"
                          ],
                          [
                            0.4444444444444444,
                            "#bd3786"
                          ],
                          [
                            0.5555555555555556,
                            "#d8576b"
                          ],
                          [
                            0.6666666666666666,
                            "#ed7953"
                          ],
                          [
                            0.7777777777777778,
                            "#fb9f3a"
                          ],
                          [
                            0.8888888888888888,
                            "#fdca26"
                          ],
                          [
                            1,
                            "#f0f921"
                          ]
                        ],
                        "type": "heatmap"
                      }
                    ],
                    "heatmapgl": [
                      {
                        "colorbar": {
                          "outlinewidth": 0,
                          "ticks": ""
                        },
                        "colorscale": [
                          [
                            0,
                            "#0d0887"
                          ],
                          [
                            0.1111111111111111,
                            "#46039f"
                          ],
                          [
                            0.2222222222222222,
                            "#7201a8"
                          ],
                          [
                            0.3333333333333333,
                            "#9c179e"
                          ],
                          [
                            0.4444444444444444,
                            "#bd3786"
                          ],
                          [
                            0.5555555555555556,
                            "#d8576b"
                          ],
                          [
                            0.6666666666666666,
                            "#ed7953"
                          ],
                          [
                            0.7777777777777778,
                            "#fb9f3a"
                          ],
                          [
                            0.8888888888888888,
                            "#fdca26"
                          ],
                          [
                            1,
                            "#f0f921"
                          ]
                        ],
                        "type": "heatmapgl"
                      }
                    ],
                    "histogram": [
                      {
                        "marker": {
                          "pattern": {
                            "fillmode": "overlay",
                            "size": 10,
                            "solidity": 0.2
                          }
                        },
                        "type": "histogram"
                      }
                    ],
                    "histogram2d": [
                      {
                        "colorbar": {
                          "outlinewidth": 0,
                          "ticks": ""
                        },
                        "colorscale": [
                          [
                            0,
                            "#0d0887"
                          ],
                          [
                            0.1111111111111111,
                            "#46039f"
                          ],
                          [
                            0.2222222222222222,
                            "#7201a8"
                          ],
                          [
                            0.3333333333333333,
                            "#9c179e"
                          ],
                          [
                            0.4444444444444444,
                            "#bd3786"
                          ],
                          [
                            0.5555555555555556,
                            "#d8576b"
                          ],
                          [
                            0.6666666666666666,
                            "#ed7953"
                          ],
                          [
                            0.7777777777777778,
                            "#fb9f3a"
                          ],
                          [
                            0.8888888888888888,
                            "#fdca26"
                          ],
                          [
                            1,
                            "#f0f921"
                          ]
                        ],
                        "type": "histogram2d"
                      }
                    ],
                    "histogram2dcontour": [
                      {
                        "colorbar": {
                          "outlinewidth": 0,
                          "ticks": ""
                        },
                        "colorscale": [
                          [
                            0,
                            "#0d0887"
                          ],
                          [
                            0.1111111111111111,
                            "#46039f"
                          ],
                          [
                            0.2222222222222222,
                            "#7201a8"
                          ],
                          [
                            0.3333333333333333,
                            "#9c179e"
                          ],
                          [
                            0.4444444444444444,
                            "#bd3786"
                          ],
                          [
                            0.5555555555555556,
                            "#d8576b"
                          ],
                          [
                            0.6666666666666666,
                            "#ed7953"
                          ],
                          [
                            0.7777777777777778,
                            "#fb9f3a"
                          ],
                          [
                            0.8888888888888888,
                            "#fdca26"
                          ],
                          [
                            1,
                            "#f0f921"
                          ]
                        ],
                        "type": "histogram2dcontour"
                      }
                    ],
                    "mesh3d": [
                      {
                        "colorbar": {
                          "outlinewidth": 0,
                          "ticks": ""
                        },
                        "type": "mesh3d"
                      }
                    ],
                    "parcoords": [
                      {
                        "line": {
                          "colorbar": {
                            "outlinewidth": 0,
                            "ticks": ""
                          }
                        },
                        "type": "parcoords"
                      }
                    ],
                    "pie": [
                      {
                        "automargin": true,
                        "type": "pie"
                      }
                    ],
                    "scatter": [
                      {
                        "fillpattern": {
                          "fillmode": "overlay",
                          "size": 10,
                          "solidity": 0.2
                        },
                        "type": "scatter"
                      }
                    ],
                    "scatter3d": [
                      {
                        "line": {
                          "colorbar": {
                            "outlinewidth": 0,
                            "ticks": ""
                          }
                        },
                        "marker": {
                          "colorbar": {
                            "outlinewidth": 0,
                            "ticks": ""
                          }
                        },
                        "type": "scatter3d"
                      }
                    ],
                    "scattercarpet": [
                      {
                        "marker": {
                          "colorbar": {
                            "outlinewidth": 0,
                            "ticks": ""
                          }
                        },
                        "type": "scattercarpet"
                      }
                    ],
                    "scattergeo": [
                      {
                        "marker": {
                          "colorbar": {
                            "outlinewidth": 0,
                            "ticks": ""
                          }
                        },
                        "type": "scattergeo"
                      }
                    ],
                    "scattergl": [
                      {
                        "marker": {
                          "colorbar": {
                            "outlinewidth": 0,
                            "ticks": ""
                          }
                        },
                        "type": "scattergl"
                      }
                    ],
                    "scattermapbox": [
                      {
                        "marker": {
                          "colorbar": {
                            "outlinewidth": 0,
                            "ticks": ""
                          }
                        },
                        "type": "scattermapbox"
                      }
                    ],
                    "scatterpolar": [
                      {
                        "marker": {
                          "colorbar": {
                            "outlinewidth": 0,
                            "ticks": ""
                          }
                        },
                        "type": "scatterpolar"
                      }
                    ],
                    "scatterpolargl": [
                      {
                        "marker": {
                          "colorbar": {
                            "outlinewidth": 0,
                            "ticks": ""
                          }
                        },
                        "type": "scatterpolargl"
                      }
                    ],
                    "scatterternary": [
                      {
                        "marker": {
                          "colorbar": {
                            "outlinewidth": 0,
                            "ticks": ""
                          }
                        },
                        "type": "scatterternary"
                      }
                    ],
                    "surface": [
                      {
                        "colorbar": {
                          "outlinewidth": 0,
                          "ticks": ""
                        },
                        "colorscale": [
                          [
                            0,
                            "#0d0887"
                          ],
                          [
                            0.1111111111111111,
                            "#46039f"
                          ],
                          [
                            0.2222222222222222,
                            "#7201a8"
                          ],
                          [
                            0.3333333333333333,
                            "#9c179e"
                          ],
                          [
                            0.4444444444444444,
                            "#bd3786"
                          ],
                          [
                            0.5555555555555556,
                            "#d8576b"
                          ],
                          [
                            0.6666666666666666,
                            "#ed7953"
                          ],
                          [
                            0.7777777777777778,
                            "#fb9f3a"
                          ],
                          [
                            0.8888888888888888,
                            "#fdca26"
                          ],
                          [
                            1,
                            "#f0f921"
                          ]
                        ],
                        "type": "surface"
                      }
                    ],
                    "table": [
                      {
                        "cells": {
                          "fill": {
                            "color": "#EBF0F8"
                          },
                          "line": {
                            "color": "white"
                          }
                        },
                        "header": {
                          "fill": {
                            "color": "#C8D4E3"
                          },
                          "line": {
                            "color": "white"
                          }
                        },
                        "type": "table"
                      }
                    ]
                  },
                  "layout": {
                    "annotationdefaults": {
                      "arrowcolor": "#2a3f5f",
                      "arrowhead": 0,
                      "arrowwidth": 1
                    },
                    "autotypenumbers": "strict",
                    "coloraxis": {
                      "colorbar": {
                        "outlinewidth": 0,
                        "ticks": ""
                      }
                    },
                    "colorscale": {
                      "diverging": [
                        [
                          0,
                          "#8e0152"
                        ],
                        [
                          0.1,
                          "#c51b7d"
                        ],
                        [
                          0.2,
                          "#de77ae"
                        ],
                        [
                          0.3,
                          "#f1b6da"
                        ],
                        [
                          0.4,
                          "#fde0ef"
                        ],
                        [
                          0.5,
                          "#f7f7f7"
                        ],
                        [
                          0.6,
                          "#e6f5d0"
                        ],
                        [
                          0.7,
                          "#b8e186"
                        ],
                        [
                          0.8,
                          "#7fbc41"
                        ],
                        [
                          0.9,
                          "#4d9221"
                        ],
                        [
                          1,
                          "#276419"
                        ]
                      ],
                      "sequential": [
                        [
                          0,
                          "#0d0887"
                        ],
                        [
                          0.1111111111111111,
                          "#46039f"
                        ],
                        [
                          0.2222222222222222,
                          "#7201a8"
                        ],
                        [
                          0.3333333333333333,
                          "#9c179e"
                        ],
                        [
                          0.4444444444444444,
                          "#bd3786"
                        ],
                        [
                          0.5555555555555556,
                          "#d8576b"
                        ],
                        [
                          0.6666666666666666,
                          "#ed7953"
                        ],
                        [
                          0.7777777777777778,
                          "#fb9f3a"
                        ],
                        [
                          0.8888888888888888,
                          "#fdca26"
                        ],
                        [
                          1,
                          "#f0f921"
                        ]
                      ],
                      "sequentialminus": [
                        [
                          0,
                          "#0d0887"
                        ],
                        [
                          0.1111111111111111,
                          "#46039f"
                        ],
                        [
                          0.2222222222222222,
                          "#7201a8"
                        ],
                        [
                          0.3333333333333333,
                          "#9c179e"
                        ],
                        [
                          0.4444444444444444,
                          "#bd3786"
                        ],
                        [
                          0.5555555555555556,
                          "#d8576b"
                        ],
                        [
                          0.6666666666666666,
                          "#ed7953"
                        ],
                        [
                          0.7777777777777778,
                          "#fb9f3a"
                        ],
                        [
                          0.8888888888888888,
                          "#fdca26"
                        ],
                        [
                          1,
                          "#f0f921"
                        ]
                      ]
                    },
                    "colorway": [
                      "#636efa",
                      "#EF553B",
                      "#00cc96",
                      "#ab63fa",
                      "#FFA15A",
                      "#19d3f3",
                      "#FF6692",
                      "#B6E880",
                      "#FF97FF",
                      "#FECB52"
                    ],
                    "font": {
                      "color": "#2a3f5f"
                    },
                    "geo": {
                      "bgcolor": "white",
                      "lakecolor": "white",
                      "landcolor": "#E5ECF6",
                      "showlakes": true,
                      "showland": true,
                      "subunitcolor": "white"
                    },
                    "hoverlabel": {
                      "align": "left"
                    },
                    "hovermode": "closest",
                    "mapbox": {
                      "style": "light"
                    },
                    "paper_bgcolor": "white",
                    "plot_bgcolor": "#E5ECF6",
                    "polar": {
                      "angularaxis": {
                        "gridcolor": "white",
                        "linecolor": "white",
                        "ticks": ""
                      },
                      "bgcolor": "#E5ECF6",
                      "radialaxis": {
                        "gridcolor": "white",
                        "linecolor": "white",
                        "ticks": ""
                      }
                    },
                    "scene": {
                      "xaxis": {
                        "backgroundcolor": "#E5ECF6",
                        "gridcolor": "white",
                        "gridwidth": 2,
                        "linecolor": "white",
                        "showbackground": true,
                        "ticks": "",
                        "zerolinecolor": "white"
                      },
                      "yaxis": {
                        "backgroundcolor": "#E5ECF6",
                        "gridcolor": "white",
                        "gridwidth": 2,
                        "linecolor": "white",
                        "showbackground": true,
                        "ticks": "",
                        "zerolinecolor": "white"
                      },
                      "zaxis": {
                        "backgroundcolor": "#E5ECF6",
                        "gridcolor": "white",
                        "gridwidth": 2,
                        "linecolor": "white",
                        "showbackground": true,
                        "ticks": "",
                        "zerolinecolor": "white"
                      }
                    },
                    "shapedefaults": {
                      "line": {
                        "color": "#2a3f5f"
                      }
                    },
                    "ternary": {
                      "aaxis": {
                        "gridcolor": "white",
                        "linecolor": "white",
                        "ticks": ""
                      },
                      "baxis": {
                        "gridcolor": "white",
                        "linecolor": "white",
                        "ticks": ""
                      },
                      "bgcolor": "#E5ECF6",
                      "caxis": {
                        "gridcolor": "white",
                        "linecolor": "white",
                        "ticks": ""
                      }
                    },
                    "title": {
                      "x": 0.05
                    },
                    "xaxis": {
                      "automargin": true,
                      "gridcolor": "white",
                      "linecolor": "white",
                      "ticks": "",
                      "title": {
                        "standoff": 15
                      },
                      "zerolinecolor": "white",
                      "zerolinewidth": 2
                    },
                    "yaxis": {
                      "automargin": true,
                      "gridcolor": "white",
                      "linecolor": "white",
                      "ticks": "",
                      "title": {
                        "standoff": 15
                      },
                      "zerolinecolor": "white",
                      "zerolinewidth": 2
                    }
                  }
                },
                "title": {
                  "text": "Сферы деятельности работодателей, указанные в вакансиях"
                },
                "width": 1200
              }
            }
          },
          "metadata": {},
          "output_type": "display_data"
        }
      ],
      "source": [
        "# построим график\n",
        "fig = px.treemap(\n",
        "    data_frame=industries, \n",
        "    path=['industry_name'], \n",
        "    values='cnt_vacancies', \n",
        "    height=800, \n",
        "    width=1200, \n",
        "    title='Сферы деятельности работодателей, указанные в вакансиях' #заголовок\n",
        ")\n",
        "\n",
        "#отображаем график\n",
        "fig.show()"
      ]
    },
    {
      "cell_type": "markdown",
      "id": "08ed8fb7",
      "metadata": {},
      "source": [
        "9) Определим ТОП-5 популярных вакансий"
      ]
    },
    {
      "cell_type": "code",
      "execution_count": 61,
      "id": "cd061ecf",
      "metadata": {},
      "outputs": [],
      "source": [
        "query_9 = f'''\n",
        "            SELECT name vacancies_name,\n",
        "                COUNT(id) cnt_vacancies\n",
        "            FROM public.vacancies\n",
        "            GROUP BY name\n",
        "            ORDER BY cnt_vacancies DESC\n",
        "            LIMIT 5\n",
        "            '''"
      ]
    },
    {
      "cell_type": "code",
      "execution_count": 62,
      "id": "2da3e9c5",
      "metadata": {},
      "outputs": [
        {
          "name": "stderr",
          "output_type": "stream",
          "text": [
            "h:\\DataScience\\programs\\lib\\site-packages\\pandas\\io\\sql.py:762: UserWarning:\n",
            "\n",
            "pandas only support SQLAlchemy connectable(engine/connection) ordatabase string URI or sqlite3 DBAPI2 connectionother DBAPI2 objects are not tested, please consider using SQLAlchemy\n",
            "\n"
          ]
        },
        {
          "data": {
            "text/html": [
              "<div>\n",
              "<style scoped>\n",
              "    .dataframe tbody tr th:only-of-type {\n",
              "        vertical-align: middle;\n",
              "    }\n",
              "\n",
              "    .dataframe tbody tr th {\n",
              "        vertical-align: top;\n",
              "    }\n",
              "\n",
              "    .dataframe thead th {\n",
              "        text-align: right;\n",
              "    }\n",
              "</style>\n",
              "<table border=\"1\" class=\"dataframe\">\n",
              "  <thead>\n",
              "    <tr style=\"text-align: right;\">\n",
              "      <th></th>\n",
              "      <th>vacancies_name</th>\n",
              "      <th>cnt_vacancies</th>\n",
              "    </tr>\n",
              "  </thead>\n",
              "  <tbody>\n",
              "    <tr>\n",
              "      <th>0</th>\n",
              "      <td>Системный администратор</td>\n",
              "      <td>1761</td>\n",
              "    </tr>\n",
              "    <tr>\n",
              "      <th>1</th>\n",
              "      <td>Программист 1С</td>\n",
              "      <td>1153</td>\n",
              "    </tr>\n",
              "    <tr>\n",
              "      <th>2</th>\n",
              "      <td>Бизнес-аналитик</td>\n",
              "      <td>488</td>\n",
              "    </tr>\n",
              "    <tr>\n",
              "      <th>3</th>\n",
              "      <td>Специалист технической поддержки</td>\n",
              "      <td>457</td>\n",
              "    </tr>\n",
              "    <tr>\n",
              "      <th>4</th>\n",
              "      <td>Системный аналитик</td>\n",
              "      <td>432</td>\n",
              "    </tr>\n",
              "  </tbody>\n",
              "</table>\n",
              "</div>"
            ],
            "text/plain": [
              "                     vacancies_name  cnt_vacancies\n",
              "0           Системный администратор           1761\n",
              "1                    Программист 1С           1153\n",
              "2                   Бизнес-аналитик            488\n",
              "3  Специалист технической поддержки            457\n",
              "4                Системный аналитик            432"
            ]
          },
          "execution_count": 62,
          "metadata": {},
          "output_type": "execute_result"
        }
      ],
      "source": [
        "# результат запроса\n",
        "top_vacancy = pd.read_sql_query(query_9, connection)\n",
        "top_vacancy"
      ]
    },
    {
      "cell_type": "code",
      "execution_count": 63,
      "id": "58cc2819",
      "metadata": {},
      "outputs": [],
      "source": [
        "# connection.close()"
      ]
    }
  ],
  "metadata": {
    "colab": {
      "collapsed_sections": [
        "8d62a9f3-f64e-4fe7-bdac-c4dffa16155e"
      ],
      "provenance": []
    },
    "kernelspec": {
      "display_name": "Python 3.9.10 64-bit",
      "language": "python",
      "name": "python3"
    },
    "language_info": {
      "codemirror_mode": {
        "name": "ipython",
        "version": 3
      },
      "file_extension": ".py",
      "mimetype": "text/x-python",
      "name": "python",
      "nbconvert_exporter": "python",
      "pygments_lexer": "ipython3",
      "version": "3.9.10"
    },
    "vscode": {
      "interpreter": {
        "hash": "f8cfe418a8f80a9ec912e68b33fbe739eced5aad73af1733e14dcddaa75e33c0"
      }
    }
  },
  "nbformat": 4,
  "nbformat_minor": 5
}
