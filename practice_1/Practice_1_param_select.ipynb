{
 "cells": [
  {
   "attachments": {},
   "cell_type": "markdown",
   "metadata": {},
   "source": [
    "# <center> Практика: Подбор гиперпараметров моделей </center>"
   ]
  },
  {
   "cell_type": "code",
   "execution_count": 1,
   "metadata": {},
   "outputs": [],
   "source": [
    "# необходимые библиотеки\n",
    "import pandas as pd\n",
    "import numpy as np\n",
    "import matplotlib.pyplot as plt #для визуализации\n",
    "import seaborn as sns #для визуализации\n",
    "import hyperopt\n",
    "import optuna\n",
    "import warnings\n",
    "warnings.filterwarnings('ignore')\n",
    "\n",
    "from sklearn import linear_model #линейные модели\n",
    "from sklearn import ensemble #ансамбли\n",
    "from sklearn import metrics #метрики\n",
    "from sklearn import model_selection #методы разделения и валидации\n",
    "from sklearn.model_selection import GridSearchCV\n",
    "from sklearn.model_selection import RandomizedSearchCV\n",
    "from sklearn.model_selection import train_test_split #сплитование выборки\n",
    "from sklearn.model_selection import cross_val_score\n",
    "from hyperopt import hp, fmin, tpe, Trials\n",
    "\n",
    "%matplotlib inline\n",
    "plt.style.use('seaborn')"
   ]
  },
  {
   "attachments": {},
   "cell_type": "markdown",
   "metadata": {},
   "source": [
    "## Чтение данных"
   ]
  },
  {
   "cell_type": "code",
   "execution_count": 2,
   "metadata": {},
   "outputs": [
    {
     "data": {
      "text/html": [
       "<div>\n",
       "<style scoped>\n",
       "    .dataframe tbody tr th:only-of-type {\n",
       "        vertical-align: middle;\n",
       "    }\n",
       "\n",
       "    .dataframe tbody tr th {\n",
       "        vertical-align: top;\n",
       "    }\n",
       "\n",
       "    .dataframe thead th {\n",
       "        text-align: right;\n",
       "    }\n",
       "</style>\n",
       "<table border=\"1\" class=\"dataframe\">\n",
       "  <thead>\n",
       "    <tr style=\"text-align: right;\">\n",
       "      <th></th>\n",
       "      <th>Activity</th>\n",
       "      <th>D1</th>\n",
       "      <th>D2</th>\n",
       "      <th>D3</th>\n",
       "      <th>D4</th>\n",
       "      <th>D5</th>\n",
       "      <th>D6</th>\n",
       "      <th>D7</th>\n",
       "      <th>D8</th>\n",
       "      <th>D9</th>\n",
       "      <th>...</th>\n",
       "      <th>D1767</th>\n",
       "      <th>D1768</th>\n",
       "      <th>D1769</th>\n",
       "      <th>D1770</th>\n",
       "      <th>D1771</th>\n",
       "      <th>D1772</th>\n",
       "      <th>D1773</th>\n",
       "      <th>D1774</th>\n",
       "      <th>D1775</th>\n",
       "      <th>D1776</th>\n",
       "    </tr>\n",
       "  </thead>\n",
       "  <tbody>\n",
       "    <tr>\n",
       "      <th>0</th>\n",
       "      <td>1</td>\n",
       "      <td>0.000000</td>\n",
       "      <td>0.497009</td>\n",
       "      <td>0.10</td>\n",
       "      <td>0.0</td>\n",
       "      <td>0.132956</td>\n",
       "      <td>0.678031</td>\n",
       "      <td>0.273166</td>\n",
       "      <td>0.585445</td>\n",
       "      <td>0.743663</td>\n",
       "      <td>...</td>\n",
       "      <td>0</td>\n",
       "      <td>0</td>\n",
       "      <td>0</td>\n",
       "      <td>0</td>\n",
       "      <td>0</td>\n",
       "      <td>0</td>\n",
       "      <td>0</td>\n",
       "      <td>0</td>\n",
       "      <td>0</td>\n",
       "      <td>0</td>\n",
       "    </tr>\n",
       "    <tr>\n",
       "      <th>1</th>\n",
       "      <td>1</td>\n",
       "      <td>0.366667</td>\n",
       "      <td>0.606291</td>\n",
       "      <td>0.05</td>\n",
       "      <td>0.0</td>\n",
       "      <td>0.111209</td>\n",
       "      <td>0.803455</td>\n",
       "      <td>0.106105</td>\n",
       "      <td>0.411754</td>\n",
       "      <td>0.836582</td>\n",
       "      <td>...</td>\n",
       "      <td>1</td>\n",
       "      <td>1</td>\n",
       "      <td>1</td>\n",
       "      <td>1</td>\n",
       "      <td>0</td>\n",
       "      <td>1</td>\n",
       "      <td>0</td>\n",
       "      <td>0</td>\n",
       "      <td>1</td>\n",
       "      <td>0</td>\n",
       "    </tr>\n",
       "    <tr>\n",
       "      <th>2</th>\n",
       "      <td>1</td>\n",
       "      <td>0.033300</td>\n",
       "      <td>0.480124</td>\n",
       "      <td>0.00</td>\n",
       "      <td>0.0</td>\n",
       "      <td>0.209791</td>\n",
       "      <td>0.610350</td>\n",
       "      <td>0.356453</td>\n",
       "      <td>0.517720</td>\n",
       "      <td>0.679051</td>\n",
       "      <td>...</td>\n",
       "      <td>0</td>\n",
       "      <td>0</td>\n",
       "      <td>0</td>\n",
       "      <td>0</td>\n",
       "      <td>0</td>\n",
       "      <td>0</td>\n",
       "      <td>0</td>\n",
       "      <td>0</td>\n",
       "      <td>0</td>\n",
       "      <td>0</td>\n",
       "    </tr>\n",
       "    <tr>\n",
       "      <th>3</th>\n",
       "      <td>1</td>\n",
       "      <td>0.000000</td>\n",
       "      <td>0.538825</td>\n",
       "      <td>0.00</td>\n",
       "      <td>0.5</td>\n",
       "      <td>0.196344</td>\n",
       "      <td>0.724230</td>\n",
       "      <td>0.235606</td>\n",
       "      <td>0.288764</td>\n",
       "      <td>0.805110</td>\n",
       "      <td>...</td>\n",
       "      <td>0</td>\n",
       "      <td>0</td>\n",
       "      <td>0</td>\n",
       "      <td>0</td>\n",
       "      <td>0</td>\n",
       "      <td>0</td>\n",
       "      <td>0</td>\n",
       "      <td>0</td>\n",
       "      <td>0</td>\n",
       "      <td>0</td>\n",
       "    </tr>\n",
       "    <tr>\n",
       "      <th>4</th>\n",
       "      <td>0</td>\n",
       "      <td>0.100000</td>\n",
       "      <td>0.517794</td>\n",
       "      <td>0.00</td>\n",
       "      <td>0.0</td>\n",
       "      <td>0.494734</td>\n",
       "      <td>0.781422</td>\n",
       "      <td>0.154361</td>\n",
       "      <td>0.303809</td>\n",
       "      <td>0.812646</td>\n",
       "      <td>...</td>\n",
       "      <td>0</td>\n",
       "      <td>0</td>\n",
       "      <td>0</td>\n",
       "      <td>0</td>\n",
       "      <td>0</td>\n",
       "      <td>0</td>\n",
       "      <td>0</td>\n",
       "      <td>0</td>\n",
       "      <td>0</td>\n",
       "      <td>0</td>\n",
       "    </tr>\n",
       "  </tbody>\n",
       "</table>\n",
       "<p>5 rows × 1777 columns</p>\n",
       "</div>"
      ],
      "text/plain": [
       "   Activity        D1        D2    D3   D4        D5        D6        D7  \\\n",
       "0         1  0.000000  0.497009  0.10  0.0  0.132956  0.678031  0.273166   \n",
       "1         1  0.366667  0.606291  0.05  0.0  0.111209  0.803455  0.106105   \n",
       "2         1  0.033300  0.480124  0.00  0.0  0.209791  0.610350  0.356453   \n",
       "3         1  0.000000  0.538825  0.00  0.5  0.196344  0.724230  0.235606   \n",
       "4         0  0.100000  0.517794  0.00  0.0  0.494734  0.781422  0.154361   \n",
       "\n",
       "         D8        D9  ...  D1767  D1768  D1769  D1770  D1771  D1772  D1773  \\\n",
       "0  0.585445  0.743663  ...      0      0      0      0      0      0      0   \n",
       "1  0.411754  0.836582  ...      1      1      1      1      0      1      0   \n",
       "2  0.517720  0.679051  ...      0      0      0      0      0      0      0   \n",
       "3  0.288764  0.805110  ...      0      0      0      0      0      0      0   \n",
       "4  0.303809  0.812646  ...      0      0      0      0      0      0      0   \n",
       "\n",
       "   D1774  D1775  D1776  \n",
       "0      0      0      0  \n",
       "1      0      1      0  \n",
       "2      0      0      0  \n",
       "3      0      0      0  \n",
       "4      0      0      0  \n",
       "\n",
       "[5 rows x 1777 columns]"
      ]
     },
     "execution_count": 2,
     "metadata": {},
     "output_type": "execute_result"
    }
   ],
   "source": [
    "# загружаем данные и выводим несколько строк\n",
    "data = pd.read_csv('data/train_sem.csv')\n",
    "data.head()"
   ]
  },
  {
   "cell_type": "code",
   "execution_count": 3,
   "metadata": {},
   "outputs": [
    {
     "data": {
      "text/plain": [
       "(3751, 1777)"
      ]
     },
     "execution_count": 3,
     "metadata": {},
     "output_type": "execute_result"
    }
   ],
   "source": [
    "# посмотрим на размер таблицы\n",
    "data.shape"
   ]
  },
  {
   "attachments": {},
   "cell_type": "markdown",
   "metadata": {},
   "source": [
    "Создаем матрицу наблюдений $X$ и вектор правильных ответов $y$"
   ]
  },
  {
   "cell_type": "code",
   "execution_count": 4,
   "metadata": {},
   "outputs": [],
   "source": [
    "# матрица наблюдений X и вектор правильных ответов y\n",
    "X = data.drop('Activity', axis=1)\n",
    "y = data['Activity']"
   ]
  },
  {
   "cell_type": "code",
   "execution_count": 5,
   "metadata": {},
   "outputs": [
    {
     "data": {
      "text/plain": [
       "1    0.542255\n",
       "0    0.457745\n",
       "Name: Activity, dtype: float64"
      ]
     },
     "metadata": {},
     "output_type": "display_data"
    },
    {
     "data": {
      "image/png": "[encoded data removed]",
      "text/plain": [
       "<Figure size 800x550 with 1 Axes>"
      ]
     },
     "metadata": {},
     "output_type": "display_data"
    }
   ],
   "source": [
    "# оценим сбалансированность классов в целевом признаке\n",
    "display(y.value_counts(True))\n",
    "sns.countplot(data=data, x='Activity');"
   ]
  },
  {
   "attachments": {},
   "cell_type": "markdown",
   "metadata": {},
   "source": [
    "Классы имеют небольшой дисбаланс, выполним двухкомпонентное разбиение выборки со стратификацией в соотношении 70/30"
   ]
  },
  {
   "cell_type": "code",
   "execution_count": 6,
   "metadata": {},
   "outputs": [],
   "source": [
    "X_train, X_test, y_train, y_test = train_test_split(X, y, test_size=0.3, stratify=y, random_state=42)"
   ]
  },
  {
   "attachments": {},
   "cell_type": "markdown",
   "metadata": {},
   "source": [
    "### **Модель логистической регрессии с параметрами по умолчанию**\n",
    "Решим задачу бинарной классификации с помощью логистической регрессии с параметрами по умолчанию"
   ]
  },
  {
   "cell_type": "code",
   "execution_count": 7,
   "metadata": {},
   "outputs": [],
   "source": [
    "# зафиксируем random_state\n",
    "random_state = 42\n",
    "# для подведения итогов и построения визализации создадим списки:\n",
    "# список наименований этапов подбора параметров модели\n",
    "types = ['Hold-out', 'K-fold', 'GSCV', 'RSCV', 'Hyperopt', 'Optuna']\n",
    "# пустые списки для заполнения значениями метрик f1\n",
    "logreg_f1 = []\n",
    "randomforest_f1 = []"
   ]
  },
  {
   "cell_type": "code",
   "execution_count": 8,
   "metadata": {},
   "outputs": [
    {
     "name": "stdout",
     "output_type": "stream",
     "text": [
      "LogReg hold-out F1-score: 0.78\n"
     ]
    }
   ],
   "source": [
    "#Создаем модель\n",
    "log_reg = linear_model.LogisticRegression(random_state=random_state, max_iter=500)\n",
    "# обучаем модель\n",
    "log_reg.fit(X_train, y_train)\n",
    "# выполним предсказание\n",
    "y_pred_lr = log_reg.predict(X_test)\n",
    "# рассчитаем метрику F1-score\n",
    "f1_hold_out = metrics.f1_score(y_test, y_pred_lr).round(3)\n",
    "print('LogReg hold-out F1-score:', f1_hold_out)\n",
    "# добавляем метрику в список\n",
    "logreg_f1.append(f1_hold_out)"
   ]
  },
  {
   "cell_type": "code",
   "execution_count": 9,
   "metadata": {},
   "outputs": [
    {
     "data": {
      "text/plain": [
       "{'fit_time': array([3.04539633, 3.13121605, 2.88331032, 2.94599032, 2.92546105]),\n",
       " 'score_time': array([0.01561117, 0.02415848, 0.02534819, 0.02597332, 0.02449179]),\n",
       " 'test_score': array([0.76108374, 0.78953627, 0.76271186, 0.79081016, 0.77546012])}"
      ]
     },
     "metadata": {},
     "output_type": "display_data"
    },
    {
     "name": "stdout",
     "output_type": "stream",
     "text": [
      "LogReg k-fold mean F1-score: 0.776\n"
     ]
    }
   ],
   "source": [
    "#Создаём объект кросс-валидатора StratifiedKFold\n",
    "skf = model_selection.StratifiedKFold(n_splits=5)\n",
    "#Считаем метрику на кросс-валидации k-fold\n",
    "cv_metrics = model_selection.cross_validate(\n",
    "    estimator=log_reg, #модель \n",
    "    X=X, #матрица наблюдений X \n",
    "    y=y, #вектор ответов y \n",
    "    cv=skf, #кросс-валидатор \n",
    "    scoring='f1' #метрика \n",
    "    )\n",
    "display(cv_metrics)\n",
    "f1_k_fold = np.mean(cv_metrics['test_score']).round(3)\n",
    "print('LogReg k-fold mean F1-score:', f1_k_fold)\n",
    "# добавляем метрику в список\n",
    "logreg_f1.append(f1_k_fold)"
   ]
  },
  {
   "attachments": {},
   "cell_type": "markdown",
   "metadata": {},
   "source": [
    "### <center> **Подбор гиперпараметров для логистической регрессии**"
   ]
  },
  {
   "attachments": {},
   "cell_type": "markdown",
   "metadata": {},
   "source": [
    "#### <center> **GridSearchCV** для логистической регрессии"
   ]
  },
  {
   "cell_type": "code",
   "execution_count": 10,
   "metadata": {},
   "outputs": [
    {
     "name": "stdout",
     "output_type": "stream",
     "text": [
      "CPU times: total: 2.84 s\n",
      "Wall time: 7min\n",
      "Наилучшие значения гиперпараметров: {'C': 0.05, 'penalty': 'l2', 'solver': 'lbfgs'}\n",
      "LogReg GSCV F1-score: 0.79\n"
     ]
    }
   ],
   "source": [
    "# задаем гиперпараметры\n",
    "param_grid = {'penalty': ['l2', 'none'] , # тип регуляризации\n",
    "              'solver': ['lbfgs', 'sag'], # алгоритм оптимизации\n",
    "              'C': list(np.linspace(0.05, 0.15, 5, dtype=float)) # уровень силы регуляризации\n",
    "              }\n",
    "\n",
    "grid_search = GridSearchCV(\n",
    "    estimator=log_reg, # модель\n",
    "    param_grid=param_grid, # словарь гиперпараметров\n",
    "    cv=5, # количество фолдов в кросс-валидации\n",
    "    n_jobs = -1\n",
    ")\n",
    "  \n",
    "%time grid_search.fit(X_train, y_train) \n",
    "y_test_pred = grid_search.predict(X_test)\n",
    "print(\"Наилучшие значения гиперпараметров: {}\".format(grid_search.best_params_))\n",
    "# расчет метрики на тестовой выборке\n",
    "f1_gscv = metrics.f1_score(y_test, y_test_pred).round(3)\n",
    "print('LogReg GSCV F1-score:', f1_gscv)\n",
    "# добавляем метрику в список\n",
    "logreg_f1.append(f1_gscv)"
   ]
  },
  {
   "attachments": {},
   "cell_type": "markdown",
   "metadata": {},
   "source": [
    "#### <center> **RandomizedSearchCV** для логистической регрессии"
   ]
  },
  {
   "cell_type": "code",
   "execution_count": 11,
   "metadata": {},
   "outputs": [
    {
     "name": "stdout",
     "output_type": "stream",
     "text": [
      "CPU times: total: 2.78 s\n",
      "Wall time: 4min 39s\n",
      "Наилучшие значения гиперпараметров: {'solver': 'lbfgs', 'penalty': 'l2', 'C': 0.05}\n",
      "LogReg GSCV F1-score: 0.79\n"
     ]
    }
   ],
   "source": [
    "# задаем гиперпараметры\n",
    "param_distributions = {'penalty': ['l2', 'none'], # тип регуляризации\n",
    "              'solver': ['lbfgs', 'sag'], # алгоритм оптимизации\n",
    "              'C': list(np.linspace(0.05, 0.15, 5, dtype=float)) # уровень силы регуляризации\n",
    "              }\n",
    "random_search = RandomizedSearchCV(\n",
    "    estimator=log_reg, # модель\n",
    "    param_distributions=param_distributions, # словарь гиперпараметров\n",
    "    cv=5, # количество фолдов в кросс-валидации\n",
    "    n_jobs = -1,\n",
    "    n_iter = 15, # количество комбинаций гиперпараметров\n",
    ")  \n",
    "%time random_search.fit(X_train, y_train) \n",
    "y_test_pred = random_search.predict(X_test)\n",
    "\n",
    "print(\"Наилучшие значения гиперпараметров: {}\".format(random_search.best_params_))\n",
    "# расчет метрики\n",
    "f1_rscv = metrics.f1_score(y_test, y_test_pred).round(3)\n",
    "print('LogReg GSCV F1-score:', f1_rscv)\n",
    "# добавляем метрику в список\n",
    "logreg_f1.append(f1_rscv)"
   ]
  },
  {
   "attachments": {},
   "cell_type": "markdown",
   "metadata": {},
   "source": [
    "#### <center> **Hyperopt** для логистической регрессии"
   ]
  },
  {
   "cell_type": "code",
   "execution_count": 12,
   "metadata": {},
   "outputs": [],
   "source": [
    "# зададим пространство поиска гиперпараметров\n",
    "space = {\n",
    "    'penalty': hp.choice(label='penalty', options=['l2', 'none']),\n",
    "    'solver': hp.choice(label='solver', options=['lbfgs', 'sag']),\n",
    "    'C': hp.uniform(label='C', low=0.05, high=0.15)\n",
    "}"
   ]
  },
  {
   "cell_type": "code",
   "execution_count": 13,
   "metadata": {},
   "outputs": [],
   "source": [
    "# создаем функцию для минимизации \n",
    "def hyperopt_logreg(params, cv=5, X=X_train, y=y_train, random_state=random_state):\n",
    "    # функция получает комбинацию гиперпараметров в \"params\"\n",
    "    params = {'penalty': params['penalty'], \n",
    "              'solver': params['solver'], \n",
    "             'C': params['C']\n",
    "              }\n",
    "  \n",
    "    # используем эту комбинацию для построения модели\n",
    "    model = linear_model.LogisticRegression(**params, random_state=random_state)\n",
    "    # обучаем модель\n",
    "    model.fit(X, y) \n",
    "    # применим  cross validation с тем же количеством фолдов\n",
    "    score = cross_val_score(model, X, y, cv=cv, scoring=\"f1\", n_jobs=-1).mean()\n",
    "\n",
    "    # метрику необходимо максимизировать, поэтому ставим знак минус\n",
    "    return -score "
   ]
  },
  {
   "cell_type": "code",
   "execution_count": 14,
   "metadata": {},
   "outputs": [
    {
     "name": "stdout",
     "output_type": "stream",
     "text": [
      "100%|██████████| 30/30 [06:11<00:00, 12.39s/trial, best loss: -0.7923984745121717]\n",
      "Наилучшие значения гиперпараметров {'C': 0.06325261922632554, 'penalty': 'l2', 'solver': 'sag'}\n",
      "CPU times: total: 2min 20s\n",
      "Wall time: 6min 13s\n"
     ]
    }
   ],
   "source": [
    "%%time\n",
    "\n",
    "trials = Trials() # используется для логирования результатов\n",
    "\n",
    "best = fmin(\n",
    "    fn=hyperopt_logreg, # наша функция \n",
    "    space=space, # пространство гиперпараметров\n",
    "    algo=tpe.suggest, # алгоритм оптимизации\n",
    "    max_evals=30, # максимальное количество итераций\n",
    "    trials=trials, # логирование результатов\n",
    "    rstate=np.random.default_rng(random_state)# фиксируем для повторяемости результата\n",
    "    )\n",
    "\n",
    "best_space = hyperopt.space_eval(space, best)\n",
    "print(\"Наилучшие значения гиперпараметров {}\".format(best_space))"
   ]
  },
  {
   "cell_type": "code",
   "execution_count": 15,
   "metadata": {},
   "outputs": [
    {
     "name": "stdout",
     "output_type": "stream",
     "text": [
      "LogReg Hyperopt F1-score: 0.79\n"
     ]
    }
   ],
   "source": [
    "# рассчитаем точность для тестовой выборки\n",
    "model = linear_model.LogisticRegression(\n",
    "    random_state=random_state, \n",
    "    penalty=best_space['penalty'],\n",
    "    solver=best_space['solver'],\n",
    "    C=best_space['C']\n",
    ")\n",
    "model.fit(X_train, y_train)\n",
    "y_test_pred = model.predict(X_test)\n",
    "f1_hyperopt = metrics.f1_score(y_test, y_test_pred).round(3)\n",
    "print('LogReg Hyperopt F1-score:', f1_hyperopt)\n",
    "# добавляем метрику в список\n",
    "logreg_f1.append(f1_hyperopt)"
   ]
  },
  {
   "attachments": {},
   "cell_type": "markdown",
   "metadata": {},
   "source": [
    "#### <center> **Optuna** для логистической регрессии"
   ]
  },
  {
   "cell_type": "code",
   "execution_count": 16,
   "metadata": {},
   "outputs": [],
   "source": [
    "def optuna_lr(trial):\n",
    "  # задаем пространства поиска гиперпараметров\n",
    "  penalty = trial.suggest_categorical('penalty', ['l2', 'none'])\n",
    "  solver = trial.suggest_categorical('solver', ['lbfgs', 'sag'])\n",
    "  C = trial.suggest_float('C', 0.01, 0.15)\n",
    "\n",
    "  # создаем модель\n",
    "  model = linear_model.LogisticRegression(penalty=penalty,\n",
    "                                          solver=solver,\n",
    "                                          C=C,\n",
    "                                          random_state=random_state)\n",
    "  # обучаем модель\n",
    "  model.fit(X_train, y_train)\n",
    "  # score = metrics.f1_score(y_train, model.predict(X_train))\n",
    "  score = cross_val_score(model, X_train, y_train, cv=skf, scoring=\"f1\", n_jobs=-1).mean()\n",
    "\n",
    "  return score  "
   ]
  },
  {
   "cell_type": "code",
   "execution_count": 17,
   "metadata": {},
   "outputs": [
    {
     "name": "stderr",
     "output_type": "stream",
     "text": [
      "\u001b[32m[I 2023-03-16 14:35:58,660]\u001b[0m A new study created in memory with name: LogisticRegression\u001b[0m\n",
      "\u001b[32m[I 2023-03-16 14:36:18,348]\u001b[0m Trial 0 finished with value: 0.7673902574095766 and parameters: {'penalty': 'none', 'solver': 'sag', 'C': 0.13794125916313765}. Best is trial 0 with value: 0.7673902574095766.\u001b[0m\n",
      "\u001b[32m[I 2023-03-16 14:36:22,035]\u001b[0m Trial 1 finished with value: 0.7382304069684554 and parameters: {'penalty': 'none', 'solver': 'lbfgs', 'C': 0.01945344447153609}. Best is trial 0 with value: 0.7673902574095766.\u001b[0m\n",
      "\u001b[32m[I 2023-03-16 14:36:40,810]\u001b[0m Trial 2 finished with value: 0.7911300263841337 and parameters: {'penalty': 'l2', 'solver': 'sag', 'C': 0.049645090103915386}. Best is trial 2 with value: 0.7911300263841337.\u001b[0m\n",
      "\u001b[32m[I 2023-03-16 14:36:59,313]\u001b[0m Trial 3 finished with value: 0.7673902574095766 and parameters: {'penalty': 'none', 'solver': 'sag', 'C': 0.0585819275247641}. Best is trial 2 with value: 0.7911300263841337.\u001b[0m\n",
      "\u001b[32m[I 2023-03-16 14:37:18,239]\u001b[0m Trial 4 finished with value: 0.7673902574095766 and parameters: {'penalty': 'none', 'solver': 'sag', 'C': 0.016040468400329112}. Best is trial 2 with value: 0.7911300263841337.\u001b[0m\n",
      "\u001b[32m[I 2023-03-16 14:37:38,687]\u001b[0m Trial 5 finished with value: 0.7893844342862876 and parameters: {'penalty': 'l2', 'solver': 'sag', 'C': 0.022558821313422704}. Best is trial 2 with value: 0.7911300263841337.\u001b[0m\n",
      "\u001b[32m[I 2023-03-16 14:37:57,392]\u001b[0m Trial 6 finished with value: 0.7913067445022904 and parameters: {'penalty': 'l2', 'solver': 'sag', 'C': 0.08283244601533493}. Best is trial 6 with value: 0.7913067445022904.\u001b[0m\n",
      "\u001b[32m[I 2023-03-16 14:38:15,914]\u001b[0m Trial 7 finished with value: 0.7916665939011502 and parameters: {'penalty': 'l2', 'solver': 'sag', 'C': 0.040581364233811375}. Best is trial 7 with value: 0.7916665939011502.\u001b[0m\n",
      "\u001b[32m[I 2023-03-16 14:38:19,344]\u001b[0m Trial 8 finished with value: 0.7382304069684554 and parameters: {'penalty': 'none', 'solver': 'lbfgs', 'C': 0.03577466818176375}. Best is trial 7 with value: 0.7916665939011502.\u001b[0m\n",
      "\u001b[32m[I 2023-03-16 14:38:22,697]\u001b[0m Trial 9 finished with value: 0.7382304069684554 and parameters: {'penalty': 'none', 'solver': 'lbfgs', 'C': 0.13802453250280747}. Best is trial 7 with value: 0.7916665939011502.\u001b[0m\n",
      "\u001b[32m[I 2023-03-16 14:38:41,778]\u001b[0m Trial 10 finished with value: 0.7899549505700378 and parameters: {'penalty': 'l2', 'solver': 'sag', 'C': 0.0787689754892981}. Best is trial 7 with value: 0.7916665939011502.\u001b[0m\n",
      "\u001b[32m[I 2023-03-16 14:39:00,094]\u001b[0m Trial 11 finished with value: 0.7891024923504107 and parameters: {'penalty': 'l2', 'solver': 'sag', 'C': 0.09219058390434304}. Best is trial 7 with value: 0.7916665939011502.\u001b[0m\n",
      "\u001b[32m[I 2023-03-16 14:39:18,588]\u001b[0m Trial 12 finished with value: 0.7904892762551889 and parameters: {'penalty': 'l2', 'solver': 'sag', 'C': 0.07593841442869323}. Best is trial 7 with value: 0.7916665939011502.\u001b[0m\n",
      "\u001b[32m[I 2023-03-16 14:39:37,072]\u001b[0m Trial 13 finished with value: 0.7893844215220905 and parameters: {'penalty': 'l2', 'solver': 'sag', 'C': 0.10401620555444607}. Best is trial 7 with value: 0.7916665939011502.\u001b[0m\n",
      "\u001b[32m[I 2023-03-16 14:39:56,232]\u001b[0m Trial 14 finished with value: 0.7911300263841337 and parameters: {'penalty': 'l2', 'solver': 'sag', 'C': 0.0495957081814754}. Best is trial 7 with value: 0.7916665939011502.\u001b[0m\n",
      "\u001b[32m[I 2023-03-16 14:39:59,936]\u001b[0m Trial 15 finished with value: 0.7932329009714504 and parameters: {'penalty': 'l2', 'solver': 'lbfgs', 'C': 0.06001195709839367}. Best is trial 15 with value: 0.7932329009714504.\u001b[0m\n",
      "\u001b[32m[I 2023-03-16 14:40:03,568]\u001b[0m Trial 16 finished with value: 0.7927945654512938 and parameters: {'penalty': 'l2', 'solver': 'lbfgs', 'C': 0.03499158357615554}. Best is trial 15 with value: 0.7932329009714504.\u001b[0m\n",
      "\u001b[32m[I 2023-03-16 14:40:07,007]\u001b[0m Trial 17 finished with value: 0.7929673592158497 and parameters: {'penalty': 'l2', 'solver': 'lbfgs', 'C': 0.061109663764741015}. Best is trial 15 with value: 0.7932329009714504.\u001b[0m\n",
      "\u001b[32m[I 2023-03-16 14:40:11,188]\u001b[0m Trial 18 finished with value: 0.7934921426394799 and parameters: {'penalty': 'l2', 'solver': 'lbfgs', 'C': 0.06521294515278883}. Best is trial 18 with value: 0.7934921426394799.\u001b[0m\n",
      "\u001b[32m[I 2023-03-16 14:40:15,219]\u001b[0m Trial 19 finished with value: 0.7929560837071328 and parameters: {'penalty': 'l2', 'solver': 'lbfgs', 'C': 0.0682334134093112}. Best is trial 18 with value: 0.7934921426394799.\u001b[0m\n",
      "\u001b[32m[I 2023-03-16 14:40:18,932]\u001b[0m Trial 20 finished with value: 0.7899362023578262 and parameters: {'penalty': 'l2', 'solver': 'lbfgs', 'C': 0.09767112544859602}. Best is trial 18 with value: 0.7934921426394799.\u001b[0m\n",
      "\u001b[32m[I 2023-03-16 14:40:22,447]\u001b[0m Trial 21 finished with value: 0.792690541951532 and parameters: {'penalty': 'l2', 'solver': 'lbfgs', 'C': 0.06762357642155443}. Best is trial 18 with value: 0.7934921426394799.\u001b[0m\n",
      "\u001b[32m[I 2023-03-16 14:40:25,833]\u001b[0m Trial 22 finished with value: 0.7918600033417496 and parameters: {'penalty': 'l2', 'solver': 'lbfgs', 'C': 0.057206616943831806}. Best is trial 18 with value: 0.7934921426394799.\u001b[0m\n",
      "\u001b[32m[I 2023-03-16 14:40:29,175]\u001b[0m Trial 23 finished with value: 0.7930860741718243 and parameters: {'penalty': 'l2', 'solver': 'lbfgs', 'C': 0.06437642578877782}. Best is trial 18 with value: 0.7934921426394799.\u001b[0m\n",
      "\u001b[32m[I 2023-03-16 14:40:32,576]\u001b[0m Trial 24 finished with value: 0.7917234615028509 and parameters: {'penalty': 'l2', 'solver': 'lbfgs', 'C': 0.07027873218925484}. Best is trial 18 with value: 0.7934921426394799.\u001b[0m\n",
      "\u001b[32m[I 2023-03-16 14:40:35,955]\u001b[0m Trial 25 finished with value: 0.7907185396150157 and parameters: {'penalty': 'l2', 'solver': 'lbfgs', 'C': 0.04602415991584814}. Best is trial 18 with value: 0.7934921426394799.\u001b[0m\n",
      "\u001b[32m[I 2023-03-16 14:40:39,307]\u001b[0m Trial 26 finished with value: 0.7929631194131131 and parameters: {'penalty': 'l2', 'solver': 'lbfgs', 'C': 0.05869729587135269}. Best is trial 18 with value: 0.7934921426394799.\u001b[0m\n",
      "\u001b[32m[I 2023-03-16 14:40:42,217]\u001b[0m Trial 27 finished with value: 0.7924985811008164 and parameters: {'penalty': 'l2', 'solver': 'lbfgs', 'C': 0.029480470488816586}. Best is trial 18 with value: 0.7934921426394799.\u001b[0m\n",
      "\u001b[32m[I 2023-03-16 14:40:44,633]\u001b[0m Trial 28 finished with value: 0.7861191214488451 and parameters: {'penalty': 'l2', 'solver': 'lbfgs', 'C': 0.012230970709056127}. Best is trial 18 with value: 0.7934921426394799.\u001b[0m\n",
      "\u001b[32m[I 2023-03-16 14:40:48,006]\u001b[0m Trial 29 finished with value: 0.7382304069684554 and parameters: {'penalty': 'none', 'solver': 'lbfgs', 'C': 0.14995772666373525}. Best is trial 18 with value: 0.7934921426394799.\u001b[0m\n"
     ]
    },
    {
     "name": "stdout",
     "output_type": "stream",
     "text": [
      "CPU times: total: 1min 54s\n",
      "Wall time: 4min 49s\n"
     ]
    }
   ],
   "source": [
    "%%time\n",
    "# cоздаем объект исследования\n",
    "# указываем, что нам необходимо максимизировать метрику direction=\"maximize\"\n",
    "study = optuna.create_study(study_name=\"LogisticRegression\", direction=\"maximize\")\n",
    "# ищем лучшую комбинацию гиперпараметров n_trials раз\n",
    "study.optimize(optuna_lr, n_trials=30)"
   ]
  },
  {
   "cell_type": "code",
   "execution_count": 18,
   "metadata": {},
   "outputs": [
    {
     "name": "stdout",
     "output_type": "stream",
     "text": [
      "Наилучшие значения гиперпараметров {'penalty': 'l2', 'solver': 'lbfgs', 'C': 0.06521294515278883}\n",
      "LogReg Optuna F1-score: 0.79\n"
     ]
    }
   ],
   "source": [
    "# выводим результаты на обучающей выборке\n",
    "print(\"Наилучшие значения гиперпараметров {}\".format(study.best_params))\n",
    "\n",
    "# рассчитаем метрику для тестовой выборки\n",
    "model = linear_model.LogisticRegression(**study.best_params, random_state=random_state)\n",
    "model.fit(X_train, y_train)\n",
    "y_train_pred = model.predict(X_train)\n",
    "f1_optuna = metrics.f1_score(y_test, y_test_pred).round(3)\n",
    "print(\"LogReg Optuna F1-score:\", f1_optuna)\n",
    "# добавляем метрику в список\n",
    "logreg_f1.append(f1_optuna)"
   ]
  },
  {
   "attachments": {},
   "cell_type": "markdown",
   "metadata": {},
   "source": [
    "### **Модель случайного леса с параметрами по умолчанию**\n",
    "Решим задачу бинарной классификации с помощью случайного леса с параметрами по умолчанию"
   ]
  },
  {
   "cell_type": "code",
   "execution_count": 19,
   "metadata": {},
   "outputs": [
    {
     "name": "stdout",
     "output_type": "stream",
     "text": [
      "Random Forest hold-out F1-score: 0.793\n"
     ]
    }
   ],
   "source": [
    "# Создаем модель\n",
    "rf = ensemble.RandomForestClassifier(random_state = random_state)\n",
    "# обучаем модель\n",
    "rf.fit(X_train, y_train)\n",
    "# предсказание\n",
    "y_pred_rf = rf.predict(X_test)\n",
    "# расчет метрики\n",
    "f1_hold_out = metrics.f1_score(y_test, y_pred_rf).round(3)\n",
    "print('Random Forest hold-out F1-score:', f1_hold_out)\n",
    "# добавляем метрику в список\n",
    "randomforest_f1.append(f1_hold_out)"
   ]
  },
  {
   "cell_type": "code",
   "execution_count": 20,
   "metadata": {},
   "outputs": [
    {
     "name": "stdout",
     "output_type": "stream",
     "text": [
      "Random Forest k-fold mean F1-score: 0.813\n"
     ]
    }
   ],
   "source": [
    "#Считаем метрику на кросс-валидации k-fold\n",
    "cv_metrics_rf = model_selection.cross_validate(\n",
    "    estimator=rf, #модель \n",
    "    X=X, #матрица наблюдений X \n",
    "    y=y, #вектор ответов y \n",
    "    cv=skf, #кросс-валидатор \n",
    "    scoring='f1' #метрика \n",
    "    )\n",
    "\n",
    "f1_k_fold = np.mean(cv_metrics_rf['test_score']).round(3)\n",
    "print('Random Forest k-fold mean F1-score:', f1_k_fold)\n",
    "# добавляем метрику в список\n",
    "randomforest_f1.append(f1_k_fold)"
   ]
  },
  {
   "attachments": {},
   "cell_type": "markdown",
   "metadata": {},
   "source": [
    "#### <center> **GridSearchCV** для случайного леса"
   ]
  },
  {
   "cell_type": "code",
   "execution_count": 21,
   "metadata": {},
   "outputs": [
    {
     "name": "stdout",
     "output_type": "stream",
     "text": [
      "CPU times: total: 3.38 s\n",
      "Wall time: 3min 49s\n",
      "Наилучшие значения гиперпараметров: {'max_depth': 16, 'min_samples_leaf': 5, 'n_estimators': 130}\n",
      "Random Forest GSCV F1-score: 0.787\n"
     ]
    }
   ],
   "source": [
    "# задаем гиперпараметры\n",
    "param_grid = {'n_estimators': list(range(100, 200, 30)),\n",
    "              'min_samples_leaf': [5, 7],\n",
    "              'max_depth': list(np.linspace(10, 25, 8, dtype=int))\n",
    "              }\n",
    "            \n",
    "grid_search_forest = GridSearchCV(\n",
    "    estimator=rf, \n",
    "    param_grid=param_grid, \n",
    "    cv=5,\n",
    "    n_jobs = -1\n",
    ")  \n",
    "%time grid_search_forest.fit(X_train, y_train) \n",
    "\n",
    "y_test_pred = grid_search_forest.predict(X_test)\n",
    "print(\"Наилучшие значения гиперпараметров: {}\".format(grid_search_forest.best_params_))\n",
    "f1_gscv = metrics.f1_score(y_test, y_test_pred).round(3)\n",
    "print('Random Forest GSCV F1-score:', f1_gscv)\n",
    "# добавляем метрику в список\n",
    "randomforest_f1.append(f1_gscv)"
   ]
  },
  {
   "attachments": {},
   "cell_type": "markdown",
   "metadata": {},
   "source": [
    "#### <center> **RandomizedSearchCV** для случайного леса"
   ]
  },
  {
   "cell_type": "code",
   "execution_count": 22,
   "metadata": {},
   "outputs": [
    {
     "name": "stdout",
     "output_type": "stream",
     "text": [
      "CPU times: total: 4.03 s\n",
      "Wall time: 1min 32s\n",
      "Наилучшие значения гиперпараметров: {'n_estimators': 190, 'min_samples_leaf': 5, 'max_depth': 16}\n",
      "Random Forest RSCV F1-score: 0.791\n"
     ]
    }
   ],
   "source": [
    "# задаем гиперпараметры\n",
    "param_distributions = {'n_estimators': list(range(100, 200, 30)),\n",
    "              'min_samples_leaf': [5, 7],\n",
    "              'max_depth': list(np.linspace(10, 25, 8, dtype=int))\n",
    "              }\n",
    "            \n",
    "random_search_forest = RandomizedSearchCV(\n",
    "    estimator=ensemble.RandomForestClassifier(random_state=42), \n",
    "    param_distributions=param_distributions, \n",
    "    cv=5,\n",
    "    n_iter = 30, \n",
    "    n_jobs = -1\n",
    ")  \n",
    "%time random_search_forest.fit(X_train, y_train) \n",
    "y_test_pred = random_search_forest.predict(X_test)\n",
    "print(\"Наилучшие значения гиперпараметров: {}\".format(random_search_forest.best_params_))\n",
    "f1_rscv = metrics.f1_score(y_test, y_test_pred).round(3)\n",
    "print('Random Forest RSCV F1-score:', f1_rscv)\n",
    "# добавляем метрику в список\n",
    "randomforest_f1.append(f1_rscv)"
   ]
  },
  {
   "attachments": {},
   "cell_type": "markdown",
   "metadata": {},
   "source": [
    "#### <center> **Hyperopt** для случайного леса"
   ]
  },
  {
   "cell_type": "code",
   "execution_count": 23,
   "metadata": {},
   "outputs": [],
   "source": [
    "# зададим пространство поиска гиперпараметров\n",
    "space={'n_estimators': hp.quniform('n_estimators', 100, 250, 10),\n",
    "       'max_depth' : hp.quniform('max_depth', 12, 25, 1),\n",
    "       'min_samples_leaf': hp.quniform('min_samples_leaf', 2, 10, 1)\n",
    "      }"
   ]
  },
  {
   "cell_type": "code",
   "execution_count": 24,
   "metadata": {},
   "outputs": [],
   "source": [
    "def hyperopt_rf(params, cv=5, X=X_train, y=y_train, random_state=random_state):\n",
    "    # функция получает комбинацию гиперпараметров в \"params\"\n",
    "    params = {'n_estimators': int(params['n_estimators']), \n",
    "              'max_depth': int(params['max_depth']), \n",
    "             'min_samples_leaf': int(params['min_samples_leaf'])\n",
    "              }\n",
    "  \n",
    "    # используем эту комбинацию для построения модели\n",
    "    model = ensemble.RandomForestClassifier(**params, random_state=random_state)\n",
    "    # обучаем модель\n",
    "    model.fit(X, y)\n",
    "    # применим  cross validation с тем же количеством фолдов\n",
    "    score = cross_val_score(model, X, y, cv=cv, scoring=\"f1\", n_jobs=-1).mean()\n",
    "\n",
    "    # метрику необходимо максимизировать, поэтому ставим знак минус\n",
    "    return -score"
   ]
  },
  {
   "cell_type": "code",
   "execution_count": 25,
   "metadata": {},
   "outputs": [
    {
     "name": "stdout",
     "output_type": "stream",
     "text": [
      "100%|██████████| 30/30 [04:21<00:00,  8.73s/trial, best loss: -0.8215888642046005]\n",
      "Наилучшие значения гиперпараметров {'max_depth': 20.0, 'min_samples_leaf': 3.0, 'n_estimators': 120.0}\n",
      "Наилучшие значения гиперпараметров {'max_depth': 20.0, 'min_samples_leaf': 3.0, 'n_estimators': 120.0}\n",
      "CPU times: total: 1min 28s\n",
      "Wall time: 4min 21s\n"
     ]
    }
   ],
   "source": [
    "%%time\n",
    "\n",
    "trials = Trials() # используется для логирования результатов\n",
    "\n",
    "best = fmin(hyperopt_rf, # наша функция \n",
    "          space=space, # пространство гиперпараметров\n",
    "          algo=tpe.suggest, # алгоритм оптимизации\n",
    "          max_evals=30, # максимальное количество итераций\n",
    "          trials=trials, # логирование результатов\n",
    "          rstate=np.random.default_rng(random_state)# фиксируем для повторяемости результата\n",
    "         )\n",
    "print(\"Наилучшие значения гиперпараметров {}\".format(best))\n",
    "print(\"Наилучшие значения гиперпараметров {}\".format(hyperopt.space_eval(space, best)))"
   ]
  },
  {
   "cell_type": "code",
   "execution_count": 26,
   "metadata": {},
   "outputs": [
    {
     "name": "stdout",
     "output_type": "stream",
     "text": [
      "Random Forest Hyperopt F1-score: 0.799\n"
     ]
    }
   ],
   "source": [
    "# рассчитаем метрику для тестовой выборки\n",
    "model = ensemble.RandomForestClassifier(\n",
    "    random_state=random_state, \n",
    "    n_estimators=int(best['n_estimators']),\n",
    "    max_depth=int(best['max_depth']),\n",
    "    min_samples_leaf=int(best['min_samples_leaf'])\n",
    ")\n",
    "model.fit(X_train, y_train)\n",
    "y_test_pred = model.predict(X_test)\n",
    "f1_hyperopt = metrics.f1_score(y_test, y_test_pred).round(3)\n",
    "print('Random Forest Hyperopt F1-score:', f1_hyperopt)\n",
    "# добавляем значение метрики в список\n",
    "randomforest_f1.append(f1_hyperopt)"
   ]
  },
  {
   "attachments": {},
   "cell_type": "markdown",
   "metadata": {},
   "source": [
    "#### <center> **Optuna** для случайного леса"
   ]
  },
  {
   "cell_type": "code",
   "execution_count": 27,
   "metadata": {},
   "outputs": [],
   "source": [
    "def optuna_rf(trial):\n",
    "  # задаем пространства поиска гиперпараметров\n",
    "  n_estimators = trial.suggest_int('n_estimators', 100, 250, 1)\n",
    "  max_depth = trial.suggest_int('max_depth', 10, 30, 1)\n",
    "  min_samples_leaf = trial.suggest_int('min_samples_leaf', 3, 10, 1)\n",
    "  criterion = trial.suggest_categorical('criterion', ['gini', 'entropy'])\n",
    "  min_samples_split = trial.suggest_int('min_samples_split', 1, 3, 1)\n",
    "\n",
    "  # создаем модель\n",
    "  model = ensemble.RandomForestClassifier(n_estimators=n_estimators,\n",
    "                                          max_depth=max_depth,\n",
    "                                          min_samples_leaf=min_samples_leaf,\n",
    "                                          criterion=criterion,\n",
    "                                          min_samples_split=min_samples_split,\n",
    "                                          random_state=random_state)\n",
    "  # обучаем модель\n",
    "  model.fit(X_train, y_train)\n",
    "  score = cross_val_score(model, X_train, y_train, cv=skf, scoring=\"f1\", n_jobs=-1).mean()\n",
    "  # score = metrics.f1_score(y_train, model.predict(X_train))\n",
    "\n",
    "  return score  "
   ]
  },
  {
   "cell_type": "code",
   "execution_count": 28,
   "metadata": {},
   "outputs": [
    {
     "name": "stderr",
     "output_type": "stream",
     "text": [
      "\u001b[32m[I 2023-03-16 14:50:55,496]\u001b[0m A new study created in memory with name: RandomForestClassifier\u001b[0m\n",
      "\u001b[32m[I 2023-03-16 14:51:04,407]\u001b[0m Trial 0 finished with value: 0.8136239773442316 and parameters: {'n_estimators': 133, 'max_depth': 19, 'min_samples_leaf': 3, 'criterion': 'entropy', 'min_samples_split': 2}. Best is trial 0 with value: 0.8136239773442316.\u001b[0m\n",
      "\u001b[32m[I 2023-03-16 14:51:15,081]\u001b[0m Trial 1 finished with value: 0.8166822551635537 and parameters: {'n_estimators': 192, 'max_depth': 21, 'min_samples_leaf': 6, 'criterion': 'entropy', 'min_samples_split': 3}. Best is trial 1 with value: 0.8166822551635537.\u001b[0m\n",
      "\u001b[32m[I 2023-03-16 14:51:26,256]\u001b[0m Trial 2 finished with value: 0.8194990525000853 and parameters: {'n_estimators': 184, 'max_depth': 27, 'min_samples_leaf': 4, 'criterion': 'entropy', 'min_samples_split': 1}. Best is trial 2 with value: 0.8194990525000853.\u001b[0m\n",
      "\u001b[32m[I 2023-03-16 14:51:33,406]\u001b[0m Trial 3 finished with value: 0.8132153804681753 and parameters: {'n_estimators': 130, 'max_depth': 21, 'min_samples_leaf': 7, 'criterion': 'entropy', 'min_samples_split': 3}. Best is trial 2 with value: 0.8194990525000853.\u001b[0m\n",
      "\u001b[32m[I 2023-03-16 14:51:42,826]\u001b[0m Trial 4 finished with value: 0.8118911502843762 and parameters: {'n_estimators': 181, 'max_depth': 17, 'min_samples_leaf': 4, 'criterion': 'gini', 'min_samples_split': 2}. Best is trial 2 with value: 0.8194990525000853.\u001b[0m\n",
      "\u001b[32m[I 2023-03-16 14:51:49,544]\u001b[0m Trial 5 finished with value: 0.8122275837380094 and parameters: {'n_estimators': 125, 'max_depth': 21, 'min_samples_leaf': 4, 'criterion': 'gini', 'min_samples_split': 2}. Best is trial 2 with value: 0.8194990525000853.\u001b[0m\n",
      "\u001b[32m[I 2023-03-16 14:51:57,153]\u001b[0m Trial 6 finished with value: 0.808838074424829 and parameters: {'n_estimators': 164, 'max_depth': 17, 'min_samples_leaf': 8, 'criterion': 'gini', 'min_samples_split': 2}. Best is trial 2 with value: 0.8194990525000853.\u001b[0m\n",
      "\u001b[32m[I 2023-03-16 14:52:05,991]\u001b[0m Trial 7 finished with value: 0.8127650857914016 and parameters: {'n_estimators': 171, 'max_depth': 17, 'min_samples_leaf': 7, 'criterion': 'gini', 'min_samples_split': 2}. Best is trial 2 with value: 0.8194990525000853.\u001b[0m\n",
      "\u001b[32m[I 2023-03-16 14:52:15,518]\u001b[0m Trial 8 finished with value: 0.8145632807272936 and parameters: {'n_estimators': 163, 'max_depth': 11, 'min_samples_leaf': 5, 'criterion': 'entropy', 'min_samples_split': 3}. Best is trial 2 with value: 0.8194990525000853.\u001b[0m\n",
      "\u001b[32m[I 2023-03-16 14:52:20,536]\u001b[0m Trial 9 finished with value: 0.8103075690449979 and parameters: {'n_estimators': 100, 'max_depth': 16, 'min_samples_leaf': 7, 'criterion': 'gini', 'min_samples_split': 3}. Best is trial 2 with value: 0.8194990525000853.\u001b[0m\n",
      "\u001b[32m[I 2023-03-16 14:52:32,257]\u001b[0m Trial 10 finished with value: 0.8061372680142815 and parameters: {'n_estimators': 236, 'max_depth': 30, 'min_samples_leaf': 10, 'criterion': 'entropy', 'min_samples_split': 1}. Best is trial 2 with value: 0.8194990525000853.\u001b[0m\n",
      "\u001b[32m[I 2023-03-16 14:52:45,091]\u001b[0m Trial 11 finished with value: 0.815341428689752 and parameters: {'n_estimators': 217, 'max_depth': 27, 'min_samples_leaf': 5, 'criterion': 'entropy', 'min_samples_split': 1}. Best is trial 2 with value: 0.8194990525000853.\u001b[0m\n",
      "\u001b[32m[I 2023-03-16 14:52:57,152]\u001b[0m Trial 12 finished with value: 0.8176480256582768 and parameters: {'n_estimators': 200, 'max_depth': 26, 'min_samples_leaf': 5, 'criterion': 'entropy', 'min_samples_split': 1}. Best is trial 2 with value: 0.8194990525000853.\u001b[0m\n",
      "\u001b[32m[I 2023-03-16 14:53:11,086]\u001b[0m Trial 13 finished with value: 0.8208120035922214 and parameters: {'n_estimators': 206, 'max_depth': 26, 'min_samples_leaf': 3, 'criterion': 'entropy', 'min_samples_split': 1}. Best is trial 13 with value: 0.8208120035922214.\u001b[0m\n",
      "\u001b[32m[I 2023-03-16 14:53:27,394]\u001b[0m Trial 14 finished with value: 0.8212781189832079 and parameters: {'n_estimators': 250, 'max_depth': 25, 'min_samples_leaf': 3, 'criterion': 'entropy', 'min_samples_split': 1}. Best is trial 14 with value: 0.8212781189832079.\u001b[0m\n",
      "\u001b[32m[I 2023-03-16 14:53:43,156]\u001b[0m Trial 15 finished with value: 0.8196256517107315 and parameters: {'n_estimators': 242, 'max_depth': 24, 'min_samples_leaf': 3, 'criterion': 'entropy', 'min_samples_split': 1}. Best is trial 14 with value: 0.8212781189832079.\u001b[0m\n",
      "\u001b[32m[I 2023-03-16 14:53:57,221]\u001b[0m Trial 16 finished with value: 0.8215319833626745 and parameters: {'n_estimators': 217, 'max_depth': 30, 'min_samples_leaf': 3, 'criterion': 'entropy', 'min_samples_split': 1}. Best is trial 16 with value: 0.8215319833626745.\u001b[0m\n",
      "\u001b[32m[I 2023-03-16 14:54:09,047]\u001b[0m Trial 17 finished with value: 0.8045116655714235 and parameters: {'n_estimators': 225, 'max_depth': 29, 'min_samples_leaf': 9, 'criterion': 'entropy', 'min_samples_split': 1}. Best is trial 16 with value: 0.8215319833626745.\u001b[0m\n",
      "\u001b[32m[I 2023-03-16 14:54:24,875]\u001b[0m Trial 18 finished with value: 0.8207567332207925 and parameters: {'n_estimators': 247, 'max_depth': 24, 'min_samples_leaf': 3, 'criterion': 'entropy', 'min_samples_split': 1}. Best is trial 16 with value: 0.8215319833626745.\u001b[0m\n",
      "\u001b[32m[I 2023-03-16 14:54:37,534]\u001b[0m Trial 19 finished with value: 0.8172890957443062 and parameters: {'n_estimators': 224, 'max_depth': 30, 'min_samples_leaf': 6, 'criterion': 'entropy', 'min_samples_split': 2}. Best is trial 16 with value: 0.8215319833626745.\u001b[0m\n",
      "\u001b[32m[I 2023-03-16 14:54:52,908]\u001b[0m Trial 20 finished with value: 0.8199571030348413 and parameters: {'n_estimators': 249, 'max_depth': 24, 'min_samples_leaf': 4, 'criterion': 'entropy', 'min_samples_split': 1}. Best is trial 16 with value: 0.8215319833626745.\u001b[0m\n",
      "\u001b[32m[I 2023-03-16 14:55:06,652]\u001b[0m Trial 21 finished with value: 0.8216523962329008 and parameters: {'n_estimators': 207, 'max_depth': 28, 'min_samples_leaf': 3, 'criterion': 'entropy', 'min_samples_split': 1}. Best is trial 21 with value: 0.8216523962329008.\u001b[0m\n",
      "\u001b[32m[I 2023-03-16 14:55:20,497]\u001b[0m Trial 22 finished with value: 0.8204306723663951 and parameters: {'n_estimators': 212, 'max_depth': 28, 'min_samples_leaf': 3, 'criterion': 'entropy', 'min_samples_split': 1}. Best is trial 21 with value: 0.8216523962329008.\u001b[0m\n",
      "\u001b[32m[I 2023-03-16 14:55:34,494]\u001b[0m Trial 23 finished with value: 0.8203487815989389 and parameters: {'n_estimators': 228, 'max_depth': 24, 'min_samples_leaf': 4, 'criterion': 'entropy', 'min_samples_split': 1}. Best is trial 21 with value: 0.8216523962329008.\u001b[0m\n",
      "\u001b[32m[I 2023-03-16 14:55:49,895]\u001b[0m Trial 24 finished with value: 0.8208452591638805 and parameters: {'n_estimators': 233, 'max_depth': 28, 'min_samples_leaf': 3, 'criterion': 'entropy', 'min_samples_split': 1}. Best is trial 21 with value: 0.8216523962329008.\u001b[0m\n",
      "\u001b[32m[I 2023-03-16 14:56:01,888]\u001b[0m Trial 25 finished with value: 0.815733825808492 and parameters: {'n_estimators': 199, 'max_depth': 30, 'min_samples_leaf': 5, 'criterion': 'entropy', 'min_samples_split': 1}. Best is trial 21 with value: 0.8216523962329008.\u001b[0m\n",
      "\u001b[32m[I 2023-03-16 14:56:14,786]\u001b[0m Trial 26 finished with value: 0.8183270965667282 and parameters: {'n_estimators': 210, 'max_depth': 26, 'min_samples_leaf': 4, 'criterion': 'entropy', 'min_samples_split': 2}. Best is trial 21 with value: 0.8216523962329008.\u001b[0m\n",
      "\u001b[32m[I 2023-03-16 14:56:27,018]\u001b[0m Trial 27 finished with value: 0.8171829174542837 and parameters: {'n_estimators': 218, 'max_depth': 23, 'min_samples_leaf': 3, 'criterion': 'gini', 'min_samples_split': 1}. Best is trial 21 with value: 0.8216523962329008.\u001b[0m\n",
      "\u001b[32m[I 2023-03-16 14:56:40,276]\u001b[0m Trial 28 finished with value: 0.8172446722405626 and parameters: {'n_estimators': 238, 'max_depth': 28, 'min_samples_leaf': 6, 'criterion': 'entropy', 'min_samples_split': 1}. Best is trial 21 with value: 0.8216523962329008.\u001b[0m\n",
      "\u001b[32m[I 2023-03-16 14:56:48,025]\u001b[0m Trial 29 finished with value: 0.8138200766907542 and parameters: {'n_estimators': 144, 'max_depth': 10, 'min_samples_leaf': 3, 'criterion': 'entropy', 'min_samples_split': 2}. Best is trial 21 with value: 0.8216523962329008.\u001b[0m\n"
     ]
    },
    {
     "name": "stdout",
     "output_type": "stream",
     "text": [
      "Наилучшие значения гиперпараметров {'n_estimators': 207, 'max_depth': 28, 'min_samples_leaf': 3, 'criterion': 'entropy', 'min_samples_split': 1}\n",
      "CPU times: total: 2min 4s\n",
      "Wall time: 5min 52s\n"
     ]
    }
   ],
   "source": [
    "%%time\n",
    "# cоздаем объект исследования\n",
    "# нам необходимо максимизировать метрику direction=\"maximize\"\n",
    "study = optuna.create_study(study_name=\"RandomForestClassifier\", direction=\"maximize\")\n",
    "# ищем лучшую комбинацию гиперпараметров n_trials раз\n",
    "study.optimize(optuna_rf, n_trials=30)\n",
    "print(\"Наилучшие значения гиперпараметров {}\".format(study.best_params))"
   ]
  },
  {
   "cell_type": "code",
   "execution_count": 29,
   "metadata": {},
   "outputs": [
    {
     "name": "stdout",
     "output_type": "stream",
     "text": [
      "Random Forest Optuna F1-score: 0.807\n"
     ]
    }
   ],
   "source": [
    "# рассчитаем метрику для тестовой выборки\n",
    "model = ensemble.RandomForestClassifier(**study.best_params, random_state=random_state)\n",
    "model.fit(X_train, y_train)\n",
    "y_test_pred = model.predict(X_test)\n",
    "f1_optuna = metrics.f1_score(y_test, y_test_pred).round(3)\n",
    "print('Random Forest Optuna F1-score:', f1_optuna)\n",
    "# добавляем метрику в список\n",
    "randomforest_f1.append(f1_optuna)"
   ]
  },
  {
   "cell_type": "code",
   "execution_count": 30,
   "metadata": {},
   "outputs": [
    {
     "name": "stdout",
     "output_type": "stream",
     "text": [
      "['Hold-out', 'K-fold', 'GSCV', 'RSCV', 'Hyperopt', 'Optuna']\n",
      "[0.78, 0.776, 0.79, 0.79, 0.79, 0.79]\n",
      "[0.793, 0.813, 0.787, 0.791, 0.799, 0.807]\n"
     ]
    }
   ],
   "source": [
    "# проверяем содержимое списков\n",
    "print(types)\n",
    "print(logreg_f1)\n",
    "print(randomforest_f1)"
   ]
  },
  {
   "cell_type": "code",
   "execution_count": 31,
   "metadata": {},
   "outputs": [
    {
     "data": {
      "text/html": [
       "<div>\n",
       "<style scoped>\n",
       "    .dataframe tbody tr th:only-of-type {\n",
       "        vertical-align: middle;\n",
       "    }\n",
       "\n",
       "    .dataframe tbody tr th {\n",
       "        vertical-align: top;\n",
       "    }\n",
       "\n",
       "    .dataframe thead th {\n",
       "        text-align: right;\n",
       "    }\n",
       "</style>\n",
       "<table border=\"1\" class=\"dataframe\">\n",
       "  <thead>\n",
       "    <tr style=\"text-align: right;\">\n",
       "      <th></th>\n",
       "      <th>LogReg F1 score</th>\n",
       "      <th>RandomForest F1 score</th>\n",
       "    </tr>\n",
       "  </thead>\n",
       "  <tbody>\n",
       "    <tr>\n",
       "      <th>Hold-out</th>\n",
       "      <td>0.780</td>\n",
       "      <td>0.793</td>\n",
       "    </tr>\n",
       "    <tr>\n",
       "      <th>K-fold</th>\n",
       "      <td>0.776</td>\n",
       "      <td>0.813</td>\n",
       "    </tr>\n",
       "    <tr>\n",
       "      <th>GSCV</th>\n",
       "      <td>0.790</td>\n",
       "      <td>0.787</td>\n",
       "    </tr>\n",
       "    <tr>\n",
       "      <th>RSCV</th>\n",
       "      <td>0.790</td>\n",
       "      <td>0.791</td>\n",
       "    </tr>\n",
       "    <tr>\n",
       "      <th>Hyperopt</th>\n",
       "      <td>0.790</td>\n",
       "      <td>0.799</td>\n",
       "    </tr>\n",
       "    <tr>\n",
       "      <th>Optuna</th>\n",
       "      <td>0.790</td>\n",
       "      <td>0.807</td>\n",
       "    </tr>\n",
       "  </tbody>\n",
       "</table>\n",
       "</div>"
      ],
      "text/plain": [
       "          LogReg F1 score  RandomForest F1 score\n",
       "Hold-out            0.780                  0.793\n",
       "K-fold              0.776                  0.813\n",
       "GSCV                0.790                  0.787\n",
       "RSCV                0.790                  0.791\n",
       "Hyperopt            0.790                  0.799\n",
       "Optuna              0.790                  0.807"
      ]
     },
     "metadata": {},
     "output_type": "display_data"
    }
   ],
   "source": [
    "# Создаем таблицу с результатами\n",
    "res_df = pd.DataFrame(\n",
    "    data=zip(logreg_f1, randomforest_f1),\n",
    "    columns=['LogReg F1 score', 'RandomForest F1 score'],\n",
    "    index=types\n",
    "    )\n",
    "display(res_df)"
   ]
  },
  {
   "cell_type": "code",
   "execution_count": 32,
   "metadata": {},
   "outputs": [
    {
     "data": {
      "image/png": "[encoded data removed]",
      "text/plain": [
       "<Figure size 800x550 with 2 Axes>"
      ]
     },
     "metadata": {},
     "output_type": "display_data"
    }
   ],
   "source": [
    "# построение визуализации\n",
    "sns.heatmap(res_df, annot=True, fmt ='.3g')\n",
    "plt.title('Значение метрики F1 при различных способах подбора гиперпараметров') # подпись графика\n",
    "sns.set(rc={'figure.figsize':(12, 8)}) #задаем размер графика;"
   ]
  },
  {
   "attachments": {},
   "cell_type": "markdown",
   "metadata": {},
   "source": [
    "Выводы. Различные способы нахождения гиперпараметров показывают похожие результаты. Разница заключается в удобстве применения и скорости их работы"
   ]
  }
 ],
 "metadata": {
  "kernelspec": {
   "display_name": "Python 3",
   "language": "python",
   "name": "python3"
  },
  "language_info": {
   "codemirror_mode": {
    "name": "ipython",
    "version": 3
   },
   "file_extension": ".py",
   "mimetype": "text/x-python",
   "name": "python",
   "nbconvert_exporter": "python",
   "pygments_lexer": "ipython3",
   "version": "3.9.10"
  },
  "orig_nbformat": 4
 },
 "nbformat": 4,
 "nbformat_minor": 2
}
